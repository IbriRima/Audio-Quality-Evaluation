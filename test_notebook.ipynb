{
 "cells": [
  {
   "cell_type": "code",
   "execution_count": 1,
   "metadata": {},
   "outputs": [],
   "source": [
    "import librosa\n",
    "import numpy as np\n",
    "import pandas as pd\n",
    "import json\n",
    "import requests\n",
    "import os\n",
    "import matplotlib.pyplot as plt\n",
    "import IPython.display as ipd\n",
    "from sklearn.cluster import KMeans\n",
    "import plotly.graph_objects as go\n",
    "from pymongo import MongoClient\n",
    "from bson.binary import Binary\n",
    "import plotly.express as px"
   ]
  },
  {
   "cell_type": "code",
   "execution_count": 2,
   "metadata": {},
   "outputs": [
    {
     "data": {
      "text/html": [
       "<div>\n",
       "<style scoped>\n",
       "    .dataframe tbody tr th:only-of-type {\n",
       "        vertical-align: middle;\n",
       "    }\n",
       "\n",
       "    .dataframe tbody tr th {\n",
       "        vertical-align: top;\n",
       "    }\n",
       "\n",
       "    .dataframe thead th {\n",
       "        text-align: right;\n",
       "    }\n",
       "</style>\n",
       "<table border=\"1\" class=\"dataframe\">\n",
       "  <thead>\n",
       "    <tr style=\"text-align: right;\">\n",
       "      <th></th>\n",
       "      <th>original_url</th>\n",
       "      <th>record</th>\n",
       "    </tr>\n",
       "  </thead>\n",
       "  <tbody>\n",
       "    <tr>\n",
       "      <th>0</th>\n",
       "      <td>https://freesound.org/people/kevp888/sounds/71...</td>\n",
       "      <td>https://cdn.freesound.org/previews/712/712632_...</td>\n",
       "    </tr>\n",
       "    <tr>\n",
       "      <th>1</th>\n",
       "      <td>https://freesound.org/people/Robinhood76/sound...</td>\n",
       "      <td>https://cdn.freesound.org/previews/712/712628_...</td>\n",
       "    </tr>\n",
       "    <tr>\n",
       "      <th>2</th>\n",
       "      <td>https://freesound.org/people/josefpres/sounds/...</td>\n",
       "      <td>https://cdn.freesound.org/previews/712/712630_...</td>\n",
       "    </tr>\n",
       "    <tr>\n",
       "      <th>3</th>\n",
       "      <td>https://freesound.org/people/newlocknew/sounds...</td>\n",
       "      <td>https://cdn.freesound.org/previews/712/712629_...</td>\n",
       "    </tr>\n",
       "    <tr>\n",
       "      <th>4</th>\n",
       "      <td>https://freesound.org/people/josefpres/packs/3...</td>\n",
       "      <td>https://cdn.freesound.org/previews/712/712630_...</td>\n",
       "    </tr>\n",
       "  </tbody>\n",
       "</table>\n",
       "</div>"
      ],
      "text/plain": [
       "                                        original_url  \\\n",
       "0  https://freesound.org/people/kevp888/sounds/71...   \n",
       "1  https://freesound.org/people/Robinhood76/sound...   \n",
       "2  https://freesound.org/people/josefpres/sounds/...   \n",
       "3  https://freesound.org/people/newlocknew/sounds...   \n",
       "4  https://freesound.org/people/josefpres/packs/3...   \n",
       "\n",
       "                                              record  \n",
       "0  https://cdn.freesound.org/previews/712/712632_...  \n",
       "1  https://cdn.freesound.org/previews/712/712628_...  \n",
       "2  https://cdn.freesound.org/previews/712/712630_...  \n",
       "3  https://cdn.freesound.org/previews/712/712629_...  \n",
       "4  https://cdn.freesound.org/previews/712/712630_...  "
      ]
     },
     "execution_count": 2,
     "metadata": {},
     "output_type": "execute_result"
    }
   ],
   "source": [
    "json_file_path = \"./speechcrawling/records.json\"\n",
    "with open(json_file_path, 'r') as file:\n",
    "    data = json.load(file)\n",
    "df = pd.DataFrame(data)\n",
    "df.head()"
   ]
  },
  {
   "cell_type": "code",
   "execution_count": 3,
   "metadata": {},
   "outputs": [],
   "source": [
    "def extract_record_name(url):\n",
    "    url_sections= url.split(\"/\")\n",
    "    record = url_sections[-1]\n",
    "    return record"
   ]
  },
  {
   "cell_type": "code",
   "execution_count": 4,
   "metadata": {},
   "outputs": [],
   "source": [
    "def download_and_save(url):\n",
    "    mp3_record = extract_record_name(url)\n",
    "    file_path = \"./mp3_records/\" + mp3_record\n",
    "\n",
    "    if os.path.exists(file_path):\n",
    "        print(f\"The file {mp3_record} already exists. Skipping download!\")\n",
    "    else:\n",
    "        response = requests.get(url)\n",
    "        if response.status_code == 200:\n",
    "            with open(file_path, \"wb\") as file:\n",
    "                file.write(response.content)\n",
    "            print(f\"File {mp3_record} downloaded successfully.\")\n",
    "        else:\n",
    "            print(f\"Failed to download  {mp3_record}. Status code {response.status_code}\")"
   ]
  },
  {
   "cell_type": "code",
   "execution_count": 5,
   "metadata": {},
   "outputs": [
    {
     "name": "stdout",
     "output_type": "stream",
     "text": [
      "The file 712632_9034501-lq.mp3 already exists. Skipping download!\n",
      "The file 712628_321967-lq.mp3 already exists. Skipping download!\n",
      "The file 712630_5674468-lq.mp3 already exists. Skipping download!\n",
      "The file 712629_5828667-lq.mp3 already exists. Skipping download!\n",
      "The file 712630_5674468-lq.mp3 already exists. Skipping download!\n",
      "The file 676694_5674468-lq.mp3 already exists. Skipping download!\n",
      "The file 660950_5674468-lq.mp3 already exists. Skipping download!\n",
      "The file 656816_5674468-lq.mp3 already exists. Skipping download!\n",
      "The file 654671_5674468-lq.mp3 already exists. Skipping download!\n",
      "The file 652687_5674468-lq.mp3 already exists. Skipping download!\n",
      "The file 646029_5674468-lq.mp3 already exists. Skipping download!\n",
      "The file 644491_5674468-lq.mp3 already exists. Skipping download!\n",
      "The file 712627_1089955-lq.mp3 already exists. Skipping download!\n",
      "The file 712628_321967-lq.mp3 already exists. Skipping download!\n",
      "The file 702515_321967-lq.mp3 already exists. Skipping download!\n",
      "The file 633816_321967-lq.mp3 already exists. Skipping download!\n",
      "The file 631769_321967-lq.mp3 already exists. Skipping download!\n",
      "The file 628839_321967-lq.mp3 already exists. Skipping download!\n",
      "The file 614810_321967-lq.mp3 already exists. Skipping download!\n",
      "The file 516854_321967-lq.mp3 already exists. Skipping download!\n",
      "The file 504871_321967-lq.mp3 already exists. Skipping download!\n",
      "The file 502601_321967-lq.mp3 already exists. Skipping download!\n",
      "The file 488327_321967-lq.mp3 already exists. Skipping download!\n",
      "The file 437488_321967-lq.mp3 already exists. Skipping download!\n",
      "The file 342432_321967-lq.mp3 already exists. Skipping download!\n",
      "The file 712630_5674468-lq.mp3 already exists. Skipping download!\n",
      "The file 712612_5674468-lq.mp3 already exists. Skipping download!\n",
      "The file 712561_5674468-lq.mp3 already exists. Skipping download!\n",
      "The file 712559_5674468-lq.mp3 already exists. Skipping download!\n",
      "The file 712455_5674468-lq.mp3 already exists. Skipping download!\n",
      "The file 712210_5674468-lq.mp3 already exists. Skipping download!\n",
      "The file 712180_5674468-lq.mp3 already exists. Skipping download!\n",
      "The file 712089_5674468-lq.mp3 already exists. Skipping download!\n",
      "The file 712080_5674468-lq.mp3 already exists. Skipping download!\n",
      "The file 712028_5674468-lq.mp3 already exists. Skipping download!\n",
      "The file 711941_5674468-lq.mp3 already exists. Skipping download!\n",
      "The file 711856_5674468-lq.mp3 already exists. Skipping download!\n",
      "The file 711630_5674468-lq.mp3 already exists. Skipping download!\n",
      "The file 711563_5674468-lq.mp3 already exists. Skipping download!\n",
      "The file 711561_5674468-lq.mp3 already exists. Skipping download!\n",
      "The file 712571_1648170-lq.mp3 already exists. Skipping download!\n",
      "The file 712628_321967-lq.mp3 already exists. Skipping download!\n",
      "The file 711267_321967-lq.mp3 already exists. Skipping download!\n",
      "The file 709908_321967-lq.mp3 already exists. Skipping download!\n",
      "The file 708266_321967-lq.mp3 already exists. Skipping download!\n",
      "The file 707687_321967-lq.mp3 already exists. Skipping download!\n",
      "The file 706748_321967-lq.mp3 already exists. Skipping download!\n",
      "The file 706077_321967-lq.mp3 already exists. Skipping download!\n",
      "The file 712629_5828667-lq.mp3 already exists. Skipping download!\n",
      "The file 705274_321967-lq.mp3 already exists. Skipping download!\n",
      "The file 586915_5828667-lq.mp3 already exists. Skipping download!\n",
      "The file 704427_321967-lq.mp3 already exists. Skipping download!\n",
      "The file 586914_5828667-lq.mp3 already exists. Skipping download!\n",
      "The file 703810_321967-lq.mp3 already exists. Skipping download!\n",
      "The file 565451_5828667-lq.mp3 already exists. Skipping download!\n",
      "The file 703306_321967-lq.mp3 already exists. Skipping download!\n",
      "The file 565450_5828667-lq.mp3 already exists. Skipping download!\n",
      "The file 702885_321967-lq.mp3 already exists. Skipping download!\n",
      "The file 565449_5828667-lq.mp3 already exists. Skipping download!\n",
      "The file 702515_321967-lq.mp3 already exists. Skipping download!\n",
      "The file 557515_5828667-lq.mp3 already exists. Skipping download!\n",
      "The file 702352_321967-lq.mp3 already exists. Skipping download!\n",
      "The file 557514_5828667-lq.mp3 already exists. Skipping download!\n",
      "The file 701620_321967-lq.mp3 already exists. Skipping download!\n",
      "The file 557513_5828667-lq.mp3 already exists. Skipping download!\n",
      "The file 520056_5828667-lq.mp3 already exists. Skipping download!\n",
      "The file 514062_5828667-lq.mp3 already exists. Skipping download!\n",
      "The file 514061_5828667-lq.mp3 already exists. Skipping download!\n",
      "The file 712627_1089955-lq.mp3 already exists. Skipping download!\n",
      "The file 712626_1089955-lq.mp3 already exists. Skipping download!\n",
      "The file 712620_1089955-lq.mp3 already exists. Skipping download!\n",
      "The file 712619_1089955-lq.mp3 already exists. Skipping download!\n",
      "The file 712588_1089955-lq.mp3 already exists. Skipping download!\n",
      "The file 712498_1089955-lq.mp3 already exists. Skipping download!\n",
      "The file 712497_1089955-lq.mp3 already exists. Skipping download!\n",
      "The file 712496_1089955-lq.mp3 already exists. Skipping download!\n",
      "The file 712495_1089955-lq.mp3 already exists. Skipping download!\n",
      "The file 712480_1089955-lq.mp3 already exists. Skipping download!\n",
      "The file 712479_1089955-lq.mp3 already exists. Skipping download!\n",
      "The file 712466_1089955-lq.mp3 already exists. Skipping download!\n",
      "The file 712465_1089955-lq.mp3 already exists. Skipping download!\n",
      "The file 712452_1089955-lq.mp3 already exists. Skipping download!\n",
      "The file 712385_1089955-lq.mp3 already exists. Skipping download!\n",
      "The file 712632_9034501-lq.mp3 already exists. Skipping download!\n",
      "The file 712562_9034501-lq.mp3 already exists. Skipping download!\n",
      "The file 712107_9034501-lq.mp3 already exists. Skipping download!\n",
      "The file 711786_9034501-lq.mp3 already exists. Skipping download!\n",
      "The file 711283_9034501-lq.mp3 already exists. Skipping download!\n",
      "The file 711170_9034501-lq.mp3 already exists. Skipping download!\n",
      "The file 710999_9034501-lq.mp3 already exists. Skipping download!\n",
      "The file 710760_9034501-lq.mp3 already exists. Skipping download!\n",
      "The file 710557_9034501-lq.mp3 already exists. Skipping download!\n",
      "The file 710378_9034501-lq.mp3 already exists. Skipping download!\n",
      "The file 710105_9034501-lq.mp3 already exists. Skipping download!\n",
      "The file 709924_9034501-lq.mp3 already exists. Skipping download!\n",
      "The file 709655_9034501-lq.mp3 already exists. Skipping download!\n",
      "The file 709482_9034501-lq.mp3 already exists. Skipping download!\n",
      "The file 709305_9034501-lq.mp3 already exists. Skipping download!\n",
      "The file 712571_1648170-lq.mp3 already exists. Skipping download!\n",
      "The file 712570_1648170-lq.mp3 already exists. Skipping download!\n",
      "The file 712294_1648170-lq.mp3 already exists. Skipping download!\n",
      "The file 712148_1648170-lq.mp3 already exists. Skipping download!\n",
      "The file 712064_1648170-lq.mp3 already exists. Skipping download!\n",
      "The file 711995_1648170-lq.mp3 already exists. Skipping download!\n",
      "The file 711798_1648170-lq.mp3 already exists. Skipping download!\n",
      "The file 711741_1648170-lq.mp3 already exists. Skipping download!\n",
      "The file 711631_1648170-lq.mp3 already exists. Skipping download!\n",
      "The file 711517_1648170-lq.mp3 already exists. Skipping download!\n",
      "The file 711457_1648170-lq.mp3 already exists. Skipping download!\n",
      "The file 711348_1648170-lq.mp3 already exists. Skipping download!\n",
      "The file 711284_1648170-lq.mp3 already exists. Skipping download!\n",
      "The file 712232_14909076-lq.mp3 already exists. Skipping download!\n",
      "The file 711211_1648170-lq.mp3 already exists. Skipping download!\n",
      "The file 712122_14909076-lq.mp3 already exists. Skipping download!\n",
      "The file 711195_1648170-lq.mp3 already exists. Skipping download!\n",
      "The file 677524_12579677-lq.mp3 already exists. Skipping download!\n",
      "The file 676902_12579677-lq.mp3 already exists. Skipping download!\n",
      "The file 626197_12579677-lq.mp3 already exists. Skipping download!\n",
      "The file 625345_12579677-lq.mp3 already exists. Skipping download!\n",
      "The file 535357_10912485-lq.mp3 already exists. Skipping download!\n",
      "The file 319759_5121236-lq.mp3 already exists. Skipping download!\n",
      "The file 712447_1015240-lq.mp3 already exists. Skipping download!\n",
      "The file 712295_1015240-lq.mp3 already exists. Skipping download!\n",
      "The file 712082_1015240-lq.mp3 already exists. Skipping download!\n",
      "The file 712069_1015240-lq.mp3 already exists. Skipping download!\n",
      "The file 712016_1015240-lq.mp3 already exists. Skipping download!\n",
      "The file 711930_1015240-lq.mp3 already exists. Skipping download!\n",
      "The file 711708_1015240-lq.mp3 already exists. Skipping download!\n",
      "The file 711516_1015240-lq.mp3 already exists. Skipping download!\n",
      "The file 711326_1015240-lq.mp3 already exists. Skipping download!\n",
      "The file 711246_1015240-lq.mp3 already exists. Skipping download!\n",
      "The file 711194_1015240-lq.mp3 already exists. Skipping download!\n",
      "The file 711169_1015240-lq.mp3 already exists. Skipping download!\n",
      "The file 682990_9453283-lq.mp3 already exists. Skipping download!\n",
      "The file 711082_1015240-lq.mp3 already exists. Skipping download!\n",
      "The file 670496_9453283-lq.mp3 already exists. Skipping download!\n",
      "The file 711045_1015240-lq.mp3 already exists. Skipping download!\n",
      "The file 639091_9453283-lq.mp3 already exists. Skipping download!\n",
      "The file 710988_1015240-lq.mp3 already exists. Skipping download!\n",
      "The file 623056_9453283-lq.mp3 already exists. Skipping download!\n",
      "The file 620529_9453283-lq.mp3 already exists. Skipping download!\n",
      "The file 615518_9453283-lq.mp3 already exists. Skipping download!\n",
      "The file 610115_9453283-lq.mp3 already exists. Skipping download!\n",
      "The file 571483_9453283-lq.mp3 already exists. Skipping download!\n",
      "The file 554783_9453283-lq.mp3 already exists. Skipping download!\n",
      "The file 554782_9453283-lq.mp3 already exists. Skipping download!\n",
      "The file 547113_9453283-lq.mp3 already exists. Skipping download!\n",
      "The file 546174_9453283-lq.mp3 already exists. Skipping download!\n",
      "The file 530619_9453283-lq.mp3 already exists. Skipping download!\n",
      "The file 529480_9453283-lq.mp3 already exists. Skipping download!\n",
      "The file 529340_9453283-lq.mp3 already exists. Skipping download!\n",
      "The file 9159_288-lq.mp3 already exists. Skipping download!\n",
      "The file 9158_288-lq.mp3 already exists. Skipping download!\n",
      "The file 9157_288-lq.mp3 already exists. Skipping download!\n",
      "The file 9156_288-lq.mp3 already exists. Skipping download!\n",
      "The file 9155_288-lq.mp3 already exists. Skipping download!\n",
      "The file 9154_288-lq.mp3 already exists. Skipping download!\n",
      "The file 712493_7037-lq.mp3 already exists. Skipping download!\n",
      "The file 712075_7037-lq.mp3 already exists. Skipping download!\n",
      "The file 712074_7037-lq.mp3 already exists. Skipping download!\n",
      "The file 711245_7037-lq.mp3 already exists. Skipping download!\n",
      "The file 710273_7037-lq.mp3 already exists. Skipping download!\n",
      "The file 710184_7037-lq.mp3 already exists. Skipping download!\n",
      "The file 709035_7037-lq.mp3 already exists. Skipping download!\n",
      "The file 703349_7037-lq.mp3 already exists. Skipping download!\n",
      "The file 703348_7037-lq.mp3 already exists. Skipping download!\n",
      "The file 703314_7037-lq.mp3 already exists. Skipping download!\n",
      "The file 702910_7037-lq.mp3 already exists. Skipping download!\n",
      "The file 702480_7037-lq.mp3 already exists. Skipping download!\n",
      "The file 702479_7037-lq.mp3 already exists. Skipping download!\n",
      "The file 702092_7037-lq.mp3 already exists. Skipping download!\n",
      "The file 700897_7037-lq.mp3 already exists. Skipping download!\n",
      "The file 328949_288-lq.mp3 already exists. Skipping download!\n",
      "The file 328948_288-lq.mp3 already exists. Skipping download!\n",
      "The file 469111_9634718-lq.mp3 already exists. Skipping download!\n",
      "The file 237770_288-lq.mp3 already exists. Skipping download!\n",
      "The file 160240_288-lq.mp3 already exists. Skipping download!\n",
      "The file 160239_288-lq.mp3 already exists. Skipping download!\n",
      "The file 160238_288-lq.mp3 already exists. Skipping download!\n",
      "The file 712627_1089955-lq.mp3 already exists. Skipping download!\n",
      "The file 160237_288-lq.mp3 already exists. Skipping download!\n",
      "The file 710595_1089955-lq.mp3 already exists. Skipping download!\n",
      "The file 160236_288-lq.mp3 already exists. Skipping download!\n",
      "The file 710028_1089955-lq.mp3 already exists. Skipping download!\n",
      "The file 160235_288-lq.mp3 already exists. Skipping download!\n",
      "The file 709115_1089955-lq.mp3 already exists. Skipping download!\n",
      "The file 160234_288-lq.mp3 already exists. Skipping download!\n",
      "The file 708190_1089955-lq.mp3 already exists. Skipping download!\n",
      "The file 160233_288-lq.mp3 already exists. Skipping download!\n",
      "The file 707967_1089955-lq.mp3 already exists. Skipping download!\n",
      "The file 160232_288-lq.mp3 already exists. Skipping download!\n",
      "The file 707895_1089955-lq.mp3 already exists. Skipping download!\n",
      "The file 160231_288-lq.mp3 already exists. Skipping download!\n",
      "The file 707894_1089955-lq.mp3 already exists. Skipping download!\n",
      "The file 9158_288-lq.mp3 already exists. Skipping download!\n",
      "The file 160230_288-lq.mp3 already exists. Skipping download!\n",
      "The file 707893_1089955-lq.mp3 already exists. Skipping download!\n",
      "The file 160229_288-lq.mp3 already exists. Skipping download!\n",
      "The file 707892_1089955-lq.mp3 already exists. Skipping download!\n",
      "The file 57703_712494-lq.mp3 already exists. Skipping download!\n",
      "The file 707243_1089955-lq.mp3 already exists. Skipping download!\n",
      "The file 57702_712494-lq.mp3 already exists. Skipping download!\n",
      "The file 707241_1089955-lq.mp3 already exists. Skipping download!\n",
      "The file 57701_712494-lq.mp3 already exists. Skipping download!\n",
      "The file 472176_9634718-lq.mp3 already exists. Skipping download!\n",
      "The file 469166_9634718-lq.mp3 already exists. Skipping download!\n",
      "The file 469165_9634718-lq.mp3 already exists. Skipping download!\n",
      "The file 469164_9634718-lq.mp3 already exists. Skipping download!\n",
      "The file 469163_9634718-lq.mp3 already exists. Skipping download!\n",
      "The file 469162_9634718-lq.mp3 already exists. Skipping download!\n",
      "The file 469161_9634718-lq.mp3 already exists. Skipping download!\n",
      "The file 469160_9634718-lq.mp3 already exists. Skipping download!\n",
      "The file 469159_9634718-lq.mp3 already exists. Skipping download!\n",
      "The file 469158_9634718-lq.mp3 already exists. Skipping download!\n",
      "The file 469157_9634718-lq.mp3 already exists. Skipping download!\n",
      "The file 469156_9634718-lq.mp3 already exists. Skipping download!\n",
      "The file 469155_9634718-lq.mp3 already exists. Skipping download!\n",
      "The file 469154_9634718-lq.mp3 already exists. Skipping download!\n",
      "The file 469153_9634718-lq.mp3 already exists. Skipping download!\n",
      "The file 57702_712494-lq.mp3 already exists. Skipping download!\n",
      "The file 536076_10912485-lq.mp3 already exists. Skipping download!\n",
      "The file 519225_2825189-lq.mp3 already exists. Skipping download!\n",
      "The file 519237_2825189-lq.mp3 already exists. Skipping download!\n",
      "The file 519225_2825189-lq.mp3 already exists. Skipping download!\n",
      "The file 519098_2825189-lq.mp3 already exists. Skipping download!\n",
      "The file 518968_2825189-lq.mp3 already exists. Skipping download!\n",
      "The file 712629_5828667-lq.mp3 already exists. Skipping download!\n",
      "The file 712564_5828667-lq.mp3 already exists. Skipping download!\n",
      "The file 712425_5828667-lq.mp3 already exists. Skipping download!\n",
      "The file 712004_5828667-lq.mp3 already exists. Skipping download!\n",
      "The file 711281_5828667-lq.mp3 already exists. Skipping download!\n",
      "The file 711236_5828667-lq.mp3 already exists. Skipping download!\n",
      "The file 711134_5828667-lq.mp3 already exists. Skipping download!\n",
      "The file 711133_5828667-lq.mp3 already exists. Skipping download!\n",
      "The file 711132_5828667-lq.mp3 already exists. Skipping download!\n",
      "The file 711131_5828667-lq.mp3 already exists. Skipping download!\n",
      "The file 711130_5828667-lq.mp3 already exists. Skipping download!\n",
      "The file 711059_5828667-lq.mp3 already exists. Skipping download!\n",
      "The file 710233_5828667-lq.mp3 already exists. Skipping download!\n",
      "The file 709722_5828667-lq.mp3 already exists. Skipping download!\n",
      "The file 709341_5828667-lq.mp3 already exists. Skipping download!\n",
      "The file 237927_4019029-lq.mp3 already exists. Skipping download!\n",
      "The file 237928_4019029-lq.mp3 already exists. Skipping download!\n",
      "The file 237927_4019029-lq.mp3 already exists. Skipping download!\n",
      "The file 237926_4019029-lq.mp3 already exists. Skipping download!\n",
      "The file 237925_4019029-lq.mp3 already exists. Skipping download!\n",
      "The file 237924_4019029-lq.mp3 already exists. Skipping download!\n",
      "The file 256596_2305278-lq.mp3 already exists. Skipping download!\n",
      "The file 324882_2305278-lq.mp3 already exists. Skipping download!\n",
      "The file 271444_2305278-lq.mp3 already exists. Skipping download!\n",
      "The file 67774_712494-lq.mp3 already exists. Skipping download!\n",
      "The file 268004_2305278-lq.mp3 already exists. Skipping download!\n",
      "The file 67773_712494-lq.mp3 already exists. Skipping download!\n",
      "The file 256596_2305278-lq.mp3 already exists. Skipping download!\n",
      "The file 61209_712494-lq.mp3 already exists. Skipping download!\n",
      "The file 256594_2305278-lq.mp3 already exists. Skipping download!\n",
      "The file 57713_712494-lq.mp3 already exists. Skipping download!\n",
      "The file 178550_2305278-lq.mp3 already exists. Skipping download!\n",
      "The file 57712_712494-lq.mp3 already exists. Skipping download!\n",
      "The file 157326_2305278-lq.mp3 already exists. Skipping download!\n",
      "The file 57711_712494-lq.mp3 already exists. Skipping download!\n",
      "The file 157321_2305278-lq.mp3 already exists. Skipping download!\n",
      "The file 57710_712494-lq.mp3 already exists. Skipping download!\n",
      "The file 57709_712494-lq.mp3 already exists. Skipping download!\n",
      "The file 57708_712494-lq.mp3 already exists. Skipping download!\n",
      "The file 57707_712494-lq.mp3 already exists. Skipping download!\n",
      "The file 57706_712494-lq.mp3 already exists. Skipping download!\n",
      "The file 57705_712494-lq.mp3 already exists. Skipping download!\n",
      "The file 57704_712494-lq.mp3 already exists. Skipping download!\n",
      "The file 57703_712494-lq.mp3 already exists. Skipping download!\n",
      "The file 57702_712494-lq.mp3 already exists. Skipping download!\n",
      "The file 702575_4019029-lq.mp3 already exists. Skipping download!\n",
      "The file 702572_4019029-lq.mp3 already exists. Skipping download!\n",
      "The file 702571_4019029-lq.mp3 already exists. Skipping download!\n",
      "The file 207145_2568776-lq.mp3 already exists. Skipping download!\n",
      "The file 530065_4019029-lq.mp3 already exists. Skipping download!\n",
      "The file 207144_2568776-lq.mp3 already exists. Skipping download!\n",
      "The file 530064_4019029-lq.mp3 already exists. Skipping download!\n",
      "The file 207143_2568776-lq.mp3 already exists. Skipping download!\n",
      "The file 530063_4019029-lq.mp3 already exists. Skipping download!\n",
      "The file 207142_2568776-lq.mp3 already exists. Skipping download!\n",
      "The file 524743_4019029-lq.mp3 already exists. Skipping download!\n",
      "The file 207141_2568776-lq.mp3 already exists. Skipping download!\n",
      "The file 464517_2568776-lq.mp3 already exists. Skipping download!\n",
      "The file 521988_4019029-lq.mp3 already exists. Skipping download!\n",
      "The file 207140_2568776-lq.mp3 already exists. Skipping download!\n",
      "The file 464516_2568776-lq.mp3 already exists. Skipping download!\n",
      "The file 517267_4019029-lq.mp3 already exists. Skipping download!\n",
      "The file 585573_2305278-lq.mp3 already exists. Skipping download!\n",
      "The file 207134_2568776-lq.mp3 already exists. Skipping download!\n",
      "The file 207139_2568776-lq.mp3 already exists. Skipping download!\n",
      "The file 464515_2568776-lq.mp3 already exists. Skipping download!\n",
      "The file 504687_4019029-lq.mp3 already exists. Skipping download!\n",
      "The file 585571_2305278-lq.mp3 already exists. Skipping download!\n",
      "The file 207138_2568776-lq.mp3 already exists. Skipping download!\n",
      "The file 464514_2568776-lq.mp3 already exists. Skipping download!\n",
      "The file 504686_4019029-lq.mp3 already exists. Skipping download!\n",
      "The file 575658_2305278-lq.mp3 already exists. Skipping download!\n",
      "The file 207137_2568776-lq.mp3 already exists. Skipping download!\n",
      "The file 464513_2568776-lq.mp3 already exists. Skipping download!\n",
      "The file 503832_4019029-lq.mp3 already exists. Skipping download!\n",
      "The file 453072_2305278-lq.mp3 already exists. Skipping download!\n",
      "The file 207136_2568776-lq.mp3 already exists. Skipping download!\n",
      "The file 464512_2568776-lq.mp3 already exists. Skipping download!\n",
      "The file 378402_7020630-lq.mp3 already exists. Skipping download!\n",
      "The file 501346_4019029-lq.mp3 already exists. Skipping download!\n",
      "The file 442285_2305278-lq.mp3 already exists. Skipping download!\n",
      "The file 207135_2568776-lq.mp3 already exists. Skipping download!\n",
      "The file 464511_2568776-lq.mp3 already exists. Skipping download!\n",
      "The file 378401_7020630-lq.mp3 already exists. Skipping download!\n",
      "The file 479057_4019029-lq.mp3 already exists. Skipping download!\n",
      "The file 439512_2305278-lq.mp3 already exists. Skipping download!\n",
      "The file 207134_2568776-lq.mp3 already exists. Skipping download!\n",
      "The file 464510_2568776-lq.mp3 already exists. Skipping download!\n",
      "The file 378400_7020630-lq.mp3 already exists. Skipping download!\n",
      "The file 406730_4019029-lq.mp3 already exists. Skipping download!\n",
      "The file 437528_2305278-lq.mp3 already exists. Skipping download!\n",
      "The file 464509_2568776-lq.mp3 already exists. Skipping download!\n",
      "The file 378399_7020630-lq.mp3 already exists. Skipping download!\n",
      "The file 437064_2305278-lq.mp3 already exists. Skipping download!\n",
      "The file 207145_2568776-lq.mp3 already exists. Skipping download!\n",
      "The file 378398_7020630-lq.mp3 already exists. Skipping download!\n",
      "The file 426472_2305278-lq.mp3 already exists. Skipping download!\n",
      "The file 207144_2568776-lq.mp3 already exists. Skipping download!\n",
      "The file 378397_7020630-lq.mp3 already exists. Skipping download!\n",
      "The file 426471_2305278-lq.mp3 already exists. Skipping download!\n",
      "The file 207143_2568776-lq.mp3 already exists. Skipping download!\n",
      "The file 378396_7020630-lq.mp3 already exists. Skipping download!\n",
      "The file 426470_2305278-lq.mp3 already exists. Skipping download!\n",
      "The file 207142_2568776-lq.mp3 already exists. Skipping download!\n",
      "The file 378395_7020630-lq.mp3 already exists. Skipping download!\n",
      "The file 421906_2305278-lq.mp3 already exists. Skipping download!\n",
      "The file 207141_2568776-lq.mp3 already exists. Skipping download!\n",
      "The file 378394_7020630-lq.mp3 already exists. Skipping download!\n",
      "The file 712057_10912485-lq.mp3 already exists. Skipping download!\n",
      "The file 418735_2305278-lq.mp3 already exists. Skipping download!\n",
      "The file 207140_2568776-lq.mp3 already exists. Skipping download!\n",
      "The file 378393_7020630-lq.mp3 already exists. Skipping download!\n",
      "The file 712052_10912485-lq.mp3 already exists. Skipping download!\n",
      "The file 378394_7020630-lq.mp3 already exists. Skipping download!\n",
      "The file 418321_2305278-lq.mp3 already exists. Skipping download!\n",
      "The file 378392_7020630-lq.mp3 already exists. Skipping download!\n",
      "The file 711956_10912485-lq.mp3 already exists. Skipping download!\n",
      "The file 416170_2305278-lq.mp3 already exists. Skipping download!\n",
      "The file 378391_7020630-lq.mp3 already exists. Skipping download!\n",
      "The file 674746_10912485-lq.mp3 already exists. Skipping download!\n",
      "The file 378390_7020630-lq.mp3 already exists. Skipping download!\n",
      "The file 668272_10912485-lq.mp3 already exists. Skipping download!\n",
      "The file 670682_14597403-lq.mp3 already exists. Skipping download!\n",
      "The file 405561_5121236-lq.mp3 already exists. Skipping download!\n",
      "The file 378389_7020630-lq.mp3 already exists. Skipping download!\n",
      "The file 668246_10912485-lq.mp3 already exists. Skipping download!\n",
      "The file 378388_7020630-lq.mp3 already exists. Skipping download!\n",
      "The file 668245_10912485-lq.mp3 already exists. Skipping download!\n",
      "The file 668244_10912485-lq.mp3 already exists. Skipping download!\n",
      "The file 648155_10912485-lq.mp3 already exists. Skipping download!\n",
      "The file 647149_10912485-lq.mp3 already exists. Skipping download!\n",
      "The file 647148_10912485-lq.mp3 already exists. Skipping download!\n",
      "The file 646938_10912485-lq.mp3 already exists. Skipping download!\n",
      "The file 646937_10912485-lq.mp3 already exists. Skipping download!\n",
      "The file 634365_10912485-lq.mp3 already exists. Skipping download!\n",
      "The file 633141_10912485-lq.mp3 already exists. Skipping download!\n",
      "The file 485076_5121236-lq.mp3 already exists. Skipping download!\n",
      "The file 687374_14597403-lq.mp3 already exists. Skipping download!\n",
      "The file 686811_14597403-lq.mp3 already exists. Skipping download!\n",
      "The file 686810_14597403-lq.mp3 already exists. Skipping download!\n",
      "The file 686809_14597403-lq.mp3 already exists. Skipping download!\n",
      "The file 686808_14597403-lq.mp3 already exists. Skipping download!\n",
      "The file 686807_14597403-lq.mp3 already exists. Skipping download!\n",
      "The file 686806_14597403-lq.mp3 already exists. Skipping download!\n",
      "The file 686805_14597403-lq.mp3 already exists. Skipping download!\n",
      "The file 679540_14597403-lq.mp3 already exists. Skipping download!\n",
      "The file 679539_14597403-lq.mp3 already exists. Skipping download!\n",
      "The file 679538_14597403-lq.mp3 already exists. Skipping download!\n",
      "The file 679537_14597403-lq.mp3 already exists. Skipping download!\n",
      "The file 679536_14597403-lq.mp3 already exists. Skipping download!\n",
      "The file 678938_14597403-lq.mp3 already exists. Skipping download!\n",
      "The file 678937_14597403-lq.mp3 already exists. Skipping download!\n",
      "The file 523365_6142149-lq.mp3 already exists. Skipping download!\n",
      "The file 612642_5828667-lq.mp3 already exists. Skipping download!\n",
      "The file 677376_14597403-lq.mp3 already exists. Skipping download!\n",
      "The file 674183_14597403-lq.mp3 already exists. Skipping download!\n",
      "The file 674182_14597403-lq.mp3 already exists. Skipping download!\n",
      "The file 673473_14597403-lq.mp3 already exists. Skipping download!\n",
      "The file 671965_14597403-lq.mp3 already exists. Skipping download!\n",
      "The file 671964_14597403-lq.mp3 already exists. Skipping download!\n",
      "The file 671963_14597403-lq.mp3 already exists. Skipping download!\n",
      "The file 671183_14597403-lq.mp3 already exists. Skipping download!\n",
      "The file 671182_14597403-lq.mp3 already exists. Skipping download!\n",
      "The file 671181_14597403-lq.mp3 already exists. Skipping download!\n",
      "The file 670682_14597403-lq.mp3 already exists. Skipping download!\n",
      "The file 670681_14597403-lq.mp3 already exists. Skipping download!\n",
      "The file 378402_7020630-lq.mp3 already exists. Skipping download!\n",
      "The file 378401_7020630-lq.mp3 already exists. Skipping download!\n",
      "The file 378400_7020630-lq.mp3 already exists. Skipping download!\n",
      "The file 378399_7020630-lq.mp3 already exists. Skipping download!\n",
      "The file 378398_7020630-lq.mp3 already exists. Skipping download!\n",
      "The file 378397_7020630-lq.mp3 already exists. Skipping download!\n",
      "The file 378396_7020630-lq.mp3 already exists. Skipping download!\n",
      "The file 378395_7020630-lq.mp3 already exists. Skipping download!\n",
      "The file 378394_7020630-lq.mp3 already exists. Skipping download!\n",
      "The file 378393_7020630-lq.mp3 already exists. Skipping download!\n",
      "The file 378392_7020630-lq.mp3 already exists. Skipping download!\n",
      "The file 378391_7020630-lq.mp3 already exists. Skipping download!\n",
      "The file 360328_5121236-lq.mp3 already exists. Skipping download!\n",
      "The file 60013_71257-lq.mp3 already exists. Skipping download!\n",
      "The file 707590_6142149-lq.mp3 already exists. Skipping download!\n",
      "The file 705952_6142149-lq.mp3 already exists. Skipping download!\n",
      "The file 688765_71257-lq.mp3 already exists. Skipping download!\n",
      "The file 650829_5121236-lq.mp3 already exists. Skipping download!\n",
      "The file 705951_6142149-lq.mp3 already exists. Skipping download!\n",
      "The file 686105_71257-lq.mp3 already exists. Skipping download!\n",
      "The file 573189_5121236-lq.mp3 already exists. Skipping download!\n",
      "The file 705950_6142149-lq.mp3 already exists. Skipping download!\n",
      "The file 622237_71257-lq.mp3 already exists. Skipping download!\n",
      "The file 519189_5121236-lq.mp3 already exists. Skipping download!\n",
      "The file 705949_6142149-lq.mp3 already exists. Skipping download!\n",
      "The file 622236_71257-lq.mp3 already exists. Skipping download!\n",
      "The file 485621_5121236-lq.mp3 already exists. Skipping download!\n",
      "The file 705948_6142149-lq.mp3 already exists. Skipping download!\n",
      "The file 614530_71257-lq.mp3 already exists. Skipping download!\n",
      "The file 485420_5121236-lq.mp3 already exists. Skipping download!\n",
      "The file 704612_6142149-lq.mp3 already exists. Skipping download!\n",
      "The file 610547_71257-lq.mp3 already exists. Skipping download!\n",
      "The file 485355_5121236-lq.mp3 already exists. Skipping download!\n",
      "The file 704610_6142149-lq.mp3 already exists. Skipping download!\n",
      "The file 610546_71257-lq.mp3 already exists. Skipping download!\n",
      "The file 485076_5121236-lq.mp3 already exists. Skipping download!\n",
      "The file 704609_6142149-lq.mp3 already exists. Skipping download!\n",
      "The file 577068_71257-lq.mp3 already exists. Skipping download!\n",
      "The file 485009_5121236-lq.mp3 already exists. Skipping download!\n",
      "The file 704608_6142149-lq.mp3 already exists. Skipping download!\n",
      "The file 553871_71257-lq.mp3 already exists. Skipping download!\n",
      "The file 484763_5121236-lq.mp3 already exists. Skipping download!\n",
      "The file 704607_6142149-lq.mp3 already exists. Skipping download!\n",
      "The file 482134_71257-lq.mp3 already exists. Skipping download!\n",
      "The file 484659_5121236-lq.mp3 already exists. Skipping download!\n",
      "The file 704606_6142149-lq.mp3 already exists. Skipping download!\n",
      "The file 482122_71257-lq.mp3 already exists. Skipping download!\n",
      "The file 484470_5121236-lq.mp3 already exists. Skipping download!\n",
      "The file 704605_6142149-lq.mp3 already exists. Skipping download!\n",
      "The file 482121_71257-lq.mp3 already exists. Skipping download!\n",
      "The file 484344_5121236-lq.mp3 already exists. Skipping download!\n",
      "The file 703888_6142149-lq.mp3 already exists. Skipping download!\n",
      "The file 482120_71257-lq.mp3 already exists. Skipping download!\n",
      "The file 484270_5121236-lq.mp3 already exists. Skipping download!\n",
      "The file 703887_6142149-lq.mp3 already exists. Skipping download!\n",
      "The file 454707_71257-lq.mp3 already exists. Skipping download!\n",
      "The file 484269_5121236-lq.mp3 already exists. Skipping download!\n",
      "The file 448995_71257-lq.mp3 already exists. Skipping download!\n",
      "The file 484268_5121236-lq.mp3 already exists. Skipping download!\n",
      "The file 563765_6253486-lq.mp3 already exists. Skipping download!\n",
      "The file 683322_6253486-lq.mp3 already exists. Skipping download!\n",
      "The file 683321_6253486-lq.mp3 already exists. Skipping download!\n",
      "The file 683102_6253486-lq.mp3 already exists. Skipping download!\n",
      "The file 683101_6253486-lq.mp3 already exists. Skipping download!\n",
      "The file 683100_6253486-lq.mp3 already exists. Skipping download!\n",
      "The file 683099_6253486-lq.mp3 already exists. Skipping download!\n",
      "The file 683098_6253486-lq.mp3 already exists. Skipping download!\n",
      "The file 683097_6253486-lq.mp3 already exists. Skipping download!\n",
      "The file 683096_6253486-lq.mp3 already exists. Skipping download!\n",
      "The file 680156_6253486-lq.mp3 already exists. Skipping download!\n",
      "The file 680155_6253486-lq.mp3 already exists. Skipping download!\n",
      "The file 680154_6253486-lq.mp3 already exists. Skipping download!\n",
      "The file 680153_6253486-lq.mp3 already exists. Skipping download!\n",
      "The file 680152_6253486-lq.mp3 already exists. Skipping download!\n",
      "The file 563766_6253486-lq.mp3 already exists. Skipping download!\n",
      "The file 614938_5828667-lq.mp3 already exists. Skipping download!\n",
      "The file 612643_5828667-lq.mp3 already exists. Skipping download!\n",
      "The file 612642_5828667-lq.mp3 already exists. Skipping download!\n",
      "The file 612641_5828667-lq.mp3 already exists. Skipping download!\n",
      "The file 612640_5828667-lq.mp3 already exists. Skipping download!\n",
      "The file 612639_5828667-lq.mp3 already exists. Skipping download!\n",
      "The file 608245_5828667-lq.mp3 already exists. Skipping download!\n",
      "The file 608243_5828667-lq.mp3 already exists. Skipping download!\n",
      "The file 608241_5828667-lq.mp3 already exists. Skipping download!\n",
      "The file 608240_5828667-lq.mp3 already exists. Skipping download!\n",
      "The file 712545_15452710-lq.mp3 already exists. Skipping download!\n",
      "The file 712544_15452710-lq.mp3 already exists. Skipping download!\n",
      "The file 712543_15452710-lq.mp3 already exists. Skipping download!\n",
      "The file 712542_15452710-lq.mp3 already exists. Skipping download!\n",
      "The file 712541_15452710-lq.mp3 already exists. Skipping download!\n",
      "The file 712540_15452710-lq.mp3 already exists. Skipping download!\n",
      "The file 712539_15452710-lq.mp3 already exists. Skipping download!\n",
      "The file 712538_15452710-lq.mp3 already exists. Skipping download!\n",
      "The file 712537_15452710-lq.mp3 already exists. Skipping download!\n",
      "The file 712536_15452710-lq.mp3 already exists. Skipping download!\n",
      "The file 712535_15452710-lq.mp3 already exists. Skipping download!\n",
      "The file 712534_15452710-lq.mp3 already exists. Skipping download!\n",
      "The file 712533_15452710-lq.mp3 already exists. Skipping download!\n",
      "The file 712532_15452710-lq.mp3 already exists. Skipping download!\n",
      "The file 712531_15452710-lq.mp3 already exists. Skipping download!\n",
      "The file 683322_6253486-lq.mp3 already exists. Skipping download!\n",
      "The file 683321_6253486-lq.mp3 already exists. Skipping download!\n",
      "The file 683100_6253486-lq.mp3 already exists. Skipping download!\n",
      "The file 683099_6253486-lq.mp3 already exists. Skipping download!\n",
      "The file 683098_6253486-lq.mp3 already exists. Skipping download!\n",
      "The file 683097_6253486-lq.mp3 already exists. Skipping download!\n",
      "The file 563765_6253486-lq.mp3 already exists. Skipping download!\n",
      "The file 563764_6253486-lq.mp3 already exists. Skipping download!\n",
      "The file 563016_6253486-lq.mp3 already exists. Skipping download!\n",
      "The file 563012_6253486-lq.mp3 already exists. Skipping download!\n",
      "The file 482368_6253486-lq.mp3 already exists. Skipping download!\n",
      "The file 457570_6253486-lq.mp3 already exists. Skipping download!\n",
      "The file 712331_15448864-lq.mp3 already exists. Skipping download!\n",
      "The file 712330_15448864-lq.mp3 already exists. Skipping download!\n",
      "The file 712329_15448864-lq.mp3 already exists. Skipping download!\n",
      "The file 712545_15452710-lq.mp3 already exists. Skipping download!\n",
      "The file 712328_15448864-lq.mp3 already exists. Skipping download!\n",
      "The file 712544_15452710-lq.mp3 already exists. Skipping download!\n",
      "The file 712327_15448864-lq.mp3 already exists. Skipping download!\n",
      "The file 712543_15452710-lq.mp3 already exists. Skipping download!\n",
      "The file 712326_15448864-lq.mp3 already exists. Skipping download!\n",
      "The file 712542_15452710-lq.mp3 already exists. Skipping download!\n",
      "The file 712325_15448864-lq.mp3 already exists. Skipping download!\n",
      "The file 712541_15452710-lq.mp3 already exists. Skipping download!\n",
      "The file 712324_15448864-lq.mp3 already exists. Skipping download!\n",
      "The file 712540_15452710-lq.mp3 already exists. Skipping download!\n",
      "The file 712323_15448864-lq.mp3 already exists. Skipping download!\n",
      "The file 712539_15452710-lq.mp3 already exists. Skipping download!\n",
      "The file 712322_15448864-lq.mp3 already exists. Skipping download!\n",
      "The file 712538_15452710-lq.mp3 already exists. Skipping download!\n",
      "The file 712321_15448864-lq.mp3 already exists. Skipping download!\n",
      "The file 712537_15452710-lq.mp3 already exists. Skipping download!\n",
      "The file 712320_15448864-lq.mp3 already exists. Skipping download!\n",
      "The file 712536_15452710-lq.mp3 already exists. Skipping download!\n",
      "The file 712319_15448864-lq.mp3 already exists. Skipping download!\n",
      "The file 712535_15452710-lq.mp3 already exists. Skipping download!\n",
      "The file 712318_15448864-lq.mp3 already exists. Skipping download!\n",
      "The file 712534_15452710-lq.mp3 already exists. Skipping download!\n",
      "The file 712317_15448864-lq.mp3 already exists. Skipping download!\n",
      "The file 712432_15110067-lq.mp3 already exists. Skipping download!\n",
      "The file 712142_10152894-lq.mp3 already exists. Skipping download!\n",
      "The file 712141_10152894-lq.mp3 already exists. Skipping download!\n",
      "The file 712140_10152894-lq.mp3 already exists. Skipping download!\n",
      "The file 712139_10152894-lq.mp3 already exists. Skipping download!\n",
      "The file 712451_15314137-lq.mp3 already exists. Skipping download!\n",
      "The file 712450_15314137-lq.mp3 already exists. Skipping download!\n",
      "The file 712449_15314137-lq.mp3 already exists. Skipping download!\n",
      "The file 712448_15314137-lq.mp3 already exists. Skipping download!\n",
      "The file 712357_15314137-lq.mp3 already exists. Skipping download!\n",
      "The file 712142_10152894-lq.mp3 already exists. Skipping download!\n",
      "The file 712356_15314137-lq.mp3 already exists. Skipping download!\n",
      "The file 712141_10152894-lq.mp3 already exists. Skipping download!\n",
      "The file 712352_15314137-lq.mp3 already exists. Skipping download!\n",
      "The file 712140_10152894-lq.mp3 already exists. Skipping download!\n",
      "The file 712351_15314137-lq.mp3 already exists. Skipping download!\n",
      "The file 712139_10152894-lq.mp3 already exists. Skipping download!\n",
      "The file 712350_15314137-lq.mp3 already exists. Skipping download!\n",
      "The file 711791_10152894-lq.mp3 already exists. Skipping download!\n",
      "The file 712347_15314137-lq.mp3 already exists. Skipping download!\n",
      "The file 711789_10152894-lq.mp3 already exists. Skipping download!\n",
      "The file 712346_15314137-lq.mp3 already exists. Skipping download!\n",
      "The file 709478_10152894-lq.mp3 already exists. Skipping download!\n",
      "The file 712345_15314137-lq.mp3 already exists. Skipping download!\n",
      "The file 709477_10152894-lq.mp3 already exists. Skipping download!\n",
      "The file 712344_15314137-lq.mp3 already exists. Skipping download!\n",
      "The file 709450_10152894-lq.mp3 already exists. Skipping download!\n",
      "The file 712343_15314137-lq.mp3 already exists. Skipping download!\n",
      "The file 708589_10152894-lq.mp3 already exists. Skipping download!\n",
      "The file 712342_15314137-lq.mp3 already exists. Skipping download!\n",
      "The file 712349_4037248-lq.mp3 already exists. Skipping download!\n",
      "The file 708578_10152894-lq.mp3 already exists. Skipping download!\n",
      "The file 712348_4037248-lq.mp3 already exists. Skipping download!\n",
      "The file 708575_10152894-lq.mp3 already exists. Skipping download!\n",
      "The file 712177_4037248-lq.mp3 already exists. Skipping download!\n",
      "The file 708571_10152894-lq.mp3 already exists. Skipping download!\n",
      "The file 712176_4037248-lq.mp3 already exists. Skipping download!\n",
      "The file 706534_10152894-lq.mp3 already exists. Skipping download!\n",
      "The file 712175_4037248-lq.mp3 already exists. Skipping download!\n",
      "The file 706533_10152894-lq.mp3 already exists. Skipping download!\n",
      "The file 712173_4037248-lq.mp3 already exists. Skipping download!\n",
      "The file 712172_4037248-lq.mp3 already exists. Skipping download!\n",
      "The file 712030_4037248-lq.mp3 already exists. Skipping download!\n",
      "The file 711981_4037248-lq.mp3 already exists. Skipping download!\n",
      "The file 711980_4037248-lq.mp3 already exists. Skipping download!\n",
      "The file 711979_4037248-lq.mp3 already exists. Skipping download!\n",
      "The file 711978_4037248-lq.mp3 already exists. Skipping download!\n",
      "The file 711977_4037248-lq.mp3 already exists. Skipping download!\n",
      "The file 711976_4037248-lq.mp3 already exists. Skipping download!\n",
      "The file 711975_4037248-lq.mp3 already exists. Skipping download!\n",
      "The file 712451_15314137-lq.mp3 already exists. Skipping download!\n",
      "The file 712450_15314137-lq.mp3 already exists. Skipping download!\n",
      "The file 711950_2810953-lq.mp3 already exists. Skipping download!\n",
      "The file 712449_15314137-lq.mp3 already exists. Skipping download!\n",
      "The file 712448_15314137-lq.mp3 already exists. Skipping download!\n",
      "The file 712432_15110067-lq.mp3 already exists. Skipping download!\n",
      "The file 712231_15448660-lq.mp3 already exists. Skipping download!\n",
      "The file 712231_15448660-lq.mp3 already exists. Skipping download!\n",
      "The file 712230_15448660-lq.mp3 already exists. Skipping download!\n",
      "The file 712230_15448660-lq.mp3 already exists. Skipping download!\n",
      "The file 712229_15448660-lq.mp3 already exists. Skipping download!\n",
      "The file 712229_15448660-lq.mp3 already exists. Skipping download!\n",
      "The file 712228_15448660-lq.mp3 already exists. Skipping download!\n",
      "The file 712228_15448660-lq.mp3 already exists. Skipping download!\n",
      "The file 712227_15448660-lq.mp3 already exists. Skipping download!\n",
      "The file 712227_15448660-lq.mp3 already exists. Skipping download!\n",
      "The file 712226_15448660-lq.mp3 already exists. Skipping download!\n",
      "The file 712226_15448660-lq.mp3 already exists. Skipping download!\n",
      "The file 712225_15448660-lq.mp3 already exists. Skipping download!\n",
      "The file 712225_15448660-lq.mp3 already exists. Skipping download!\n",
      "The file 712224_15448660-lq.mp3 already exists. Skipping download!\n",
      "The file 712224_15448660-lq.mp3 already exists. Skipping download!\n",
      "The file 711891_14988552-lq.mp3 already exists. Skipping download!\n",
      "The file 711890_14988552-lq.mp3 already exists. Skipping download!\n",
      "The file 711889_14988552-lq.mp3 already exists. Skipping download!\n",
      "The file 711888_14988552-lq.mp3 already exists. Skipping download!\n",
      "The file 711887_14988552-lq.mp3 already exists. Skipping download!\n",
      "The file 711886_14988552-lq.mp3 already exists. Skipping download!\n",
      "The file 711885_14988552-lq.mp3 already exists. Skipping download!\n",
      "The file 711881_14988552-lq.mp3 already exists. Skipping download!\n",
      "The file 711880_14988552-lq.mp3 already exists. Skipping download!\n",
      "The file 711879_14988552-lq.mp3 already exists. Skipping download!\n",
      "The file 711878_14988552-lq.mp3 already exists. Skipping download!\n",
      "The file 711877_14988552-lq.mp3 already exists. Skipping download!\n",
      "The file 711876_14988552-lq.mp3 already exists. Skipping download!\n",
      "The file 711875_14988552-lq.mp3 already exists. Skipping download!\n",
      "The file 711874_14988552-lq.mp3 already exists. Skipping download!\n",
      "The file 711950_2810953-lq.mp3 already exists. Skipping download!\n",
      "The file 712331_15448864-lq.mp3 already exists. Skipping download!\n",
      "The file 712330_15448864-lq.mp3 already exists. Skipping download!\n",
      "The file 711886_14988552-lq.mp3 already exists. Skipping download!\n",
      "The file 712004_5828667-lq.mp3 already exists. Skipping download!\n",
      "The file 712329_15448864-lq.mp3 already exists. Skipping download!\n",
      "The file 711881_14988552-lq.mp3 already exists. Skipping download!\n",
      "The file 712328_15448864-lq.mp3 already exists. Skipping download!\n",
      "The file 711880_14988552-lq.mp3 already exists. Skipping download!\n",
      "The file 712327_15448864-lq.mp3 already exists. Skipping download!\n",
      "The file 711662_15403889-lq.mp3 already exists. Skipping download!\n",
      "The file 711879_14988552-lq.mp3 already exists. Skipping download!\n",
      "The file 712326_15448864-lq.mp3 already exists. Skipping download!\n",
      "The file 712325_15448864-lq.mp3 already exists. Skipping download!\n",
      "The file 712324_15448864-lq.mp3 already exists. Skipping download!\n",
      "The file 712323_15448864-lq.mp3 already exists. Skipping download!\n",
      "The file 712322_15448864-lq.mp3 already exists. Skipping download!\n",
      "The file 712321_15448864-lq.mp3 already exists. Skipping download!\n",
      "The file 712320_15448864-lq.mp3 already exists. Skipping download!\n",
      "The file 712177_4037248-lq.mp3 already exists. Skipping download!\n",
      "The file 710073_4037248-lq.mp3 already exists. Skipping download!\n",
      "The file 711662_15403889-lq.mp3 already exists. Skipping download!\n",
      "The file 710015_4037248-lq.mp3 already exists. Skipping download!\n",
      "The file 710014_4037248-lq.mp3 already exists. Skipping download!\n",
      "The file 710013_4037248-lq.mp3 already exists. Skipping download!\n",
      "The file 710012_4037248-lq.mp3 already exists. Skipping download!\n",
      "The file 710011_4037248-lq.mp3 already exists. Skipping download!\n",
      "The file 710010_4037248-lq.mp3 already exists. Skipping download!\n",
      "The file 710009_4037248-lq.mp3 already exists. Skipping download!\n",
      "The file 710008_4037248-lq.mp3 already exists. Skipping download!\n",
      "The file 709422_4037248-lq.mp3 already exists. Skipping download!\n",
      "The file 698191_4037248-lq.mp3 already exists. Skipping download!\n",
      "The file 712004_5828667-lq.mp3 already exists. Skipping download!\n",
      "The file 705783_5828667-lq.mp3 already exists. Skipping download!\n",
      "The file 702908_5828667-lq.mp3 already exists. Skipping download!\n",
      "The file 668965_5828667-lq.mp3 already exists. Skipping download!\n",
      "The file 517299_5828667-lq.mp3 already exists. Skipping download!\n",
      "The file 517298_5828667-lq.mp3 already exists. Skipping download!\n",
      "The file 711856_5674468-lq.mp3 already exists. Skipping download!\n",
      "The file 711563_5674468-lq.mp3 already exists. Skipping download!\n",
      "The file 711561_5674468-lq.mp3 already exists. Skipping download!\n",
      "The file 712117_15403889-lq.mp3 already exists. Skipping download!\n",
      "The file 712115_15403889-lq.mp3 already exists. Skipping download!\n",
      "The file 712114_15403889-lq.mp3 already exists. Skipping download!\n",
      "The file 711665_15403889-lq.mp3 already exists. Skipping download!\n",
      "The file 711856_5674468-lq.mp3 already exists. Skipping download!\n",
      "The file 711664_15403889-lq.mp3 already exists. Skipping download!\n",
      "The file 711663_15403889-lq.mp3 already exists. Skipping download!\n",
      "The file 711662_15403889-lq.mp3 already exists. Skipping download!\n",
      "The file 711660_15403889-lq.mp3 already exists. Skipping download!\n",
      "The file 711496_15403889-lq.mp3 already exists. Skipping download!\n",
      "The file 711495_15403889-lq.mp3 already exists. Skipping download!\n",
      "The file 712309_15090270-lq.mp3 already exists. Skipping download!\n",
      "The file 711494_15403889-lq.mp3 already exists. Skipping download!\n",
      "The file 712308_15090270-lq.mp3 already exists. Skipping download!\n",
      "The file 711493_15403889-lq.mp3 already exists. Skipping download!\n",
      "The file 712307_15090270-lq.mp3 already exists. Skipping download!\n",
      "The file 711492_15403889-lq.mp3 already exists. Skipping download!\n",
      "The file 712306_15090270-lq.mp3 already exists. Skipping download!\n",
      "The file 711490_15403889-lq.mp3 already exists. Skipping download!\n",
      "The file 712305_15090270-lq.mp3 already exists. Skipping download!\n",
      "The file 711275_15403889-lq.mp3 already exists. Skipping download!\n",
      "The file 712304_15090270-lq.mp3 already exists. Skipping download!\n",
      "The file 712303_15090270-lq.mp3 already exists. Skipping download!\n",
      "The file 712302_15090270-lq.mp3 already exists. Skipping download!\n",
      "The file 712298_15090270-lq.mp3 already exists. Skipping download!\n",
      "The file 711640_15090270-lq.mp3 already exists. Skipping download!\n",
      "The file 711639_15090270-lq.mp3 already exists. Skipping download!\n",
      "The file 711638_15090270-lq.mp3 already exists. Skipping download!\n",
      "The file 711637_15090270-lq.mp3 already exists. Skipping download!\n",
      "The file 711636_15090270-lq.mp3 already exists. Skipping download!\n",
      "The file 711635_15090270-lq.mp3 already exists. Skipping download!\n",
      "The file 712455_5674468-lq.mp3 already exists. Skipping download!\n",
      "The file 712458_8698658-lq.mp3 already exists. Skipping download!\n",
      "The file 712017_8698658-lq.mp3 already exists. Skipping download!\n",
      "The file 711790_1719057-lq.mp3 already exists. Skipping download!\n",
      "The file 712456_8698658-lq.mp3 already exists. Skipping download!\n",
      "The file 640946_1719057-lq.mp3 already exists. Skipping download!\n",
      "The file 712073_8698658-lq.mp3 already exists. Skipping download!\n",
      "The file 456042_1719057-lq.mp3 already exists. Skipping download!\n",
      "The file 712067_8698658-lq.mp3 already exists. Skipping download!\n",
      "The file 455472_1719057-lq.mp3 already exists. Skipping download!\n",
      "The file 712066_8698658-lq.mp3 already exists. Skipping download!\n",
      "The file 411419_1719057-lq.mp3 already exists. Skipping download!\n",
      "The file 712065_8698658-lq.mp3 already exists. Skipping download!\n",
      "The file 712041_8698658-lq.mp3 already exists. Skipping download!\n",
      "The file 712025_8698658-lq.mp3 already exists. Skipping download!\n",
      "The file 712023_8698658-lq.mp3 already exists. Skipping download!\n",
      "The file 712022_8698658-lq.mp3 already exists. Skipping download!\n",
      "The file 712017_8698658-lq.mp3 already exists. Skipping download!\n",
      "The file 711123_8698658-lq.mp3 already exists. Skipping download!\n",
      "The file 711071_8698658-lq.mp3 already exists. Skipping download!\n",
      "The file 711070_8698658-lq.mp3 already exists. Skipping download!\n",
      "The file 711069_8698658-lq.mp3 already exists. Skipping download!\n",
      "The file 712307_15090270-lq.mp3 already exists. Skipping download!\n",
      "The file 711790_1719057-lq.mp3 already exists. Skipping download!\n",
      "The file 712306_15090270-lq.mp3 already exists. Skipping download!\n",
      "The file 711636_15090270-lq.mp3 already exists. Skipping download!\n",
      "The file 712455_5674468-lq.mp3 already exists. Skipping download!\n",
      "The file 703478_15090270-lq.mp3 already exists. Skipping download!\n",
      "The file 676649_5674468-lq.mp3 already exists. Skipping download!\n",
      "The file 702864_15090270-lq.mp3 already exists. Skipping download!\n",
      "The file 661227_5674468-lq.mp3 already exists. Skipping download!\n",
      "The file 701233_15090270-lq.mp3 already exists. Skipping download!\n",
      "The file 656660_5674468-lq.mp3 already exists. Skipping download!\n",
      "The file 701232_15090270-lq.mp3 already exists. Skipping download!\n",
      "The file 654666_5674468-lq.mp3 already exists. Skipping download!\n",
      "The file 699213_15090270-lq.mp3 already exists. Skipping download!\n",
      "The file 652467_5674468-lq.mp3 already exists. Skipping download!\n",
      "The file 699211_15090270-lq.mp3 already exists. Skipping download!\n",
      "The file 642368_5674468-lq.mp3 already exists. Skipping download!\n",
      "The file 698943_15090270-lq.mp3 already exists. Skipping download!\n",
      "The file 641755_5674468-lq.mp3 already exists. Skipping download!\n",
      "The file 698099_15090270-lq.mp3 already exists. Skipping download!\n",
      "The file 697083_15090270-lq.mp3 already exists. Skipping download!\n",
      "The file 712552_15101941-lq.mp3 already exists. Skipping download!\n",
      "The file 712110_15412548-lq.mp3 already exists. Skipping download!\n",
      "The file 711705_15101941-lq.mp3 already exists. Skipping download!\n",
      "The file 712549_15101941-lq.mp3 already exists. Skipping download!\n",
      "The file 712109_15412548-lq.mp3 already exists. Skipping download!\n",
      "The file 712548_15101941-lq.mp3 already exists. Skipping download!\n",
      "The file 711280_15412548-lq.mp3 already exists. Skipping download!\n",
      "The file 711706_15101941-lq.mp3 already exists. Skipping download!\n",
      "The file 711152_15412548-lq.mp3 already exists. Skipping download!\n",
      "The file 711705_15101941-lq.mp3 already exists. Skipping download!\n",
      "The file 711147_15412548-lq.mp3 already exists. Skipping download!\n",
      "The file 711704_15101941-lq.mp3 already exists. Skipping download!\n",
      "The file 711146_15412548-lq.mp3 already exists. Skipping download!\n",
      "The file 709980_15101941-lq.mp3 already exists. Skipping download!\n",
      "The file 709979_15101941-lq.mp3 already exists. Skipping download!\n",
      "The file 709978_15101941-lq.mp3 already exists. Skipping download!\n",
      "The file 709886_15101941-lq.mp3 already exists. Skipping download!\n",
      "The file 709885_15101941-lq.mp3 already exists. Skipping download!\n",
      "The file 709883_15101941-lq.mp3 already exists. Skipping download!\n",
      "The file 711636_15090270-lq.mp3 already exists. Skipping download!\n",
      "The file 712213_10323256-lq.mp3 already exists. Skipping download!\n",
      "The file 712116_10323256-lq.mp3 already exists. Skipping download!\n",
      "The file 712113_10323256-lq.mp3 already exists. Skipping download!\n",
      "The file 711858_10323256-lq.mp3 already exists. Skipping download!\n",
      "The file 711794_10323256-lq.mp3 already exists. Skipping download!\n",
      "The file 712552_15101941-lq.mp3 already exists. Skipping download!\n",
      "The file 712188_12637308-lq.mp3 already exists. Skipping download!\n",
      "The file 712551_15101941-lq.mp3 already exists. Skipping download!\n",
      "The file 712110_15412548-lq.mp3 already exists. Skipping download!\n",
      "The file 712550_15101941-lq.mp3 already exists. Skipping download!\n",
      "The file 712549_15101941-lq.mp3 already exists. Skipping download!\n",
      "The file 712548_15101941-lq.mp3 already exists. Skipping download!\n",
      "The file 711707_15101941-lq.mp3 already exists. Skipping download!\n",
      "The file 711706_15101941-lq.mp3 already exists. Skipping download!\n",
      "The file 711705_15101941-lq.mp3 already exists. Skipping download!\n",
      "The file 711704_15101941-lq.mp3 already exists. Skipping download!\n",
      "The file 711703_15101941-lq.mp3 already exists. Skipping download!\n",
      "The file 709980_15101941-lq.mp3 already exists. Skipping download!\n",
      "The file 709979_15101941-lq.mp3 already exists. Skipping download!\n",
      "The file 709978_15101941-lq.mp3 already exists. Skipping download!\n",
      "The file 709977_15101941-lq.mp3 already exists. Skipping download!\n",
      "The file 709976_15101941-lq.mp3 already exists. Skipping download!\n",
      "The file 712213_10323256-lq.mp3 already exists. Skipping download!\n",
      "The file 712188_12637308-lq.mp3 already exists. Skipping download!\n",
      "The file 712090_12637308-lq.mp3 already exists. Skipping download!\n",
      "The file 711647_12637308-lq.mp3 already exists. Skipping download!\n",
      "The file 711643_12637308-lq.mp3 already exists. Skipping download!\n",
      "The file 711642_12637308-lq.mp3 already exists. Skipping download!\n",
      "The file 711641_12637308-lq.mp3 already exists. Skipping download!\n",
      "The file 696049_12637308-lq.mp3 already exists. Skipping download!\n",
      "The file 693609_12637308-lq.mp3 already exists. Skipping download!\n",
      "The file 690704_12637308-lq.mp3 already exists. Skipping download!\n",
      "The file 683011_12637308-lq.mp3 already exists. Skipping download!\n",
      "The file 681178_12637308-lq.mp3 already exists. Skipping download!\n",
      "The file 679733_12637308-lq.mp3 already exists. Skipping download!\n",
      "The file 678689_12637308-lq.mp3 already exists. Skipping download!\n",
      "The file 677752_12637308-lq.mp3 already exists. Skipping download!\n",
      "The file 677636_12637308-lq.mp3 already exists. Skipping download!\n",
      "The file 712187_9931663-lq.mp3 already exists. Skipping download!\n",
      "The file 538911_9931663-lq.mp3 already exists. Skipping download!\n",
      "The file 712187_9931663-lq.mp3 already exists. Skipping download!\n",
      "The file 538910_9931663-lq.mp3 already exists. Skipping download!\n",
      "The file 538909_9931663-lq.mp3 already exists. Skipping download!\n",
      "The file 712188_12637308-lq.mp3 already exists. Skipping download!\n",
      "The file 468209_9931663-lq.mp3 already exists. Skipping download!\n",
      "The file 711647_12637308-lq.mp3 already exists. Skipping download!\n",
      "The file 711643_12637308-lq.mp3 already exists. Skipping download!\n",
      "The file 693609_12637308-lq.mp3 already exists. Skipping download!\n",
      "The file 678689_12637308-lq.mp3 already exists. Skipping download!\n",
      "The file 677752_12637308-lq.mp3 already exists. Skipping download!\n",
      "The file 676957_12637308-lq.mp3 already exists. Skipping download!\n",
      "The file 668597_12637308-lq.mp3 already exists. Skipping download!\n",
      "The file 666980_12637308-lq.mp3 already exists. Skipping download!\n",
      "The file 666208_12637308-lq.mp3 already exists. Skipping download!\n",
      "The file 664191_12637308-lq.mp3 already exists. Skipping download!\n",
      "The file 663271_12637308-lq.mp3 already exists. Skipping download!\n",
      "The file 712202_5223-lq.mp3 already exists. Skipping download!\n",
      "The file 712106_5223-lq.mp3 already exists. Skipping download!\n",
      "The file 711946_5223-lq.mp3 already exists. Skipping download!\n",
      "The file 711744_5223-lq.mp3 already exists. Skipping download!\n",
      "The file 711318_5223-lq.mp3 already exists. Skipping download!\n",
      "The file 708267_5223-lq.mp3 already exists. Skipping download!\n",
      "The file 706927_5223-lq.mp3 already exists. Skipping download!\n",
      "The file 706603_5223-lq.mp3 already exists. Skipping download!\n",
      "The file 706338_5223-lq.mp3 already exists. Skipping download!\n",
      "The file 706178_5223-lq.mp3 already exists. Skipping download!\n",
      "The file 705763_5223-lq.mp3 already exists. Skipping download!\n",
      "The file 705314_5223-lq.mp3 already exists. Skipping download!\n",
      "The file 705004_5223-lq.mp3 already exists. Skipping download!\n",
      "The file 704865_5223-lq.mp3 already exists. Skipping download!\n",
      "The file 703572_5223-lq.mp3 already exists. Skipping download!\n",
      "The file 712202_5223-lq.mp3 already exists. Skipping download!\n",
      "The file 712106_5223-lq.mp3 already exists. Skipping download!\n",
      "The file 711946_5223-lq.mp3 already exists. Skipping download!\n",
      "The file 711744_5223-lq.mp3 already exists. Skipping download!\n",
      "The file 711318_5223-lq.mp3 already exists. Skipping download!\n",
      "The file 692882_5223-lq.mp3 already exists. Skipping download!\n",
      "The file 684902_5223-lq.mp3 already exists. Skipping download!\n",
      "The file 684547_5223-lq.mp3 already exists. Skipping download!\n",
      "The file 674728_5223-lq.mp3 already exists. Skipping download!\n",
      "The file 652698_5223-lq.mp3 already exists. Skipping download!\n",
      "The file 651874_5223-lq.mp3 already exists. Skipping download!\n",
      "The file 641639_5223-lq.mp3 already exists. Skipping download!\n",
      "The file 712218_12187251-lq.mp3 already exists. Skipping download!\n",
      "The file 712209_7785680-lq.mp3 already exists. Skipping download!\n",
      "The file 712209_7785680-lq.mp3 already exists. Skipping download!\n",
      "The file 712208_7785680-lq.mp3 already exists. Skipping download!\n",
      "The file 712202_5223-lq.mp3 already exists. Skipping download!\n",
      "The file 712218_12187251-lq.mp3 already exists. Skipping download!\n",
      "The file 710172_12187251-lq.mp3 already exists. Skipping download!\n",
      "The file 710167_12187251-lq.mp3 already exists. Skipping download!\n",
      "The file 712571_1648170-lq.mp3 already exists. Skipping download!\n",
      "The file 710113_12187251-lq.mp3 already exists. Skipping download!\n",
      "The file 712294_1648170-lq.mp3 already exists. Skipping download!\n",
      "The file 710108_12187251-lq.mp3 already exists. Skipping download!\n",
      "The file 710926_1648170-lq.mp3 already exists. Skipping download!\n",
      "The file 709296_12187251-lq.mp3 already exists. Skipping download!\n",
      "The file 707114_1648170-lq.mp3 already exists. Skipping download!\n",
      "The file 709289_12187251-lq.mp3 already exists. Skipping download!\n",
      "The file 706494_1648170-lq.mp3 already exists. Skipping download!\n",
      "The file 709278_12187251-lq.mp3 already exists. Skipping download!\n",
      "The file 706245_1648170-lq.mp3 already exists. Skipping download!\n",
      "The file 709213_12187251-lq.mp3 already exists. Skipping download!\n",
      "The file 699878_1648170-lq.mp3 already exists. Skipping download!\n",
      "The file 709212_12187251-lq.mp3 already exists. Skipping download!\n",
      "The file 698080_1648170-lq.mp3 already exists. Skipping download!\n",
      "The file 709199_12187251-lq.mp3 already exists. Skipping download!\n",
      "The file 687125_1648170-lq.mp3 already exists. Skipping download!\n",
      "The file 709195_12187251-lq.mp3 already exists. Skipping download!\n",
      "The file 683645_1648170-lq.mp3 already exists. Skipping download!\n",
      "The file 709194_12187251-lq.mp3 already exists. Skipping download!\n",
      "The file 682532_1648170-lq.mp3 already exists. Skipping download!\n",
      "The file 709176_12187251-lq.mp3 already exists. Skipping download!\n",
      "The file 682499_1648170-lq.mp3 already exists. Skipping download!\n",
      "The file 709172_12187251-lq.mp3 already exists. Skipping download!\n",
      "The file 712111_15412548-lq.mp3 already exists. Skipping download!\n",
      "The file 712110_15412548-lq.mp3 already exists. Skipping download!\n",
      "The file 712109_15412548-lq.mp3 already exists. Skipping download!\n",
      "The file 711488_15412548-lq.mp3 already exists. Skipping download!\n",
      "The file 711487_15412548-lq.mp3 already exists. Skipping download!\n",
      "The file 711486_15412548-lq.mp3 already exists. Skipping download!\n",
      "The file 711485_15412548-lq.mp3 already exists. Skipping download!\n",
      "The file 711484_15412548-lq.mp3 already exists. Skipping download!\n",
      "The file 711483_15412548-lq.mp3 already exists. Skipping download!\n",
      "The file 711280_15412548-lq.mp3 already exists. Skipping download!\n",
      "The file 711279_15412548-lq.mp3 already exists. Skipping download!\n",
      "The file 711278_15412548-lq.mp3 already exists. Skipping download!\n",
      "The file 711277_15412548-lq.mp3 already exists. Skipping download!\n",
      "The file 711276_15412548-lq.mp3 already exists. Skipping download!\n",
      "The file 711155_15412548-lq.mp3 already exists. Skipping download!\n"
     ]
    }
   ],
   "source": [
    "for url in df['record']:\n",
    "    download_and_save(url)\n"
   ]
  },
  {
   "cell_type": "code",
   "execution_count": 6,
   "metadata": {},
   "outputs": [],
   "source": [
    "def get_all_records(directory_path):\n",
    "    files_and_directories = os.listdir(directory_path)\n",
    "    records_list=[]\n",
    "    for item in files_and_directories:\n",
    "        full_path = os.path.join(directory_path, item)\n",
    "        if os.path.isfile(full_path):\n",
    "            records_list.append(item)\n",
    "    return records_list"
   ]
  },
  {
   "cell_type": "code",
   "execution_count": 7,
   "metadata": {},
   "outputs": [],
   "source": [
    "def display_raw_audio (path):\n",
    "    audio, sample_rate = librosa.load(path, sr=None)\n",
    "    time = librosa.times_like(audio, sr=sample_rate)\n",
    "    plt.figure(figsize=(15, 5))\n",
    "    plt.plot(time, audio, label='Waveform')\n",
    "    plt.title('Raw Audio')\n",
    "    plt.xlabel('Time (s)')\n",
    "    plt.ylabel('Amplitude')\n",
    "    plt.legend()\n",
    "    plt.show()\n",
    "    print(\"The sampled audio is returned as a numpy array (time series) and has\", audio.shape[0], \"samples.\")\n",
    "    print(\"The 10 randomly picked consecutive samples of the audio are:\", audio[3000:3010])\n",
    "    y_trimmed, _ = librosa.effects.trim(audio, top_db=20)\n",
    "    pd.Series(y_trimmed).plot(figsize=(10, 5),\n",
    "                    lw=1,\n",
    "                    title='Raw Audio Trimmed')\n",
    "    plt.show()\n",
    "    return audio"
   ]
  },
  {
   "cell_type": "code",
   "execution_count": 8,
   "metadata": {},
   "outputs": [
    {
     "data": {
      "text/html": [
       "\n",
       "                <audio  controls=\"controls\" >\n",
       "                    <source src=\"data:audio/mpeg;base64,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\" type=\"audio/mpeg\" />\n",
       "                    Your browser does not support the audio element.\n",
       "                </audio>\n",
       "              "
      ],
      "text/plain": [
       "<IPython.lib.display.Audio object>"
      ]
     },
     "execution_count": 8,
     "metadata": {},
     "output_type": "execute_result"
    }
   ],
   "source": [
    "ipd.Audio('./mp3_records/626197_12579677-lq.mp3')"
   ]
  },
  {
   "cell_type": "code",
   "execution_count": 9,
   "metadata": {},
   "outputs": [
    {
     "data": {
      "image/png": "[encoded data removed]",
      "text/plain": [
       "<Figure size 1500x500 with 1 Axes>"
      ]
     },
     "metadata": {},
     "output_type": "display_data"
    },
    {
     "name": "stdout",
     "output_type": "stream",
     "text": [
      "The sampled audio is returned as a numpy array (time series) and has 82393 samples.\n",
      "The 10 randomly picked consecutive samples of the audio are: [0. 0. 0. 0. 0. 0. 0. 0. 0. 0.]\n"
     ]
    },
    {
     "data": {
      "image/png": "[encoded data removed]",
      "text/plain": [
       "<Figure size 1000x500 with 1 Axes>"
      ]
     },
     "metadata": {},
     "output_type": "display_data"
    }
   ],
   "source": [
    "audio_626197_12579677=display_raw_audio('./mp3_records/157321_2305278-lq.mp3')"
   ]
  },
  {
   "cell_type": "code",
   "execution_count": 10,
   "metadata": {},
   "outputs": [],
   "source": [
    "def display_spectogram(audio):\n",
    "    D = librosa.stft(audio)\n",
    "    S_db = librosa.amplitude_to_db(np.abs(D), ref=np.max)\n",
    "    S_db.shape\n",
    "    fig, ax = plt.subplots(figsize=(10, 5))\n",
    "    img = librosa.display.specshow(S_db,\n",
    "                                x_axis='time',\n",
    "                                y_axis='log',\n",
    "                                ax=ax)\n",
    "    ax.set_title('Spectogram', fontsize=20)\n",
    "    fig.colorbar(img, ax=ax, format=f'%0.2f')\n",
    "    plt.show()\n",
    "    return S_db"
   ]
  },
  {
   "cell_type": "code",
   "execution_count": 11,
   "metadata": {},
   "outputs": [
    {
     "data": {
      "image/png": "[encoded data removed]",
      "text/plain": [
       "<Figure size 1000x500 with 2 Axes>"
      ]
     },
     "metadata": {},
     "output_type": "display_data"
    }
   ],
   "source": [
    "S_db_626197_12579677=display_spectogram(audio_626197_12579677)"
   ]
  },
  {
   "cell_type": "code",
   "execution_count": 12,
   "metadata": {},
   "outputs": [
    {
     "name": "stdout",
     "output_type": "stream",
     "text": [
      "feature matrix:[[  0.         105.21004879]\n",
      " [  0.39591338   3.37982017]\n",
      " [  0.79182677   3.41695426]\n",
      " ...\n",
      " [ -1.18774015   1.26853963]\n",
      " [ -0.79182677   3.41695426]\n",
      " [ -0.39591338   3.37982017]]\n"
     ]
    },
    {
     "data": {
      "image/png": "[encoded data removed]",
      "text/plain": [
       "<Figure size 640x480 with 1 Axes>"
      ]
     },
     "metadata": {},
     "output_type": "display_data"
    }
   ],
   "source": [
    "audio, sample_rate = librosa.load('./mp3_records/626197_12579677-lq.mp3', sr=None)\n",
    "fft_result = np.fft.fft(audio)\n",
    "frequencies = np.fft.fftfreq(len(fft_result), 1 / sample_rate)\n",
    "feature_matrix = np.column_stack((frequencies, np.abs(fft_result)))\n",
    "print(f'feature matrix:{feature_matrix}')\n",
    "plt.plot(frequencies, np.abs(fft_result))\n",
    "plt.title('Frequency Response')\n",
    "plt.xlabel('Frequency (Hz)')\n",
    "plt.ylabel('Magnitude')\n",
    "plt.show()\n"
   ]
  },
  {
   "cell_type": "code",
   "execution_count": 13,
   "metadata": {},
   "outputs": [
    {
     "data": {
      "text/plain": [
       "(27847, 2)"
      ]
     },
     "execution_count": 13,
     "metadata": {},
     "output_type": "execute_result"
    }
   ],
   "source": [
    "np.shape(feature_matrix)"
   ]
  },
  {
   "cell_type": "code",
   "execution_count": 14,
   "metadata": {},
   "outputs": [],
   "source": [
    "def estimate_noise(signal, speech_estimate):\n",
    "    # Estimate noise by subtracting the estimated speech from the original signal\n",
    "    noise_estimate = signal - speech_estimate\n",
    "    return noise_estimate"
   ]
  },
  {
   "cell_type": "code",
   "execution_count": 15,
   "metadata": {},
   "outputs": [],
   "source": [
    "def calculate_snr(rms_audio, rms_noise):\n",
    "    snr = 20 * np.log10( rms_audio / rms_noise )\n",
    "    return snr"
   ]
  },
  {
   "cell_type": "code",
   "execution_count": 16,
   "metadata": {},
   "outputs": [],
   "source": [
    "def calculate_rms(signal):\n",
    "    return np.sqrt(np.mean(signal**2))"
   ]
  },
  {
   "cell_type": "code",
   "execution_count": 17,
   "metadata": {},
   "outputs": [],
   "source": [
    "def calculate_MFCCs(audio,sr):\n",
    "    mfccs = librosa.feature.mfcc(y=audio, sr=sr, n_mfcc=13)\n",
    "    mfcc = np.mean(librosa.feature.mfcc(y=x, sr=sr, n_mfcc=50).T, axis=0)\n",
    "    mfccs_delta = librosa.feature.delta(mfccs)\n",
    "    mfccs_delta2 = librosa.feature.delta(mfccs, order=2)\n",
    "    return mfcc,mfccs,mfccs_delta,mfccs_delta2"
   ]
  },
  {
   "cell_type": "code",
   "execution_count": 18,
   "metadata": {},
   "outputs": [],
   "source": [
    "def calculate_autocorrelation(audio_signal):\n",
    "    autocorr = np.correlate(audio_signal, audio_signal, mode='full')\n",
    "    autocorr = autocorr[len(autocorr)//2:]\n",
    "    autocorr /= np.max(autocorr)\n",
    "    return autocorr"
   ]
  },
  {
   "cell_type": "code",
   "execution_count": 19,
   "metadata": {},
   "outputs": [],
   "source": [
    "def calculate_fundamental_frequency(autocorr, sample_rate):\n",
    "    peak_index = np.argmax(autocorr[1:]) + 1\n",
    "    fundamental_freq = sample_rate / peak_index\n",
    "    return fundamental_freq"
   ]
  },
  {
   "cell_type": "code",
   "execution_count": 20,
   "metadata": {},
   "outputs": [],
   "source": [
    "def calculate_thd(audio_signal, fundamental_frequency):\n",
    "    spectrum = np.fft.fft(audio_signal)\n",
    "\n",
    "    fundamental_index = int(fundamental_frequency * len(audio_signal) / 44100) \n",
    "    \n",
    "    # Calculate THD\n",
    "    harmonic_indices = [2, 3, 4, 5]  # Consider harmonics up to the 5th\n",
    "    thd = np.sqrt(np.sum(np.abs(spectrum[harmonic_indices])**2)) / np.abs(spectrum[fundamental_index]) * 100\n",
    "    \n",
    "    return thd"
   ]
  },
  {
   "cell_type": "code",
   "execution_count": 21,
   "metadata": {},
   "outputs": [],
   "source": [
    "def calculate_dynamic_range_db( audio,rms_audio):\n",
    "    peak_amplitude = np.max(np.abs(audio))\n",
    "    dynamic_range_db = 20 * np.log10(peak_amplitude / rms_audio)\n",
    "    return dynamic_range_db"
   ]
  },
  {
   "cell_type": "code",
   "execution_count": 22,
   "metadata": {},
   "outputs": [],
   "source": [
    "def calculate_speech_level(audio,sample_rate):\n",
    "    spectral_centroid = librosa.feature.spectral_centroid(y=audio, sr=sample_rate)[0]\n",
    "    speech_level = np.mean(spectral_centroid)\n",
    "    return speech_level"
   ]
  },
  {
   "cell_type": "code",
   "execution_count": 23,
   "metadata": {},
   "outputs": [],
   "source": [
    "def audio_features(file_path):\n",
    "    try:\n",
    "        # Load audio file\n",
    "        audio, sample_rate = librosa.load(file_path, sr=None)\n",
    "   \n",
    "        # Calculate audio RMS\n",
    "        rms_audio = calculate_rms(audio)\n",
    "\n",
    "        #Calculate dynamic range of the audio signal in decibels\n",
    "        dynamic_range_db=calculate_dynamic_range_db( audio,rms_audio)\n",
    "\n",
    "        # Calculate Speech Level\n",
    "        speech_level = calculate_speech_level(audio,sample_rate)\n",
    "\n",
    "        # Pre-emphasis to the audio signal using a pre-emphasis filter\n",
    "        speech_estimate = librosa.effects.preemphasis(audio)\n",
    "\n",
    "        # Estimate noise\n",
    "        noise_estimate = estimate_noise(audio, speech_estimate)\n",
    "\n",
    "        # Calculate noise RMS\n",
    "        rms_noise = calculate_rms(noise_estimate)\n",
    "\n",
    "        # Calculate SNR ratio\n",
    "        snr=calculate_snr(rms_audio,rms_noise)\n",
    "\n",
    "        return speech_level, snr,rms_noise,sample_rate,dynamic_range_db,rms_audio\n",
    "    \n",
    "    except Exception as e:\n",
    "        print(f\"Error loading audio file: {e}\")\n",
    "        return None"
   ]
  },
  {
   "cell_type": "code",
   "execution_count": 26,
   "metadata": {},
   "outputs": [],
   "source": [
    "def create_dataframe(csv_file,mp3_directory='./mp3_records/'):\n",
    "    data_list=[]\n",
    "    records_list=get_all_records(mp3_directory)\n",
    "    for record in records_list:\n",
    "        info_quality = audio_features('./mp3_records/' + record)\n",
    "        if info_quality is not None:\n",
    "            data_list.append({'record': record, 'speech_level': info_quality[0], 'snr': info_quality[1],\\\n",
    "                            'rms_noise':info_quality[2],'sample_rate':info_quality[3],\\\n",
    "                            'dynamic_range_db':info_quality[4],'rms_audio':info_quality[5]})\n",
    "    data=pd.DataFrame(data_list) \n",
    "    os.makedirs('./data', exist_ok=True)\n",
    "    data.to_csv('./data/'+csv_file,index=False)\n",
    "    return data"
   ]
  },
  {
   "cell_type": "code",
   "execution_count": 28,
   "metadata": {},
   "outputs": [
    {
     "name": "stderr",
     "output_type": "stream",
     "text": [
      "c:\\Users\\rimai\\Desktop\\Data-Engineering-Working-Student-Position\\venv\\lib\\site-packages\\librosa\\core\\spectrum.py:257: UserWarning: n_fft=2048 is too large for input signal of length=557\n",
      "  warnings.warn(\n"
     ]
    },
    {
     "name": "stdout",
     "output_type": "stream",
     "text": [
      "Error loading audio file: Unable to allocate 1.18 GiB for an array with shape (1025, 154351) and data type float64\n"
     ]
    }
   ],
   "source": [
    "data=create_dataframe('records.csv',mp3_directory='./mp3_records/')"
   ]
  },
  {
   "cell_type": "code",
   "execution_count": null,
   "metadata": {},
   "outputs": [
    {
     "name": "stdout",
     "output_type": "stream",
     "text": [
      "<class 'pandas.core.frame.DataFrame'>\n",
      "RangeIndex: 739 entries, 0 to 738\n",
      "Data columns (total 7 columns):\n",
      " #   Column            Non-Null Count  Dtype  \n",
      "---  ------            --------------  -----  \n",
      " 0   record            739 non-null    object \n",
      " 1   speech_level      739 non-null    float64\n",
      " 2   snr               739 non-null    float64\n",
      " 3   rms_noise         739 non-null    float32\n",
      " 4   sample_rate       739 non-null    int64  \n",
      " 5   dynamic_range_db  739 non-null    float64\n",
      " 6   rms_audio         739 non-null    float32\n",
      "dtypes: float32(2), float64(3), int64(1), object(1)\n",
      "memory usage: 34.8+ KB\n"
     ]
    }
   ],
   "source": [
    "data.info()"
   ]
  },
  {
   "cell_type": "code",
   "execution_count": null,
   "metadata": {},
   "outputs": [
    {
     "data": {
      "text/html": [
       "<div>\n",
       "<style scoped>\n",
       "    .dataframe tbody tr th:only-of-type {\n",
       "        vertical-align: middle;\n",
       "    }\n",
       "\n",
       "    .dataframe tbody tr th {\n",
       "        vertical-align: top;\n",
       "    }\n",
       "\n",
       "    .dataframe thead th {\n",
       "        text-align: right;\n",
       "    }\n",
       "</style>\n",
       "<table border=\"1\" class=\"dataframe\">\n",
       "  <thead>\n",
       "    <tr style=\"text-align: right;\">\n",
       "      <th></th>\n",
       "      <th>speech_level</th>\n",
       "      <th>snr</th>\n",
       "      <th>rms_noise</th>\n",
       "      <th>sample_rate</th>\n",
       "      <th>dynamic_range_db</th>\n",
       "      <th>rms_audio</th>\n",
       "    </tr>\n",
       "  </thead>\n",
       "  <tbody>\n",
       "    <tr>\n",
       "      <th>count</th>\n",
       "      <td>739.000000</td>\n",
       "      <td>739.000000</td>\n",
       "      <td>739.000000</td>\n",
       "      <td>739.000000</td>\n",
       "      <td>739.000000</td>\n",
       "      <td>739.000000</td>\n",
       "    </tr>\n",
       "    <tr>\n",
       "      <th>mean</th>\n",
       "      <td>1909.905642</td>\n",
       "      <td>0.264587</td>\n",
       "      <td>0.070421</td>\n",
       "      <td>25958.525034</td>\n",
       "      <td>18.677761</td>\n",
       "      <td>0.072600</td>\n",
       "    </tr>\n",
       "    <tr>\n",
       "      <th>std</th>\n",
       "      <td>1354.050951</td>\n",
       "      <td>0.000797</td>\n",
       "      <td>0.060955</td>\n",
       "      <td>6256.287357</td>\n",
       "      <td>5.917306</td>\n",
       "      <td>0.062849</td>\n",
       "    </tr>\n",
       "    <tr>\n",
       "      <th>min</th>\n",
       "      <td>32.342205</td>\n",
       "      <td>0.262317</td>\n",
       "      <td>0.000859</td>\n",
       "      <td>11025.000000</td>\n",
       "      <td>5.852084</td>\n",
       "      <td>0.000886</td>\n",
       "    </tr>\n",
       "    <tr>\n",
       "      <th>25%</th>\n",
       "      <td>886.538827</td>\n",
       "      <td>0.264565</td>\n",
       "      <td>0.027709</td>\n",
       "      <td>24000.000000</td>\n",
       "      <td>14.407704</td>\n",
       "      <td>0.028566</td>\n",
       "    </tr>\n",
       "    <tr>\n",
       "      <th>50%</th>\n",
       "      <td>1601.609160</td>\n",
       "      <td>0.264565</td>\n",
       "      <td>0.054589</td>\n",
       "      <td>24000.000000</td>\n",
       "      <td>17.249860</td>\n",
       "      <td>0.056278</td>\n",
       "    </tr>\n",
       "    <tr>\n",
       "      <th>75%</th>\n",
       "      <td>2594.146242</td>\n",
       "      <td>0.264566</td>\n",
       "      <td>0.096265</td>\n",
       "      <td>24000.000000</td>\n",
       "      <td>21.512735</td>\n",
       "      <td>0.099242</td>\n",
       "    </tr>\n",
       "    <tr>\n",
       "      <th>max</th>\n",
       "      <td>8985.782478</td>\n",
       "      <td>0.285969</td>\n",
       "      <td>0.445901</td>\n",
       "      <td>48000.000000</td>\n",
       "      <td>41.510086</td>\n",
       "      <td>0.460826</td>\n",
       "    </tr>\n",
       "  </tbody>\n",
       "</table>\n",
       "</div>"
      ],
      "text/plain": [
       "       speech_level         snr   rms_noise   sample_rate  dynamic_range_db  \\\n",
       "count    739.000000  739.000000  739.000000    739.000000        739.000000   \n",
       "mean    1909.905642    0.264587    0.070421  25958.525034         18.677761   \n",
       "std     1354.050951    0.000797    0.060955   6256.287357          5.917306   \n",
       "min       32.342205    0.262317    0.000859  11025.000000          5.852084   \n",
       "25%      886.538827    0.264565    0.027709  24000.000000         14.407704   \n",
       "50%     1601.609160    0.264565    0.054589  24000.000000         17.249860   \n",
       "75%     2594.146242    0.264566    0.096265  24000.000000         21.512735   \n",
       "max     8985.782478    0.285969    0.445901  48000.000000         41.510086   \n",
       "\n",
       "        rms_audio  \n",
       "count  739.000000  \n",
       "mean     0.072600  \n",
       "std      0.062849  \n",
       "min      0.000886  \n",
       "25%      0.028566  \n",
       "50%      0.056278  \n",
       "75%      0.099242  \n",
       "max      0.460826  "
      ]
     },
     "execution_count": 34,
     "metadata": {},
     "output_type": "execute_result"
    }
   ],
   "source": [
    "data.describe()"
   ]
  },
  {
   "cell_type": "code",
   "execution_count": null,
   "metadata": {},
   "outputs": [
    {
     "data": {
      "text/plain": [
       "sample_rate\n",
       "24000    665\n",
       "44100     52\n",
       "48000     18\n",
       "11025      2\n",
       "22050      2\n",
       "Name: count, dtype: int64"
      ]
     },
     "execution_count": 35,
     "metadata": {},
     "output_type": "execute_result"
    }
   ],
   "source": [
    "data['sample_rate'].value_counts()"
   ]
  },
  {
   "cell_type": "code",
   "execution_count": null,
   "metadata": {},
   "outputs": [
    {
     "data": {
      "text/plain": [
       "count    739.000000\n",
       "mean       0.264587\n",
       "std        0.000797\n",
       "min        0.262317\n",
       "25%        0.264565\n",
       "50%        0.264565\n",
       "75%        0.264566\n",
       "max        0.285969\n",
       "Name: snr, dtype: float64"
      ]
     },
     "execution_count": 36,
     "metadata": {},
     "output_type": "execute_result"
    }
   ],
   "source": [
    "data['snr'].describe()"
   ]
  },
  {
   "cell_type": "code",
   "execution_count": null,
   "metadata": {},
   "outputs": [],
   "source": [
    "data.to_csv('records.csv',index=False)"
   ]
  },
  {
   "cell_type": "code",
   "execution_count": null,
   "metadata": {},
   "outputs": [],
   "source": [
    "# Connect to MongoDB\n",
    "client = MongoClient('localhost', 27017)\n",
    "db = client['records']\n",
    "metadata_collection = db['audios']\n",
    "\n",
    "# Read and insert binary data for each audio file in the DataFrame\n",
    "for index, row in data.iterrows():\n",
    "    audio_file_path = f\"./mp3_records/{row['record']}\"\n",
    "    \n",
    "    # Read binary data from the audio file\n",
    "    with open(audio_file_path, 'rb') as audio_file:\n",
    "        audio_binary = Binary(audio_file.read())\n",
    "    \n",
    "    # Create a document with metadata and binary data\n",
    "    record_document = {\n",
    "        'filename': row['record'],\n",
    "        'speech_level': row['speech_level'],\n",
    "        'rms_audio':row['rms_audio'],\n",
    "        'rms_noise': row['rms_noise'],\n",
    "        'snr': row['snr'],\n",
    "        'sample_rate': row['sample_rate'],\n",
    "        'dynamic_range_db': row['dynamic_range_db'],\n",
    "        'audio_data': audio_binary\n",
    "    }\n",
    "\n",
    "    # Insert the document into the MongoDB collection\n",
    "    metadata_collection.insert_one(record_document)\n"
   ]
  },
  {
   "cell_type": "code",
   "execution_count": null,
   "metadata": {},
   "outputs": [
    {
     "name": "stdout",
     "output_type": "stream",
     "text": [
      "                           _id               filename  speech_level       snr  \\\n",
      "0     656a7b846371bab619da8900  157321_2305278-lq.mp3   4783.927389  0.264565   \n",
      "1     656a7b846371bab619da8901  157326_2305278-lq.mp3   4195.299024  0.264564   \n",
      "2     656a7b846371bab619da8902      160229_288-lq.mp3   2693.866885  0.264564   \n",
      "3     656a7b846371bab619da8903      160230_288-lq.mp3   6282.672665  0.264563   \n",
      "4     656a7b846371bab619da8904      160231_288-lq.mp3   6608.544751  0.264562   \n",
      "...                        ...                    ...           ...       ...   \n",
      "2949  656ca3514d673ee19d3aa96d        9155_288-lq.mp3   3057.816615  0.264564   \n",
      "2950  656ca3514d673ee19d3aa96e        9156_288-lq.mp3   2981.780100  0.264566   \n",
      "2951  656ca3514d673ee19d3aa96f        9157_288-lq.mp3   2927.007814  0.264567   \n",
      "2952  656ca3514d673ee19d3aa970        9158_288-lq.mp3   2636.605678  0.264566   \n",
      "2953  656ca3514d673ee19d3aa971        9159_288-lq.mp3   3325.751229  0.264565   \n",
      "\n",
      "      rms_noise  sample_rate  dynamic_range_db  \\\n",
      "0      0.027707        24000         19.733253   \n",
      "1      0.190935        24000         16.146494   \n",
      "2      0.021932        44100         24.249692   \n",
      "3      0.019021        44100         27.536585   \n",
      "4      0.009633        44100         28.346336   \n",
      "...         ...          ...               ...   \n",
      "2949   0.109851        24000         17.087520   \n",
      "2950   0.125165        24000         12.443244   \n",
      "2951   0.087809        24000         15.668277   \n",
      "2952   0.154794        24000         11.036960   \n",
      "2953   0.198501        24000         11.101097   \n",
      "\n",
      "                                             audio_data  \n",
      "0     b'\\xff\\xf3\\x84d\\x00\\x00\\x00\\x00\\x00\\x00\\x00\\x0...  \n",
      "1     b'\\xff\\xf3\\x84d\\x00\\x00\\x00\\x00\\x00\\x00\\x00\\x0...  \n",
      "2     b'\\xff\\xfb\\x90\\xc4\\x00\\x00\\x00\\x00\\x00\\x00\\x00...  \n",
      "3     b'\\xff\\xfb\\x90\\xc4\\x00\\x00\\x00\\x00\\x00\\x00\\x00...  \n",
      "4     b'\\xff\\xfb\\x90\\xc4\\x00\\x00\\x00\\x00\\x00\\x00\\x00...  \n",
      "...                                                 ...  \n",
      "2949  b'\\xff\\xf3\\x84d\\x00\\x00\\x00\\x00\\x00\\x00\\x00\\x0...  \n",
      "2950  b'\\xff\\xf3\\x84d\\x00\\x00\\x00\\x00\\x00\\x00\\x00\\x0...  \n",
      "2951  b'\\xff\\xf3\\x84d\\x00\\x00\\x00\\x00\\x00\\x00\\x00\\x0...  \n",
      "2952  b'\\xff\\xf3\\x84d\\x00\\x00\\x00\\x00\\x00\\x00\\x00\\x0...  \n",
      "2953  b'\\xff\\xf3\\x84d\\x00\\x00\\x00\\x00\\x00\\x00\\x00\\x0...  \n",
      "\n",
      "[2954 rows x 8 columns]\n"
     ]
    }
   ],
   "source": [
    "# Connect to MongoDB\n",
    "client = MongoClient('localhost', 27017)\n",
    "db = client['records']\n",
    "metadata_collection = db['audios']\n",
    "\n",
    "# Example query: Find all documents in the collection\n",
    "cursor = metadata_collection.find()\n",
    "\n",
    "# Convert cursor to DataFrame for easy manipulation\n",
    "result_df = pd.DataFrame(list(cursor))\n",
    "\n",
    "# Display the resulting DataFrame\n",
    "print(result_df)\n"
   ]
  },
  {
   "cell_type": "markdown",
   "metadata": {},
   "source": [
    "# Clustering"
   ]
  },
  {
   "cell_type": "code",
   "execution_count": 33,
   "metadata": {},
   "outputs": [],
   "source": [
    "data_cluster=data[['rms_noise','speech_level','dynamic_range_db']]"
   ]
  },
  {
   "cell_type": "code",
   "execution_count": 48,
   "metadata": {},
   "outputs": [],
   "source": [
    "def elbow_method(data):\n",
    "    num_clusters_range = range(1, 11)  # Try clusters from 1 to 10\n",
    "    sse = [] \n",
    "    for num_clusters in num_clusters_range:\n",
    "        kmeans = KMeans(n_clusters=num_clusters, random_state=42,n_init='auto',max_iter=25)\n",
    "        kmeans.fit(data)\n",
    "        sse.append(kmeans.inertia_)\n",
    "\n",
    "    plt.plot(num_clusters_range, sse, marker='o')\n",
    "    plt.title('Elbow Plot')\n",
    "    plt.xlabel('Number of Clusters (K)')\n",
    "    plt.ylabel('Sum of Squared Distances')\n",
    "    plt.show()\n"
   ]
  },
  {
   "cell_type": "code",
   "execution_count": 49,
   "metadata": {},
   "outputs": [
    {
     "data": {
      "image/png": "[encoded data removed]",
      "text/plain": [
       "<Figure size 640x480 with 1 Axes>"
      ]
     },
     "metadata": {},
     "output_type": "display_data"
    }
   ],
   "source": [
    "elbow_method(data_cluster)"
   ]
  },
  {
   "cell_type": "code",
   "execution_count": 36,
   "metadata": {},
   "outputs": [
    {
     "data": {
      "text/html": [
       "<style>#sk-container-id-2 {color: black;}#sk-container-id-2 pre{padding: 0;}#sk-container-id-2 div.sk-toggleable {background-color: white;}#sk-container-id-2 label.sk-toggleable__label {cursor: pointer;display: block;width: 100%;margin-bottom: 0;padding: 0.3em;box-sizing: border-box;text-align: center;}#sk-container-id-2 label.sk-toggleable__label-arrow:before {content: \"▸\";float: left;margin-right: 0.25em;color: #696969;}#sk-container-id-2 label.sk-toggleable__label-arrow:hover:before {color: black;}#sk-container-id-2 div.sk-estimator:hover label.sk-toggleable__label-arrow:before {color: black;}#sk-container-id-2 div.sk-toggleable__content {max-height: 0;max-width: 0;overflow: hidden;text-align: left;background-color: #f0f8ff;}#sk-container-id-2 div.sk-toggleable__content pre {margin: 0.2em;color: black;border-radius: 0.25em;background-color: #f0f8ff;}#sk-container-id-2 input.sk-toggleable__control:checked~div.sk-toggleable__content {max-height: 200px;max-width: 100%;overflow: auto;}#sk-container-id-2 input.sk-toggleable__control:checked~label.sk-toggleable__label-arrow:before {content: \"▾\";}#sk-container-id-2 div.sk-estimator input.sk-toggleable__control:checked~label.sk-toggleable__label {background-color: #d4ebff;}#sk-container-id-2 div.sk-label input.sk-toggleable__control:checked~label.sk-toggleable__label {background-color: #d4ebff;}#sk-container-id-2 input.sk-hidden--visually {border: 0;clip: rect(1px 1px 1px 1px);clip: rect(1px, 1px, 1px, 1px);height: 1px;margin: -1px;overflow: hidden;padding: 0;position: absolute;width: 1px;}#sk-container-id-2 div.sk-estimator {font-family: monospace;background-color: #f0f8ff;border: 1px dotted black;border-radius: 0.25em;box-sizing: border-box;margin-bottom: 0.5em;}#sk-container-id-2 div.sk-estimator:hover {background-color: #d4ebff;}#sk-container-id-2 div.sk-parallel-item::after {content: \"\";width: 100%;border-bottom: 1px solid gray;flex-grow: 1;}#sk-container-id-2 div.sk-label:hover label.sk-toggleable__label {background-color: #d4ebff;}#sk-container-id-2 div.sk-serial::before {content: \"\";position: absolute;border-left: 1px solid gray;box-sizing: border-box;top: 0;bottom: 0;left: 50%;z-index: 0;}#sk-container-id-2 div.sk-serial {display: flex;flex-direction: column;align-items: center;background-color: white;padding-right: 0.2em;padding-left: 0.2em;position: relative;}#sk-container-id-2 div.sk-item {position: relative;z-index: 1;}#sk-container-id-2 div.sk-parallel {display: flex;align-items: stretch;justify-content: center;background-color: white;position: relative;}#sk-container-id-2 div.sk-item::before, #sk-container-id-2 div.sk-parallel-item::before {content: \"\";position: absolute;border-left: 1px solid gray;box-sizing: border-box;top: 0;bottom: 0;left: 50%;z-index: -1;}#sk-container-id-2 div.sk-parallel-item {display: flex;flex-direction: column;z-index: 1;position: relative;background-color: white;}#sk-container-id-2 div.sk-parallel-item:first-child::after {align-self: flex-end;width: 50%;}#sk-container-id-2 div.sk-parallel-item:last-child::after {align-self: flex-start;width: 50%;}#sk-container-id-2 div.sk-parallel-item:only-child::after {width: 0;}#sk-container-id-2 div.sk-dashed-wrapped {border: 1px dashed gray;margin: 0 0.4em 0.5em 0.4em;box-sizing: border-box;padding-bottom: 0.4em;background-color: white;}#sk-container-id-2 div.sk-label label {font-family: monospace;font-weight: bold;display: inline-block;line-height: 1.2em;}#sk-container-id-2 div.sk-label-container {text-align: center;}#sk-container-id-2 div.sk-container {/* jupyter's `normalize.less` sets `[hidden] { display: none; }` but bootstrap.min.css set `[hidden] { display: none !important; }` so we also need the `!important` here to be able to override the default hidden behavior on the sphinx rendered scikit-learn.org. See: https://github.com/scikit-learn/scikit-learn/issues/21755 */display: inline-block !important;position: relative;}#sk-container-id-2 div.sk-text-repr-fallback {display: none;}</style><div id=\"sk-container-id-2\" class=\"sk-top-container\"><div class=\"sk-text-repr-fallback\"><pre>KMeans(max_iter=15, n_clusters=2, n_init=&#x27;auto&#x27;, random_state=42)</pre><b>In a Jupyter environment, please rerun this cell to show the HTML representation or trust the notebook. <br />On GitHub, the HTML representation is unable to render, please try loading this page with nbviewer.org.</b></div><div class=\"sk-container\" hidden><div class=\"sk-item\"><div class=\"sk-estimator sk-toggleable\"><input class=\"sk-toggleable__control sk-hidden--visually\" id=\"sk-estimator-id-2\" type=\"checkbox\" checked><label for=\"sk-estimator-id-2\" class=\"sk-toggleable__label sk-toggleable__label-arrow\">KMeans</label><div class=\"sk-toggleable__content\"><pre>KMeans(max_iter=15, n_clusters=2, n_init=&#x27;auto&#x27;, random_state=42)</pre></div></div></div></div></div>"
      ],
      "text/plain": [
       "KMeans(max_iter=15, n_clusters=2, n_init='auto', random_state=42)"
      ]
     },
     "execution_count": 36,
     "metadata": {},
     "output_type": "execute_result"
    }
   ],
   "source": [
    "kmeans = KMeans(n_clusters=2, random_state=42,n_init='auto',max_iter=15)\n",
    "kmeans.fit(data_cluster)"
   ]
  },
  {
   "cell_type": "code",
   "execution_count": 37,
   "metadata": {},
   "outputs": [],
   "source": [
    "cluster_centers = kmeans.cluster_centers_\n",
    "labels = kmeans.labels_\n",
    "data_cluster['label']=labels"
   ]
  },
  {
   "cell_type": "code",
   "execution_count": 39,
   "metadata": {},
   "outputs": [],
   "source": [
    "def labels_pie_plot(data_cluster):\n",
    "    # Count the occurrences of each unique value in the 'label' column\n",
    "    label_counts = data_cluster['label'].value_counts()\n",
    "\n",
    "    # Create a Pie chart using Plotly\n",
    "    fig = px.pie(\n",
    "        label_counts,\n",
    "        values=label_counts,\n",
    "        names=label_counts.index,\n",
    "        title='Pie Plot for Cluster Labels',\n",
    "        labels={'label': 'Cluster Labels'},\n",
    "        template='plotly',\n",
    "    )\n",
    "\n",
    "    # Save the plot as an image\n",
    "    fig.write_image(\"./plots/Labels_pie_plot.png\", format='png', scale=4)\n",
    "\n",
    "    # Show the plot\n",
    "    fig.show()\n"
   ]
  },
  {
   "cell_type": "code",
   "execution_count": 40,
   "metadata": {},
   "outputs": [
    {
     "data": {
      "application/vnd.plotly.v1+json": {
       "config": {
        "plotlyServerURL": "https://plot.ly"
       },
       "data": [
        {
         "domain": {
          "x": [
           0,
           1
          ],
          "y": [
           0,
           1
          ]
         },
         "hovertemplate": "Cluster Labels=%{label}<br>value=%{value}<extra></extra>",
         "labels": [
          1,
          0
         ],
         "legendgroup": "",
         "name": "",
         "showlegend": true,
         "type": "pie",
         "values": [
          544,
          194
         ]
        }
       ],
       "layout": {
        "legend": {
         "tracegroupgap": 0
        },
        "template": {
         "data": {
          "bar": [
           {
            "error_x": {
             "color": "#2a3f5f"
            },
            "error_y": {
             "color": "#2a3f5f"
            },
            "marker": {
             "line": {
              "color": "#E5ECF6",
              "width": 0.5
             },
             "pattern": {
              "fillmode": "overlay",
              "size": 10,
              "solidity": 0.2
             }
            },
            "type": "bar"
           }
          ],
          "barpolar": [
           {
            "marker": {
             "line": {
              "color": "#E5ECF6",
              "width": 0.5
             },
             "pattern": {
              "fillmode": "overlay",
              "size": 10,
              "solidity": 0.2
             }
            },
            "type": "barpolar"
           }
          ],
          "carpet": [
           {
            "aaxis": {
             "endlinecolor": "#2a3f5f",
             "gridcolor": "white",
             "linecolor": "white",
             "minorgridcolor": "white",
             "startlinecolor": "#2a3f5f"
            },
            "baxis": {
             "endlinecolor": "#2a3f5f",
             "gridcolor": "white",
             "linecolor": "white",
             "minorgridcolor": "white",
             "startlinecolor": "#2a3f5f"
            },
            "type": "carpet"
           }
          ],
          "choropleth": [
           {
            "colorbar": {
             "outlinewidth": 0,
             "ticks": ""
            },
            "type": "choropleth"
           }
          ],
          "contour": [
           {
            "colorbar": {
             "outlinewidth": 0,
             "ticks": ""
            },
            "colorscale": [
             [
              0,
              "#0d0887"
             ],
             [
              0.1111111111111111,
              "#46039f"
             ],
             [
              0.2222222222222222,
              "#7201a8"
             ],
             [
              0.3333333333333333,
              "#9c179e"
             ],
             [
              0.4444444444444444,
              "#bd3786"
             ],
             [
              0.5555555555555556,
              "#d8576b"
             ],
             [
              0.6666666666666666,
              "#ed7953"
             ],
             [
              0.7777777777777778,
              "#fb9f3a"
             ],
             [
              0.8888888888888888,
              "#fdca26"
             ],
             [
              1,
              "#f0f921"
             ]
            ],
            "type": "contour"
           }
          ],
          "contourcarpet": [
           {
            "colorbar": {
             "outlinewidth": 0,
             "ticks": ""
            },
            "type": "contourcarpet"
           }
          ],
          "heatmap": [
           {
            "colorbar": {
             "outlinewidth": 0,
             "ticks": ""
            },
            "colorscale": [
             [
              0,
              "#0d0887"
             ],
             [
              0.1111111111111111,
              "#46039f"
             ],
             [
              0.2222222222222222,
              "#7201a8"
             ],
             [
              0.3333333333333333,
              "#9c179e"
             ],
             [
              0.4444444444444444,
              "#bd3786"
             ],
             [
              0.5555555555555556,
              "#d8576b"
             ],
             [
              0.6666666666666666,
              "#ed7953"
             ],
             [
              0.7777777777777778,
              "#fb9f3a"
             ],
             [
              0.8888888888888888,
              "#fdca26"
             ],
             [
              1,
              "#f0f921"
             ]
            ],
            "type": "heatmap"
           }
          ],
          "heatmapgl": [
           {
            "colorbar": {
             "outlinewidth": 0,
             "ticks": ""
            },
            "colorscale": [
             [
              0,
              "#0d0887"
             ],
             [
              0.1111111111111111,
              "#46039f"
             ],
             [
              0.2222222222222222,
              "#7201a8"
             ],
             [
              0.3333333333333333,
              "#9c179e"
             ],
             [
              0.4444444444444444,
              "#bd3786"
             ],
             [
              0.5555555555555556,
              "#d8576b"
             ],
             [
              0.6666666666666666,
              "#ed7953"
             ],
             [
              0.7777777777777778,
              "#fb9f3a"
             ],
             [
              0.8888888888888888,
              "#fdca26"
             ],
             [
              1,
              "#f0f921"
             ]
            ],
            "type": "heatmapgl"
           }
          ],
          "histogram": [
           {
            "marker": {
             "pattern": {
              "fillmode": "overlay",
              "size": 10,
              "solidity": 0.2
             }
            },
            "type": "histogram"
           }
          ],
          "histogram2d": [
           {
            "colorbar": {
             "outlinewidth": 0,
             "ticks": ""
            },
            "colorscale": [
             [
              0,
              "#0d0887"
             ],
             [
              0.1111111111111111,
              "#46039f"
             ],
             [
              0.2222222222222222,
              "#7201a8"
             ],
             [
              0.3333333333333333,
              "#9c179e"
             ],
             [
              0.4444444444444444,
              "#bd3786"
             ],
             [
              0.5555555555555556,
              "#d8576b"
             ],
             [
              0.6666666666666666,
              "#ed7953"
             ],
             [
              0.7777777777777778,
              "#fb9f3a"
             ],
             [
              0.8888888888888888,
              "#fdca26"
             ],
             [
              1,
              "#f0f921"
             ]
            ],
            "type": "histogram2d"
           }
          ],
          "histogram2dcontour": [
           {
            "colorbar": {
             "outlinewidth": 0,
             "ticks": ""
            },
            "colorscale": [
             [
              0,
              "#0d0887"
             ],
             [
              0.1111111111111111,
              "#46039f"
             ],
             [
              0.2222222222222222,
              "#7201a8"
             ],
             [
              0.3333333333333333,
              "#9c179e"
             ],
             [
              0.4444444444444444,
              "#bd3786"
             ],
             [
              0.5555555555555556,
              "#d8576b"
             ],
             [
              0.6666666666666666,
              "#ed7953"
             ],
             [
              0.7777777777777778,
              "#fb9f3a"
             ],
             [
              0.8888888888888888,
              "#fdca26"
             ],
             [
              1,
              "#f0f921"
             ]
            ],
            "type": "histogram2dcontour"
           }
          ],
          "mesh3d": [
           {
            "colorbar": {
             "outlinewidth": 0,
             "ticks": ""
            },
            "type": "mesh3d"
           }
          ],
          "parcoords": [
           {
            "line": {
             "colorbar": {
              "outlinewidth": 0,
              "ticks": ""
             }
            },
            "type": "parcoords"
           }
          ],
          "pie": [
           {
            "automargin": true,
            "type": "pie"
           }
          ],
          "scatter": [
           {
            "fillpattern": {
             "fillmode": "overlay",
             "size": 10,
             "solidity": 0.2
            },
            "type": "scatter"
           }
          ],
          "scatter3d": [
           {
            "line": {
             "colorbar": {
              "outlinewidth": 0,
              "ticks": ""
             }
            },
            "marker": {
             "colorbar": {
              "outlinewidth": 0,
              "ticks": ""
             }
            },
            "type": "scatter3d"
           }
          ],
          "scattercarpet": [
           {
            "marker": {
             "colorbar": {
              "outlinewidth": 0,
              "ticks": ""
             }
            },
            "type": "scattercarpet"
           }
          ],
          "scattergeo": [
           {
            "marker": {
             "colorbar": {
              "outlinewidth": 0,
              "ticks": ""
             }
            },
            "type": "scattergeo"
           }
          ],
          "scattergl": [
           {
            "marker": {
             "colorbar": {
              "outlinewidth": 0,
              "ticks": ""
             }
            },
            "type": "scattergl"
           }
          ],
          "scattermapbox": [
           {
            "marker": {
             "colorbar": {
              "outlinewidth": 0,
              "ticks": ""
             }
            },
            "type": "scattermapbox"
           }
          ],
          "scatterpolar": [
           {
            "marker": {
             "colorbar": {
              "outlinewidth": 0,
              "ticks": ""
             }
            },
            "type": "scatterpolar"
           }
          ],
          "scatterpolargl": [
           {
            "marker": {
             "colorbar": {
              "outlinewidth": 0,
              "ticks": ""
             }
            },
            "type": "scatterpolargl"
           }
          ],
          "scatterternary": [
           {
            "marker": {
             "colorbar": {
              "outlinewidth": 0,
              "ticks": ""
             }
            },
            "type": "scatterternary"
           }
          ],
          "surface": [
           {
            "colorbar": {
             "outlinewidth": 0,
             "ticks": ""
            },
            "colorscale": [
             [
              0,
              "#0d0887"
             ],
             [
              0.1111111111111111,
              "#46039f"
             ],
             [
              0.2222222222222222,
              "#7201a8"
             ],
             [
              0.3333333333333333,
              "#9c179e"
             ],
             [
              0.4444444444444444,
              "#bd3786"
             ],
             [
              0.5555555555555556,
              "#d8576b"
             ],
             [
              0.6666666666666666,
              "#ed7953"
             ],
             [
              0.7777777777777778,
              "#fb9f3a"
             ],
             [
              0.8888888888888888,
              "#fdca26"
             ],
             [
              1,
              "#f0f921"
             ]
            ],
            "type": "surface"
           }
          ],
          "table": [
           {
            "cells": {
             "fill": {
              "color": "#EBF0F8"
             },
             "line": {
              "color": "white"
             }
            },
            "header": {
             "fill": {
              "color": "#C8D4E3"
             },
             "line": {
              "color": "white"
             }
            },
            "type": "table"
           }
          ]
         },
         "layout": {
          "annotationdefaults": {
           "arrowcolor": "#2a3f5f",
           "arrowhead": 0,
           "arrowwidth": 1
          },
          "autotypenumbers": "strict",
          "coloraxis": {
           "colorbar": {
            "outlinewidth": 0,
            "ticks": ""
           }
          },
          "colorscale": {
           "diverging": [
            [
             0,
             "#8e0152"
            ],
            [
             0.1,
             "#c51b7d"
            ],
            [
             0.2,
             "#de77ae"
            ],
            [
             0.3,
             "#f1b6da"
            ],
            [
             0.4,
             "#fde0ef"
            ],
            [
             0.5,
             "#f7f7f7"
            ],
            [
             0.6,
             "#e6f5d0"
            ],
            [
             0.7,
             "#b8e186"
            ],
            [
             0.8,
             "#7fbc41"
            ],
            [
             0.9,
             "#4d9221"
            ],
            [
             1,
             "#276419"
            ]
           ],
           "sequential": [
            [
             0,
             "#0d0887"
            ],
            [
             0.1111111111111111,
             "#46039f"
            ],
            [
             0.2222222222222222,
             "#7201a8"
            ],
            [
             0.3333333333333333,
             "#9c179e"
            ],
            [
             0.4444444444444444,
             "#bd3786"
            ],
            [
             0.5555555555555556,
             "#d8576b"
            ],
            [
             0.6666666666666666,
             "#ed7953"
            ],
            [
             0.7777777777777778,
             "#fb9f3a"
            ],
            [
             0.8888888888888888,
             "#fdca26"
            ],
            [
             1,
             "#f0f921"
            ]
           ],
           "sequentialminus": [
            [
             0,
             "#0d0887"
            ],
            [
             0.1111111111111111,
             "#46039f"
            ],
            [
             0.2222222222222222,
             "#7201a8"
            ],
            [
             0.3333333333333333,
             "#9c179e"
            ],
            [
             0.4444444444444444,
             "#bd3786"
            ],
            [
             0.5555555555555556,
             "#d8576b"
            ],
            [
             0.6666666666666666,
             "#ed7953"
            ],
            [
             0.7777777777777778,
             "#fb9f3a"
            ],
            [
             0.8888888888888888,
             "#fdca26"
            ],
            [
             1,
             "#f0f921"
            ]
           ]
          },
          "colorway": [
           "#636efa",
           "#EF553B",
           "#00cc96",
           "#ab63fa",
           "#FFA15A",
           "#19d3f3",
           "#FF6692",
           "#B6E880",
           "#FF97FF",
           "#FECB52"
          ],
          "font": {
           "color": "#2a3f5f"
          },
          "geo": {
           "bgcolor": "white",
           "lakecolor": "white",
           "landcolor": "#E5ECF6",
           "showlakes": true,
           "showland": true,
           "subunitcolor": "white"
          },
          "hoverlabel": {
           "align": "left"
          },
          "hovermode": "closest",
          "mapbox": {
           "style": "light"
          },
          "paper_bgcolor": "white",
          "plot_bgcolor": "#E5ECF6",
          "polar": {
           "angularaxis": {
            "gridcolor": "white",
            "linecolor": "white",
            "ticks": ""
           },
           "bgcolor": "#E5ECF6",
           "radialaxis": {
            "gridcolor": "white",
            "linecolor": "white",
            "ticks": ""
           }
          },
          "scene": {
           "xaxis": {
            "backgroundcolor": "#E5ECF6",
            "gridcolor": "white",
            "gridwidth": 2,
            "linecolor": "white",
            "showbackground": true,
            "ticks": "",
            "zerolinecolor": "white"
           },
           "yaxis": {
            "backgroundcolor": "#E5ECF6",
            "gridcolor": "white",
            "gridwidth": 2,
            "linecolor": "white",
            "showbackground": true,
            "ticks": "",
            "zerolinecolor": "white"
           },
           "zaxis": {
            "backgroundcolor": "#E5ECF6",
            "gridcolor": "white",
            "gridwidth": 2,
            "linecolor": "white",
            "showbackground": true,
            "ticks": "",
            "zerolinecolor": "white"
           }
          },
          "shapedefaults": {
           "line": {
            "color": "#2a3f5f"
           }
          },
          "ternary": {
           "aaxis": {
            "gridcolor": "white",
            "linecolor": "white",
            "ticks": ""
           },
           "baxis": {
            "gridcolor": "white",
            "linecolor": "white",
            "ticks": ""
           },
           "bgcolor": "#E5ECF6",
           "caxis": {
            "gridcolor": "white",
            "linecolor": "white",
            "ticks": ""
           }
          },
          "title": {
           "x": 0.05
          },
          "xaxis": {
           "automargin": true,
           "gridcolor": "white",
           "linecolor": "white",
           "ticks": "",
           "title": {
            "standoff": 15
           },
           "zerolinecolor": "white",
           "zerolinewidth": 2
          },
          "yaxis": {
           "automargin": true,
           "gridcolor": "white",
           "linecolor": "white",
           "ticks": "",
           "title": {
            "standoff": 15
           },
           "zerolinecolor": "white",
           "zerolinewidth": 2
          }
         }
        },
        "title": {
         "text": "Pie Plot for Cluster Labels"
        }
       }
      }
     },
     "metadata": {},
     "output_type": "display_data"
    }
   ],
   "source": [
    "labels_pie_plot(data_cluster)"
   ]
  },
  {
   "cell_type": "code",
   "execution_count": 41,
   "metadata": {},
   "outputs": [],
   "source": [
    "def clusters_visualization(data_cluster):\n",
    "    plt.scatter(data_cluster.iloc[:, 0], data_cluster.iloc[:, 1], c=labels, cmap='viridis', edgecolors='k', alpha=0.7)\n",
    "    plt.scatter(cluster_centers[:, 0], cluster_centers[:, 1], c='red', marker='X', s=20, label='Cluster Centers')\n",
    "    plt.title('K-Means Clustering')\n",
    "    plt.xlabel('rms_noise')\n",
    "    plt.ylabel('speech_level')\n",
    "    plt.legend()\n",
    "\n",
    "    # Save the plot before displaying it\n",
    "    plt.savefig(\"./plots/kmeans_clustering_plot.png\", dpi=300, bbox_inches='tight')\n",
    "\n",
    "    # Display the plot\n",
    "    plt.show()\n"
   ]
  },
  {
   "cell_type": "code",
   "execution_count": 42,
   "metadata": {},
   "outputs": [
    {
     "data": {
      "image/png": "[encoded data removed]",
      "text/plain": [
       "<Figure size 640x480 with 1 Axes>"
      ]
     },
     "metadata": {},
     "output_type": "display_data"
    }
   ],
   "source": [
    "clusters_visualization(data_cluster)"
   ]
  },
  {
   "cell_type": "markdown",
   "metadata": {},
   "source": [
    "## K-means with 3 features"
   ]
  },
  {
   "cell_type": "code",
   "execution_count": 45,
   "metadata": {},
   "outputs": [],
   "source": [
    "data_cluster_3=data[['rms_noise','speech_level','dynamic_range_db']]"
   ]
  },
  {
   "cell_type": "code",
   "execution_count": 50,
   "metadata": {},
   "outputs": [
    {
     "data": {
      "image/png": "[encoded data removed]",
      "text/plain": [
       "<Figure size 640x480 with 1 Axes>"
      ]
     },
     "metadata": {},
     "output_type": "display_data"
    }
   ],
   "source": [
    "elbow_method(data_cluster_3)"
   ]
  },
  {
   "cell_type": "code",
   "execution_count": 52,
   "metadata": {},
   "outputs": [
    {
     "data": {
      "text/html": [
       "<style>#sk-container-id-4 {color: black;}#sk-container-id-4 pre{padding: 0;}#sk-container-id-4 div.sk-toggleable {background-color: white;}#sk-container-id-4 label.sk-toggleable__label {cursor: pointer;display: block;width: 100%;margin-bottom: 0;padding: 0.3em;box-sizing: border-box;text-align: center;}#sk-container-id-4 label.sk-toggleable__label-arrow:before {content: \"▸\";float: left;margin-right: 0.25em;color: #696969;}#sk-container-id-4 label.sk-toggleable__label-arrow:hover:before {color: black;}#sk-container-id-4 div.sk-estimator:hover label.sk-toggleable__label-arrow:before {color: black;}#sk-container-id-4 div.sk-toggleable__content {max-height: 0;max-width: 0;overflow: hidden;text-align: left;background-color: #f0f8ff;}#sk-container-id-4 div.sk-toggleable__content pre {margin: 0.2em;color: black;border-radius: 0.25em;background-color: #f0f8ff;}#sk-container-id-4 input.sk-toggleable__control:checked~div.sk-toggleable__content {max-height: 200px;max-width: 100%;overflow: auto;}#sk-container-id-4 input.sk-toggleable__control:checked~label.sk-toggleable__label-arrow:before {content: \"▾\";}#sk-container-id-4 div.sk-estimator input.sk-toggleable__control:checked~label.sk-toggleable__label {background-color: #d4ebff;}#sk-container-id-4 div.sk-label input.sk-toggleable__control:checked~label.sk-toggleable__label {background-color: #d4ebff;}#sk-container-id-4 input.sk-hidden--visually {border: 0;clip: rect(1px 1px 1px 1px);clip: rect(1px, 1px, 1px, 1px);height: 1px;margin: -1px;overflow: hidden;padding: 0;position: absolute;width: 1px;}#sk-container-id-4 div.sk-estimator {font-family: monospace;background-color: #f0f8ff;border: 1px dotted black;border-radius: 0.25em;box-sizing: border-box;margin-bottom: 0.5em;}#sk-container-id-4 div.sk-estimator:hover {background-color: #d4ebff;}#sk-container-id-4 div.sk-parallel-item::after {content: \"\";width: 100%;border-bottom: 1px solid gray;flex-grow: 1;}#sk-container-id-4 div.sk-label:hover label.sk-toggleable__label {background-color: #d4ebff;}#sk-container-id-4 div.sk-serial::before {content: \"\";position: absolute;border-left: 1px solid gray;box-sizing: border-box;top: 0;bottom: 0;left: 50%;z-index: 0;}#sk-container-id-4 div.sk-serial {display: flex;flex-direction: column;align-items: center;background-color: white;padding-right: 0.2em;padding-left: 0.2em;position: relative;}#sk-container-id-4 div.sk-item {position: relative;z-index: 1;}#sk-container-id-4 div.sk-parallel {display: flex;align-items: stretch;justify-content: center;background-color: white;position: relative;}#sk-container-id-4 div.sk-item::before, #sk-container-id-4 div.sk-parallel-item::before {content: \"\";position: absolute;border-left: 1px solid gray;box-sizing: border-box;top: 0;bottom: 0;left: 50%;z-index: -1;}#sk-container-id-4 div.sk-parallel-item {display: flex;flex-direction: column;z-index: 1;position: relative;background-color: white;}#sk-container-id-4 div.sk-parallel-item:first-child::after {align-self: flex-end;width: 50%;}#sk-container-id-4 div.sk-parallel-item:last-child::after {align-self: flex-start;width: 50%;}#sk-container-id-4 div.sk-parallel-item:only-child::after {width: 0;}#sk-container-id-4 div.sk-dashed-wrapped {border: 1px dashed gray;margin: 0 0.4em 0.5em 0.4em;box-sizing: border-box;padding-bottom: 0.4em;background-color: white;}#sk-container-id-4 div.sk-label label {font-family: monospace;font-weight: bold;display: inline-block;line-height: 1.2em;}#sk-container-id-4 div.sk-label-container {text-align: center;}#sk-container-id-4 div.sk-container {/* jupyter's `normalize.less` sets `[hidden] { display: none; }` but bootstrap.min.css set `[hidden] { display: none !important; }` so we also need the `!important` here to be able to override the default hidden behavior on the sphinx rendered scikit-learn.org. See: https://github.com/scikit-learn/scikit-learn/issues/21755 */display: inline-block !important;position: relative;}#sk-container-id-4 div.sk-text-repr-fallback {display: none;}</style><div id=\"sk-container-id-4\" class=\"sk-top-container\"><div class=\"sk-text-repr-fallback\"><pre>KMeans(max_iter=15, n_clusters=2, n_init=&#x27;auto&#x27;, random_state=42)</pre><b>In a Jupyter environment, please rerun this cell to show the HTML representation or trust the notebook. <br />On GitHub, the HTML representation is unable to render, please try loading this page with nbviewer.org.</b></div><div class=\"sk-container\" hidden><div class=\"sk-item\"><div class=\"sk-estimator sk-toggleable\"><input class=\"sk-toggleable__control sk-hidden--visually\" id=\"sk-estimator-id-4\" type=\"checkbox\" checked><label for=\"sk-estimator-id-4\" class=\"sk-toggleable__label sk-toggleable__label-arrow\">KMeans</label><div class=\"sk-toggleable__content\"><pre>KMeans(max_iter=15, n_clusters=2, n_init=&#x27;auto&#x27;, random_state=42)</pre></div></div></div></div></div>"
      ],
      "text/plain": [
       "KMeans(max_iter=15, n_clusters=2, n_init='auto', random_state=42)"
      ]
     },
     "execution_count": 52,
     "metadata": {},
     "output_type": "execute_result"
    }
   ],
   "source": [
    "kmeans_3 = KMeans(n_clusters=2, random_state=42,n_init='auto',max_iter=15)\n",
    "kmeans_3.fit(data_cluster_3)"
   ]
  },
  {
   "cell_type": "code",
   "execution_count": 53,
   "metadata": {},
   "outputs": [
    {
     "name": "stderr",
     "output_type": "stream",
     "text": [
      "C:\\Users\\rimai\\AppData\\Local\\Temp\\ipykernel_10260\\504084760.py:3: SettingWithCopyWarning:\n",
      "\n",
      "\n",
      "A value is trying to be set on a copy of a slice from a DataFrame.\n",
      "Try using .loc[row_indexer,col_indexer] = value instead\n",
      "\n",
      "See the caveats in the documentation: https://pandas.pydata.org/pandas-docs/stable/user_guide/indexing.html#returning-a-view-versus-a-copy\n",
      "\n"
     ]
    }
   ],
   "source": [
    "cluster_centers = kmeans_3.cluster_centers_\n",
    "labels_3 = kmeans_3.labels_\n",
    "data_cluster_3['label']=labels_3"
   ]
  },
  {
   "cell_type": "code",
   "execution_count": 54,
   "metadata": {},
   "outputs": [
    {
     "data": {
      "application/vnd.plotly.v1+json": {
       "config": {
        "plotlyServerURL": "https://plot.ly"
       },
       "data": [
        {
         "marker": {
          "color": [
           0,
           0,
           0,
           0,
           0,
           0,
           1,
           1,
           1,
           0,
           1,
           1,
           1,
           0,
           1,
           1,
           0,
           1,
           1,
           1,
           0,
           1,
           1,
           0,
           1,
           0,
           0,
           1,
           0,
           0,
           0,
           0,
           0,
           1,
           1,
           1,
           1,
           0,
           1,
           0,
           0,
           0,
           1,
           0,
           1,
           0,
           1,
           1,
           0,
           0,
           0,
           0,
           0,
           1,
           1,
           1,
           1,
           1,
           1,
           1,
           0,
           1,
           1,
           1,
           1,
           1,
           1,
           1,
           1,
           1,
           1,
           1,
           1,
           1,
           1,
           0,
           1,
           1,
           1,
           1,
           1,
           1,
           1,
           1,
           1,
           1,
           1,
           1,
           1,
           0,
           0,
           0,
           0,
           1,
           0,
           1,
           1,
           0,
           1,
           1,
           1,
           1,
           1,
           1,
           1,
           1,
           0,
           0,
           0,
           0,
           1,
           1,
           0,
           0,
           1,
           0,
           0,
           1,
           1,
           1,
           0,
           0,
           1,
           0,
           0,
           1,
           1,
           1,
           1,
           1,
           0,
           1,
           1,
           1,
           0,
           0,
           0,
           1,
           1,
           1,
           1,
           1,
           1,
           1,
           1,
           1,
           0,
           1,
           1,
           0,
           0,
           1,
           1,
           1,
           1,
           1,
           0,
           1,
           1,
           1,
           1,
           1,
           1,
           1,
           0,
           1,
           0,
           1,
           0,
           1,
           1,
           1,
           0,
           0,
           1,
           1,
           1,
           1,
           1,
           1,
           1,
           1,
           1,
           0,
           0,
           0,
           1,
           0,
           0,
           1,
           1,
           1,
           1,
           1,
           1,
           1,
           1,
           1,
           1,
           0,
           1,
           1,
           1,
           1,
           1,
           1,
           1,
           1,
           1,
           1,
           0,
           1,
           0,
           0,
           1,
           1,
           1,
           0,
           0,
           1,
           0,
           0,
           1,
           1,
           0,
           1,
           1,
           1,
           1,
           1,
           1,
           1,
           0,
           1,
           1,
           1,
           1,
           1,
           0,
           1,
           1,
           1,
           1,
           1,
           1,
           0,
           1,
           0,
           1,
           1,
           1,
           1,
           1,
           1,
           0,
           1,
           1,
           1,
           1,
           1,
           1,
           1,
           1,
           1,
           1,
           1,
           1,
           1,
           1,
           1,
           1,
           1,
           1,
           1,
           1,
           0,
           0,
           1,
           1,
           1,
           1,
           1,
           1,
           1,
           1,
           1,
           1,
           1,
           0,
           0,
           0,
           0,
           0,
           1,
           1,
           1,
           0,
           1,
           1,
           1,
           1,
           0,
           1,
           1,
           1,
           1,
           1,
           1,
           1,
           1,
           1,
           1,
           1,
           1,
           1,
           1,
           1,
           1,
           1,
           1,
           0,
           1,
           1,
           1,
           1,
           1,
           1,
           1,
           1,
           1,
           1,
           1,
           0,
           1,
           1,
           1,
           1,
           1,
           0,
           1,
           1,
           1,
           1,
           1,
           1,
           1,
           1,
           0,
           1,
           0,
           0,
           1,
           1,
           1,
           1,
           1,
           1,
           0,
           1,
           1,
           1,
           1,
           1,
           0,
           1,
           0,
           1,
           0,
           0,
           1,
           0,
           0,
           1,
           1,
           1,
           0,
           0,
           1,
           1,
           1,
           1,
           1,
           1,
           1,
           1,
           1,
           1,
           1,
           1,
           1,
           1,
           1,
           1,
           1,
           1,
           1,
           1,
           1,
           1,
           1,
           1,
           1,
           0,
           1,
           1,
           1,
           0,
           1,
           0,
           0,
           1,
           1,
           0,
           0,
           1,
           1,
           0,
           1,
           1,
           1,
           0,
           1,
           1,
           0,
           1,
           1,
           1,
           1,
           1,
           1,
           0,
           0,
           0,
           0,
           0,
           1,
           1,
           1,
           1,
           1,
           1,
           1,
           0,
           1,
           1,
           1,
           1,
           1,
           0,
           0,
           1,
           0,
           1,
           1,
           1,
           1,
           0,
           1,
           0,
           1,
           0,
           0,
           1,
           1,
           1,
           0,
           1,
           1,
           1,
           1,
           1,
           1,
           1,
           1,
           1,
           1,
           0,
           1,
           1,
           1,
           1,
           1,
           1,
           1,
           1,
           1,
           1,
           1,
           1,
           1,
           1,
           1,
           1,
           1,
           0,
           1,
           0,
           1,
           1,
           1,
           1,
           1,
           1,
           1,
           1,
           1,
           1,
           1,
           1,
           1,
           1,
           1,
           1,
           1,
           1,
           1,
           1,
           1,
           1,
           1,
           1,
           1,
           0,
           1,
           1,
           0,
           1,
           1,
           1,
           1,
           1,
           0,
           1,
           1,
           1,
           1,
           1,
           1,
           0,
           1,
           0,
           1,
           0,
           1,
           1,
           1,
           1,
           1,
           1,
           1,
           1,
           0,
           1,
           1,
           1,
           1,
           1,
           0,
           1,
           0,
           0,
           0,
           0,
           1,
           0,
           0,
           1,
           1,
           0,
           1,
           1,
           0,
           1,
           0,
           0,
           0,
           0,
           1,
           0,
           0,
           0,
           1,
           1,
           1,
           1,
           1,
           1,
           0,
           1,
           1,
           1,
           1,
           1,
           1,
           1,
           1,
           1,
           1,
           1,
           1,
           1,
           1,
           1,
           1,
           1,
           1,
           1,
           1,
           1,
           1,
           1,
           1,
           1,
           1,
           1,
           1,
           1,
           1,
           1,
           1,
           0,
           1,
           1,
           0,
           0,
           1,
           1,
           1,
           0,
           1,
           0,
           0,
           0,
           0,
           0,
           0,
           1,
           1,
           1,
           1,
           1,
           1,
           1,
           1,
           1,
           1,
           1,
           1,
           1,
           1,
           1,
           0,
           1,
           1,
           0,
           1,
           1,
           1,
           1,
           1,
           1,
           1,
           1,
           1,
           1,
           1,
           1,
           1,
           1,
           0,
           0,
           1,
           1,
           0,
           1,
           1,
           0,
           1,
           1,
           1,
           0,
           0,
           1,
           1,
           1,
           1,
           1,
           0,
           1,
           1,
           0,
           1,
           0,
           0,
           0,
           0,
           1,
           1,
           1,
           1,
           1,
           1,
           1,
           1,
           1,
           1,
           1,
           1,
           1,
           1,
           1,
           0,
           1,
           0,
           0,
           0,
           1,
           1,
           1,
           1,
           0,
           1,
           1,
           1,
           0,
           0,
           0,
           1,
           1,
           0,
           1,
           1,
           0,
           0,
           0,
           0,
           0,
           0
          ],
          "colorscale": [
           [
            0,
            "#440154"
           ],
           [
            0.1111111111111111,
            "#482878"
           ],
           [
            0.2222222222222222,
            "#3e4989"
           ],
           [
            0.3333333333333333,
            "#31688e"
           ],
           [
            0.4444444444444444,
            "#26828e"
           ],
           [
            0.5555555555555556,
            "#1f9e89"
           ],
           [
            0.6666666666666666,
            "#35b779"
           ],
           [
            0.7777777777777778,
            "#6ece58"
           ],
           [
            0.8888888888888888,
            "#b5de2b"
           ],
           [
            1,
            "#fde725"
           ]
          ],
          "line": {
           "color": "black",
           "width": 1
          },
          "opacity": 0.7,
          "size": 8
         },
         "mode": "markers",
         "type": "scatter3d",
         "x": [
          0.027706608176231384,
          0.19093450903892517,
          0.02193187177181244,
          0.019021421670913696,
          0.009633194655179977,
          0.021502269431948662,
          0.03159995377063751,
          0.06954091042280197,
          0.03198353201150894,
          0.010932778008282185,
          0.03370629623532295,
          0.028975293040275574,
          0.015702173113822937,
          0.011680199764668941,
          0.31153833866119385,
          0.044711507856845856,
          0.026281077414751053,
          0.09520548582077026,
          0.06841696053743362,
          0.03010292537510395,
          0.01479918509721756,
          0.03178991377353668,
          0.0320434644818306,
          0.011262818239629269,
          0.08450642228126526,
          0.006810147315263748,
          0.005677282344549894,
          0.037960588932037354,
          0.10267386585474014,
          0.23809640109539032,
          0.16587577760219574,
          0.3009682297706604,
          0.289985716342926,
          0.3913383483886719,
          0.3160198926925659,
          0.16972355544567108,
          0.17562542855739594,
          0.04124496877193451,
          0.14215566217899323,
          0.021785525605082512,
          0.04039683938026428,
          0.06625562906265259,
          0.09257374703884125,
          0.002024735091254115,
          0.0014152023941278458,
          0.00129865447524935,
          0.0047762151807546616,
          0.03160335496068001,
          0.001258357078768313,
          0.08846907317638397,
          0.0020904727280139923,
          0.006902504246681929,
          0.004773136228322983,
          0.028077736496925354,
          0.011543589644134045,
          0.004401295445859432,
          0.052959926426410675,
          0.0008592806407250464,
          0.035307805985212326,
          0.07714257389307022,
          0.006918707862496376,
          0.05417827516794205,
          0.12446875870227814,
          0.05423789843916893,
          0.03618721291422844,
          0.07651463896036148,
          0.025234516710042953,
          0.07805930078029633,
          0.22702623903751373,
          0.13025642931461334,
          0.12347666919231415,
          0.2294042855501175,
          0.1513299196958542,
          0.10872014611959457,
          0.12324170768260956,
          0.06483861058950424,
          0.04807442054152489,
          0.02562900260090828,
          0.016778089106082916,
          0.05709005519747734,
          0.05617667734622955,
          0.14563485980033875,
          0.08626476675271988,
          0.07598570734262466,
          0.06197544187307358,
          0.06167594715952873,
          0.039727408438920975,
          0.08626476675271988,
          0.008612009696662426,
          0.02545437403023243,
          0.01984843611717224,
          0.023055050522089005,
          0.007330617867410183,
          0.022253159433603287,
          0.01330641284584999,
          0.005070687271654606,
          0.0014477656222879887,
          0.04968774691224098,
          0.04971820488572121,
          0.06273052096366882,
          0.010375207290053368,
          0.012786430306732655,
          0.006087558809667826,
          0.008150418289005756,
          0.02362307719886303,
          0.15989257395267487,
          0.09657137095928192,
          0.1210634857416153,
          0.12884627282619476,
          0.06776650995016098,
          0.03842390701174736,
          0.03148297965526581,
          0.06841983646154404,
          0.012783458456397057,
          0.03145964443683624,
          0.0192438792437315,
          0.008613741025328636,
          0.05505652353167534,
          0.06682902574539185,
          0.10127818584442139,
          0.08053252100944519,
          0.04048410803079605,
          0.05407310277223587,
          0.06211961433291435,
          0.14588892459869385,
          0.08983871340751648,
          0.003045275341719389,
          0.05523809418082237,
          0.05230823904275894,
          0.08419680595397949,
          0.1552232801914215,
          0.05178346857428551,
          0.14362135529518127,
          0.05253444239497185,
          0.018988799303770065,
          0.011225740425288677,
          0.1275446116924286,
          0.08709684014320374,
          0.07942432910203934,
          0.22197198867797852,
          0.09652203321456909,
          0.10622034221887589,
          0.12023517489433289,
          0.2865452170372009,
          0.09312641620635986,
          0.09837054461240768,
          0.08653301000595093,
          0.16051055490970612,
          0.16166017949581146,
          0.10034143179655075,
          0.034124065190553665,
          0.021807687357068062,
          0.006579442415386438,
          0.031141268089413643,
          0.03335665538907051,
          0.028882097452878952,
          0.1034633070230484,
          0.17057029902935028,
          0.05212438851594925,
          0.0736105889081955,
          0.10681229829788208,
          0.09549199044704437,
          0.08617625385522842,
          0.08300146460533142,
          0.0030865801963955164,
          0.0077059343457221985,
          0.01836303621530533,
          0.08034490048885345,
          0.011710716411471367,
          0.06954418867826462,
          0.08907852321863174,
          0.07980792224407196,
          0.01556413620710373,
          0.011132228188216686,
          0.13265042006969452,
          0.05296158418059349,
          0.15301600098609924,
          0.029255101457238197,
          0.13293421268463135,
          0.05986769497394562,
          0.035750217735767365,
          0.1782565861940384,
          0.161322683095932,
          0.006631106603890657,
          0.03255670145153999,
          0.11682010442018509,
          0.06709490716457367,
          0.21544501185417175,
          0.05369613692164421,
          0.1447952687740326,
          0.09735380113124847,
          0.0855238065123558,
          0.09722379595041275,
          0.08324524015188217,
          0.07078433036804199,
          0.05712593346834183,
          0.07504016160964966,
          0.06413806974887848,
          0.23339763283729553,
          0.007773008197546005,
          0.014524444937705994,
          0.1104421615600586,
          0.08034338802099228,
          0.061491284519433975,
          0.06057967618107796,
          0.04011967033147812,
          0.033941566944122314,
          0.0879049152135849,
          0.07780663669109344,
          0.07307515293359756,
          0.08289395272731781,
          0.07278914749622345,
          0.06907330453395844,
          0.06329958140850067,
          0.013097812421619892,
          0.022129850462079048,
          0.05341189354658127,
          0.0476541593670845,
          0.08609091490507126,
          0.08827003836631775,
          0.10738261789083481,
          0.026892179623246193,
          0.11177284270524979,
          0.02612876333296299,
          0.20940633118152618,
          0.04963953420519829,
          0.03330644592642784,
          0.0529724657535553,
          0.03588161990046501,
          0.09480069577693939,
          0.08733253180980682,
          0.06324859708547592,
          0.009112332947552204,
          0.10737656056880951,
          0.048407040536403656,
          0.13191530108451843,
          0.03405994549393654,
          0.03669105842709541,
          0.2506534159183502,
          0.03685924410820007,
          0.03920292854309082,
          0.05078328028321266,
          0.05417142063379288,
          0.04008078947663307,
          0.03770020231604576,
          0.06876292079687119,
          0.10228732973337173,
          0.07408734411001205,
          0.12047109007835388,
          0.07835245877504349,
          0.08357086032629013,
          0.05606810003519058,
          0.04866555705666542,
          0.08009015768766403,
          0.02319454960525036,
          0.1859075278043747,
          0.06905046850442886,
          0.08681395649909973,
          0.004765942692756653,
          0.010152376256883144,
          0.008263305760920048,
          0.10161135345697403,
          0.1302614063024521,
          0.14517877995967865,
          0.152641162276268,
          0.07886500656604767,
          0.09193792194128036,
          0.2630835771560669,
          0.19130244851112366,
          0.01858941651880741,
          0.020864833146333694,
          0.06421072781085968,
          0.07788749784231186,
          0.09882497042417526,
          0.02012917585670948,
          0.1056346669793129,
          0.04950810596346855,
          0.03704725205898285,
          0.14218412339687347,
          0.1122225672006607,
          0.03784358501434326,
          0.04189691320061684,
          0.11544530838727951,
          0.043502327054739,
          0.015300019644200802,
          0.05079035088419914,
          0.06581787765026093,
          0.17494098842144012,
          0.03196440264582634,
          0.018435942009091377,
          0.04531073197722435,
          0.01675473153591156,
          0.036506425589323044,
          0.14888140559196472,
          0.021224921569228172,
          0.015142573975026608,
          0.013695861212909222,
          0.04794217646121979,
          0.04854068160057068,
          0.052041422575712204,
          0.014938834123313427,
          0.00685821333900094,
          0.06053535267710686,
          0.019392793998122215,
          0.03952748700976372,
          0.13905513286590576,
          0.16520896553993225,
          0.010731580667197704,
          0.16024808585643768,
          0.13395138084888458,
          0.054884567856788635,
          0.0968344509601593,
          0.050415195524692535,
          0.039538633078336716,
          0.09511285275220871,
          0.06929446011781693,
          0.05011935532093048,
          0.05794321745634079,
          0.029933730140328407,
          0.08543870598077774,
          0.0486406646668911,
          0.12195461243391037,
          0.12907497584819794,
          0.11470627039670944,
          0.07374384999275208,
          0.05650900676846504,
          0.019977260380983353,
          0.06970174610614777,
          0.050884541124105453,
          0.06628761440515518,
          0.013297868892550468,
          0.021503685042262077,
          0.00699020829051733,
          0.04944188520312309,
          0.05132176727056503,
          0.04979819431900978,
          0.02854381687939167,
          0.05508046969771385,
          0.043043579906225204,
          0.04533236846327782,
          0.026862328872084618,
          0.12592320144176483,
          0.051922693848609924,
          0.0699758231639862,
          0.13844723999500275,
          0.03618471696972847,
          0.1099415123462677,
          0.06473153829574585,
          0.054928120225667953,
          0.13831056654453278,
          0.010636337101459503,
          0.02622862532734871,
          0.019436553120613098,
          0.09909863770008087,
          0.13872569799423218,
          0.09302310645580292,
          0.03691795840859413,
          0.003862291807308793,
          0.10703111439943314,
          0.06631149351596832,
          0.06611743569374084,
          0.06782714277505875,
          0.07842283695936203,
          0.0023438907228410244,
          0.24080337584018707,
          0.010511399246752262,
          0.1226043775677681,
          0.16427192091941833,
          0.2034427672624588,
          0.13607080280780792,
          0.130528062582016,
          0.04413091763854027,
          0.06578503549098969,
          0.06242501363158226,
          0.035220418125391006,
          0.00917149055749178,
          0.03325130045413971,
          0.12755881249904633,
          0.10659535229206085,
          0.027610959485173225,
          0.12376502901315689,
          0.016457920894026756,
          0.06323546916246414,
          0.058515943586826324,
          0.12413133680820465,
          0.1226273775100708,
          0.12337087839841843,
          0.013900664635002613,
          0.09865018725395203,
          0.07603178173303604,
          0.4403393864631653,
          0.18442724645137787,
          0.08692245930433273,
          0.031301967799663544,
          0.12704385817050934,
          0.07230515033006668,
          0.12298737466335297,
          0.06731486320495605,
          0.12217029929161072,
          0.14247502386569977,
          0.01450541615486145,
          0.018246477469801903,
          0.009311219677329063,
          0.015068926848471165,
          0.0981157198548317,
          0.033077266067266464,
          0.08804090321063995,
          0.085621178150177,
          0.10591091960668564,
          0.03917677700519562,
          0.21667778491973877,
          0.12465284019708633,
          0.143886998295784,
          0.4459010660648346,
          0.04440291225910187,
          0.027359738945961,
          0.024125639349222183,
          0.10490732640028,
          0.04766599088907242,
          0.01599305495619774,
          0.02621290273964405,
          0.02146531082689762,
          0.012140912935137749,
          0.020609673112630844,
          0.015585942193865776,
          0.08691295981407166,
          0.004875780548900366,
          0.04354848340153694,
          0.07675613462924957,
          0.011550604365766048,
          0.127242311835289,
          0.061385054141283035,
          0.01101163774728775,
          0.03932666778564453,
          0.0871393233537674,
          0.025698482990264893,
          0.006432326044887304,
          0.055401578545570374,
          0.03854073956608772,
          0.035430096089839935,
          0.0626230388879776,
          0.03356419876217842,
          0.009323163889348507,
          0.043657686561346054,
          0.03713221102952957,
          0.02896934561431408,
          0.07957383245229721,
          0.015324356034398079,
          0.021268490701913834,
          0.01762787438929081,
          0.08468292653560638,
          0.011243386194109917,
          0.04059953987598419,
          0.09536274522542953,
          0.03806019946932793,
          0.1374892294406891,
          0.03009231574833393,
          0.019802216440439224,
          0.22417286038398743,
          0.044941533356904984,
          0.16684743762016296,
          0.0267613735049963,
          0.13342958688735962,
          0.10725897550582886,
          0.10465369373559952,
          0.17245657742023468,
          0.10499853640794754,
          0.018562957644462585,
          0.014401724562048912,
          0.027453145012259483,
          0.020313763990998268,
          0.04657125100493431,
          0.028870344161987305,
          0.04945249855518341,
          0.07488050311803818,
          0.06944427639245987,
          0.18228904902935028,
          0.0426984578371048,
          0.09600812941789627,
          0.009714558720588684,
          0.029837951064109802,
          0.006692822556942701,
          0.04291490092873573,
          0.16055287420749664,
          0.20499761402606964,
          0.03616587072610855,
          0.06001148372888565,
          0.0662485882639885,
          0.08001536130905151,
          0.1084689199924469,
          0.032442882657051086,
          0.003447415307164192,
          0.013513101264834404,
          0.016656694933772087,
          0.22335563600063324,
          0.11819414049386978,
          0.01338022481650114,
          0.026017894968390465,
          0.04361778870224953,
          0.1551106572151184,
          0.13580529391765594,
          0.03937815874814987,
          0.04298899695277214,
          0.1369623988866806,
          0.155074343085289,
          0.043576955795288086,
          0.13574956357479095,
          0.03932631388306618,
          0.04294562339782715,
          0.13687637448310852,
          0.17923885583877563,
          0.006451675668358803,
          0.019892679527401924,
          0.034910090267658234,
          0.05244185030460358,
          0.008688103407621384,
          0.15507274866104126,
          0.13573722541332245,
          0.04356476664543152,
          0.03933627903461456,
          0.042946163564920425,
          0.13689352571964264,
          0.07946085929870605,
          0.1650482416152954,
          0.13757365942001343,
          0.14271339774131775,
          0.031762007623910904,
          0.04155005142092705,
          0.07175905257463455,
          0.06642667204141617,
          0.03395943343639374,
          0.05155647173523903,
          0.019587982445955276,
          0.05482873693108559,
          0.017148198559880257,
          0.11332950741052628,
          0.16009826958179474,
          0.018495997413992882,
          0.21793609857559204,
          0.07859845459461212,
          0.02338978461921215,
          0.025021743029356003,
          0.017390351742506027,
          0.07242007553577423,
          0.009449039585888386,
          0.029148342087864876,
          0.031473275274038315,
          0.07212592661380768,
          0.0913785845041275,
          0.06578987836837769,
          0.08888538926839828,
          0.014812339097261429,
          0.07344403862953186,
          0.0351741760969162,
          0.04928864166140556,
          0.06052805855870247,
          0.012445171363651752,
          0.05943923071026802,
          0.06741318851709366,
          0.1123814806342125,
          0.09256064891815186,
          0.1309407651424408,
          0.045575857162475586,
          0.02970348484814167,
          0.2576388120651245,
          0.015207614749670029,
          0.003282728372141719,
          0.014630411751568317,
          0.0034301145933568478,
          0.012275701388716698,
          0.011409841477870941,
          0.016310106962919235,
          0.03665751591324806,
          0.013502875342965126,
          0.010275529697537422,
          0.0651257112622261,
          0.1582362949848175,
          0.08410293608903885,
          0.07880397140979767,
          0.023637650534510612,
          0.05479711294174194,
          0.03171294927597046,
          0.019899070262908936,
          0.08661508560180664,
          0.1391243189573288,
          0.07246314734220505,
          0.0029575589578598738,
          0.07205473631620407,
          0.12150910496711731,
          0.12033925205469131,
          0.13733616471290588,
          0.07209194451570511,
          0.03416084498167038,
          0.030982008203864098,
          0.03926838934421539,
          0.10166328400373459,
          0.039064064621925354,
          0.41414889693260193,
          0.20979426801204681,
          0.05266807600855827,
          0.03324124217033386,
          0.027502816170454025,
          0.07669961452484131,
          0.0404510535299778,
          0.08612851053476334,
          0.0646318793296814,
          0.039148177951574326,
          0.05877271667122841,
          0.07102620601654053,
          0.007214327342808247,
          0.007871929556131363,
          0.03816433623433113,
          0.039200764149427414,
          0.007713976316154003,
          0.013222209177911282,
          0.018558304756879807,
          0.029401026666164398,
          0.016073182225227356,
          0.029625363647937775,
          0.033365920186042786,
          0.03135516867041588,
          0.19446209073066711,
          0.15199105441570282,
          0.008680862374603748,
          0.007202648092061281,
          0.031632594764232635,
          0.06789190322160721,
          0.041378267109394073,
          0.21613888442516327,
          0.06584691256284714,
          0.053696274757385254,
          0.11264017969369888,
          0.05680619925260544,
          0.05279505252838135,
          0.03152167424559593,
          0.07816202938556671,
          0.10337594151496887,
          0.022442540153861046,
          0.10371760278940201,
          0.03209691122174263,
          0.03344321995973587,
          0.03236403688788414,
          0.09914902597665787,
          0.12051369249820709,
          0.06685268878936768,
          0.13370604813098907,
          0.10611310601234436,
          0.04974273592233658,
          0.08460438996553421,
          0.09437596797943115,
          0.10789845883846283,
          0.10080453008413315,
          0.0724356397986412,
          0.04153777286410332,
          0.07100160419940948,
          0.0735611617565155,
          0.0625900849699974,
          0.07272083312273026,
          0.07761562615633011,
          0.08348897844552994,
          0.05708053335547447,
          0.08327919244766235,
          0.06084922328591347,
          0.013386152684688568,
          0.023144034668803215,
          0.02771136350929737,
          0.023547599092125893,
          0.021151099354028702,
          0.020326413214206696,
          0.01575147733092308,
          0.010723521001636982,
          0.011164378374814987,
          0.014034781605005264,
          0.00972064584493637,
          0.022049162536859512,
          0.04092853143811226,
          0.08900123834609985,
          0.008311519399285316,
          0.20644062757492065,
          0.12308883666992188,
          0.0446305051445961,
          0.05460358411073685,
          0.029917685315012932,
          0.03797561675310135,
          0.024834033101797104,
          0.08137445151805878,
          0.07651051133871078,
          0.12740914523601532,
          0.09671062976121902,
          0.08460213243961334,
          0.0664757713675499,
          0.06234874203801155,
          0.07120882719755173,
          0.19758538901805878,
          0.0831778347492218,
          0.10838402062654495,
          0.06701446324586868,
          0.03724522888660431,
          0.03877625986933708,
          0.030209805816411972,
          0.03942309692502022,
          0.04275396838784218,
          0.05219907686114311,
          0.09365264326334,
          0.05458930879831314,
          0.049191076308488846,
          0.06195461377501488,
          0.05076993629336357,
          0.044309236109256744,
          0.05343817546963692,
          0.06703387945890427,
          0.016184402629733086,
          0.002355931792408228,
          0.10702905058860779,
          0.08856844156980515,
          0.018469681963324547,
          0.03438013419508934,
          0.059167712926864624,
          0.05284823849797249,
          0.03165281563997269,
          0.012992910109460354,
          0.004245187621563673,
          0.17201538383960724,
          0.029741724953055382,
          0.04011787846684456,
          0.08295132964849472,
          0.04606661945581436,
          0.04969107359647751,
          0.09403698146343231,
          0.12858879566192627,
          0.02781757526099682,
          0.055688608437776566,
          0.14757530391216278,
          0.1098509356379509,
          0.1251649409532547,
          0.08780891448259354,
          0.15479378402233124,
          0.1985006332397461
         ],
         "y": [
          4783.92738920763,
          4195.299024365828,
          2693.8668850357367,
          6282.672664541826,
          6608.544750743617,
          3164.4113026132673,
          1918.3616960462787,
          2028.203155850333,
          2033.3823307280063,
          6539.605251416841,
          1891.1780292502435,
          2462.5611619376905,
          2461.2531333057022,
          3207.8420041298073,
          1163.93852102222,
          1232.1196414817841,
          3259.163222516846,
          1465.960751959939,
          1305.6381756057167,
          1627.6750648022792,
          6228.201630224996,
          1902.644444908886,
          1867.2984927218226,
          2932.8386694326064,
          1019.7407996522085,
          3807.7127384212513,
          6556.42110762553,
          675.1485974640018,
          2957.4670831346702,
          2787.7877754816027,
          3621.1793846518794,
          5011.098967369546,
          4025.1075332226424,
          576.2763095515824,
          585.2010386916511,
          1867.2548151244396,
          1292.5345698292795,
          2928.0121072071415,
          1521.5521493946526,
          2910.117995514824,
          2771.405495691227,
          5216.666185919787,
          2289.7039678764986,
          2913.5674551232246,
          2487.177740927043,
          2924.0801125998564,
          1774.6467881992908,
          275.6683585418322,
          4116.236036497522,
          4535.243514166931,
          2566.712579100073,
          2769.514143954727,
          4260.161405586933,
          1657.3436242191929,
          1552.6172856427206,
          1594.6418921715265,
          1642.6599247222696,
          1985.564203430318,
          2465.487717360819,
          487.6885415857682,
          4887.887131762888,
          752.9509542435824,
          1392.8088373635464,
          812.2781836468212,
          947.7072220165954,
          2245.992915244321,
          612.968779307644,
          1119.5684803780152,
          2455.8891330850256,
          1654.1673330073177,
          1435.212571004818,
          1904.9231375037339,
          1404.7254952465976,
          1882.485595147397,
          886.3839088422358,
          7141.863512045143,
          1795.1141499514333,
          2183.2212067291443,
          2279.0413429830032,
          656.8817067367443,
          777.1970429080687,
          1692.9530607737308,
          2335.5497090718695,
          1050.6923255679671,
          898.1567781026118,
          630.2759985375394,
          523.0391017549941,
          2335.5497090718695,
          1892.723604713279,
          2828.2295544132594,
          4692.699336515881,
          3467.9676327112775,
          2890.6523789849007,
          1176.0504873935388,
          3068.489865666376,
          600.4168102240508,
          2029.1719081005992,
          2863.066274158645,
          1175.2527261270259,
          2112.58094713898,
          1236.4685068069728,
          1251.4312383775919,
          1179.420759805106,
          1720.63513570972,
          1389.386946223553,
          325.5123681063994,
          4202.058652249112,
          4524.119829262626,
          5607.111553231315,
          4706.365278246268,
          1143.6466995395413,
          2112.1373849976994,
          2668.554997944617,
          5006.2743464308805,
          2450.4663584524055,
          5663.54898852317,
          2539.4631266352876,
          2425.6870786522577,
          1983.7871699794177,
          142.84691703726736,
          5260.71902283247,
          3093.2233378182036,
          1727.589142825637,
          6011.4292174124985,
          2569.7826810729657,
          1280.7348063840118,
          1271.217285762768,
          1307.4215080751094,
          1549.855390988841,
          1530.3073384014017,
          4189.5924553416535,
          733.8568135082185,
          1228.8520309637079,
          853.338754846989,
          5800.517377984663,
          6266.518376125064,
          2744.435300097545,
          900.4539931269326,
          2401.7525446416766,
          1884.7636415629102,
          1580.1535954414464,
          1014.0078140058628,
          1438.7300545256608,
          1560.8239970524974,
          1513.835974620491,
          682.4131046924603,
          2588.467596174273,
          2265.846468985584,
          1755.5979437966016,
          2769.668515514929,
          4195.594106526273,
          1643.986931945678,
          1417.4845476837668,
          1622.2396644946496,
          1602.0020074520849,
          1611.5411705628585,
          2592.9348376300836,
          498.7522812822503,
          620.8566167902026,
          1088.2244206858545,
          1019.7526200548871,
          1076.850307304122,
          1005.1671888079424,
          1108.5217249032662,
          3985.9977479086074,
          1385.1598891588499,
          4378.154369735451,
          1964.2565524749818,
          2836.685918393506,
          1317.2154913680151,
          1505.1933987952361,
          1754.0352093809745,
          2996.8076726890185,
          4395.42079827806,
          1103.1572727758737,
          1500.9780993733068,
          232.405615085886,
          394.58947764134757,
          246.2291454837045,
          197.59824890185868,
          1843.4995545056745,
          169.5024624555721,
          163.93487030778596,
          4683.9819055766375,
          3859.0863093508974,
          3140.871427012729,
          1416.2762680650062,
          3135.740360860954,
          3839.9993991485358,
          854.2852287813456,
          1430.8970216482114,
          1806.562605689035,
          971.9336079459896,
          1247.7489855959507,
          112.7666715937134,
          127.67998135940185,
          104.85710082949963,
          110.23052532176055,
          808.3215395027773,
          3818.0632841042784,
          2241.7827314566916,
          291.86700953462866,
          109.02632921020756,
          113.83508616012539,
          128.56921156212042,
          143.88710960702969,
          183.22062192639734,
          2349.526768175029,
          2126.1286014617435,
          453.7371193455813,
          3295.854248148731,
          1437.2643109271235,
          3288.7751365995546,
          3973.9288946468973,
          1806.2290848514347,
          2060.071620383807,
          1417.790323422895,
          3534.002179773986,
          3076.905489096953,
          1897.710392020686,
          3127.933370012973,
          2653.1514735765136,
          229.60814241389306,
          904.2081475179122,
          2679.135667797312,
          557.118816578642,
          665.7866845052512,
          579.8843569874351,
          681.4661791531146,
          1049.325831073236,
          2008.4931266509477,
          1485.7753157374964,
          2819.065158764422,
          137.99088573728707,
          1759.2401072946107,
          2196.679814699029,
          572.2022973317617,
          585.7313415727032,
          3006.6405752782885,
          509.3844696025907,
          507.53589061047677,
          467.67783712446453,
          493.49176963611484,
          417.7660310790005,
          417.6747712897009,
          3181.6429931796383,
          348.2767878721845,
          3553.3449904575477,
          771.4643433963396,
          423.52107727057006,
          546.363971578166,
          1597.5490705394366,
          886.6937461521718,
          116.17653718300456,
          4263.186220865634,
          1648.5362992198975,
          286.96232114253047,
          282.9074041579231,
          1193.4737996522142,
          1591.5084780867537,
          1262.4812340449535,
          1107.9549266532442,
          862.2401092107226,
          1550.4909758786225,
          584.1095268272541,
          1260.2008814982485,
          1046.6653788457118,
          2366.4153002233356,
          740.2452978404866,
          521.8786208107133,
          548.0885338141022,
          1826.1359930378665,
          1385.448054177878,
          1144.2558252186177,
          1798.1907185630762,
          3381.2354876108043,
          8190.760370992527,
          431.4865470510367,
          878.5997860814081,
          1415.7711537882826,
          809.5887794863427,
          918.5014145380378,
          90.14011709896486,
          717.4361121877428,
          1883.7748248115097,
          475.6869394195078,
          367.45362634260516,
          120.5931809101069,
          3094.572805198022,
          4677.286471786986,
          3075.694944086871,
          3933.2009969056044,
          3050.0197699732134,
          212.06994443513364,
          911.9962284531349,
          1226.3497443279919,
          4122.030808096667,
          924.4292705997291,
          1268.2381850044737,
          1935.8524072145165,
          871.3249920978101,
          2715.7216077913954,
          1320.6741637600821,
          1509.1082450718986,
          1965.5026621619306,
          1464.6376815502044,
          1464.4886509559221,
          1613.7702029300456,
          2302.084565619584,
          1986.547356272335,
          1962.4341554772375,
          2290.798874205394,
          375.43419486008946,
          1175.291012574827,
          1478.324795067412,
          979.1576033112485,
          981.0905048283103,
          1180.3521475851387,
          1842.0028370927266,
          1202.5732166081011,
          3533.5307295756247,
          34.81833557744358,
          1798.6614502183477,
          808.2337864221028,
          634.3847510549526,
          1019.7939790280562,
          1961.5067623874656,
          542.1095114052584,
          2436.599085962496,
          564.270398119758,
          1181.7446555243973,
          689.6162168251461,
          3035.074757640648,
          549.6032870695659,
          816.6970434938331,
          632.9404875094634,
          2478.8936425706866,
          680.9824308665919,
          4543.991477090617,
          1724.5783672395937,
          1500.8616496339907,
          1847.1768659990685,
          861.7467218046222,
          1455.7695259030093,
          2273.6797557938276,
          1134.6697872705631,
          2075.057727220175,
          6799.946190182572,
          841.1374477103896,
          2677.806659722674,
          2899.8279132211483,
          1776.0228715727185,
          1953.761631515808,
          669.5371385599695,
          2193.3995197216077,
          1912.4022512333759,
          1865.353118238747,
          4789.5183286487445,
          1896.16020956016,
          2214.2119379271808,
          1994.3341075194319,
          1946.9290907467532,
          2217.7126750302277,
          2970.7926324140394,
          1287.74856205078,
          4727.394124873966,
          2318.104031267179,
          2724.8778696407817,
          3841.9136985558944,
          2094.5526015547066,
          2540.578511555139,
          6212.726881359769,
          249.18405671332368,
          1118.4579338425358,
          2096.916934696727,
          4709.79226401127,
          3919.5186897732992,
          1434.0443994402626,
          1774.5113250868455,
          1234.9113881510625,
          2236.263742189176,
          1427.5209451190935,
          1095.9582669735398,
          1569.4639529898839,
          1780.3105836852385,
          1755.4239103309062,
          1726.6562673040717,
          1327.0478691655258,
          1838.633129322346,
          1998.0963097234737,
          444.8743148489699,
          1412.6768371744454,
          1536.3752446461465,
          542.6777927371729,
          702.7900796344757,
          962.4161930605837,
          752.4847203919323,
          1375.1571994659225,
          1469.852233745127,
          1665.6067145743427,
          2154.047770213171,
          2127.977270633544,
          3728.3434510630777,
          1748.3334737632138,
          612.0656159407467,
          1236.1115118028283,
          3823.387059311938,
          1781.0780469142398,
          4076.4055429973837,
          5465.197467468605,
          531.7106077648602,
          336.0415055713883,
          3483.6540104933397,
          4585.164869202672,
          891.3011833942124,
          960.5160084667866,
          2516.3173010504424,
          111.35479432397467,
          1009.9858750189205,
          2393.145974828354,
          2595.7447899717936,
          2259.3160414136655,
          2448.4690519810815,
          2595.3576468295873,
          818.3662769567665,
          892.697260160076,
          900.2096429846684,
          1616.0514329776672,
          1235.4866300130611,
          2434.792923105559,
          3094.9627031190366,
          2592.883067188718,
          4005.5364623031705,
          3616.3119725862975,
          5040.558698526975,
          1361.2419045171519,
          1152.8079192565458,
          1298.9773598814722,
          1192.255476684847,
          1287.727383692562,
          1114.205302446449,
          1296.0617445739788,
          2954.994736795539,
          1450.3702802785874,
          2316.7448532599406,
          1783.6920179545423,
          1023.6485115436127,
          1507.0978180363754,
          4015.7185103611146,
          4153.056870408347,
          572.1819365388642,
          5558.104530146467,
          754.3352172438197,
          1556.8088196465712,
          1513.1264487523745,
          887.4930788704286,
          2968.6418555308455,
          1203.0267056948778,
          2544.0404850106265,
          1280.7943754567746,
          3614.721214141646,
          2991.9541448964806,
          845.4779220394893,
          1736.065771212223,
          407.94112014206837,
          2704.9176537930216,
          554.995936468902,
          877.9268632672809,
          711.6312477583556,
          1329.2466572531987,
          1096.1976719292225,
          1706.598129002719,
          582.504307520446,
          857.8665437812267,
          657.0042119273704,
          1324.4637118592696,
          2953.7521855137543,
          1307.7672908116704,
          399.34744395314624,
          1512.006266851657,
          1128.9711500935489,
          959.9748123515191,
          611.8636083881631,
          2439.7199631058456,
          787.9026994607166,
          1118.535292349016,
          1037.8195419082488,
          565.0364327866594,
          572.3923835649485,
          832.827109308662,
          867.8491415213973,
          1918.3405549116087,
          1755.3884808448968,
          2418.8022161461063,
          2624.25060588667,
          482.3239404944976,
          3086.9663822082216,
          1431.6455880781004,
          561.3308412933761,
          841.7018141560592,
          443.592039214226,
          678.6196978411198,
          497.9669855033892,
          348.586006000247,
          843.3152554983427,
          567.4983114261747,
          444.12459812387596,
          686.9974128677966,
          511.90080175108494,
          356.3088775261171,
          1442.8988242462408,
          2060.3963842312005,
          709.695327794283,
          843.7847279798851,
          675.0080270416994,
          2408.2652303394766,
          843.104349026363,
          444.08489491443004,
          568.7327841199542,
          685.7407446919311,
          511.0576809615002,
          356.4112028199777,
          3186.3994309529753,
          32.3422053238695,
          826.2779905206985,
          3489.123793210193,
          1022.3719491062054,
          633.9396769052503,
          747.4210959351923,
          976.319415762767,
          838.0718794418107,
          2684.8568345000303,
          1485.389514027755,
          706.1090225760968,
          895.0963915433031,
          1457.75112692378,
          1190.1555861095228,
          1393.2093774093273,
          2654.194049953517,
          496.5852105485513,
          4261.908291024536,
          1147.7552944713786,
          2975.907870536383,
          1446.7637563557635,
          1115.793058155132,
          979.5580238179876,
          2345.1258682939906,
          532.6028698319651,
          711.1609643020083,
          641.9152062415923,
          1348.0417084787955,
          3139.6712490599657,
          1452.9369666316632,
          955.7209732530991,
          1179.3108425841926,
          1639.3091673942522,
          1824.9870538580556,
          4129.504538757503,
          1358.5385880793415,
          3201.082754898812,
          4138.5447892713355,
          3887.2678932035474,
          2983.868563318859,
          523.761175190107,
          2777.538921483971,
          3569.3850096699953,
          1096.5856870513219,
          1543.809952756568,
          8985.782478230114,
          1373.7928564695214,
          1282.5472255314273,
          2606.9279725308716,
          2033.4834201505053,
          2713.028195600013,
          2790.319554274505,
          4624.017587480372,
          3501.8121158958033,
          773.2453535593585,
          2662.1667063505056,
          3539.7078141430634,
          4093.879483917153,
          724.8150234600001,
          2346.3691145579683,
          1727.2198771252345,
          1248.7035249154271,
          853.5814613576343,
          2292.882325210591,
          2530.766926191155,
          1794.3461113218057,
          1458.403500240476,
          1572.0049426885719,
          629.5459955530129,
          653.6775001147362,
          847.148807539244,
          481.84353021597525,
          1490.8163668153352,
          799.8670003120604,
          274.56582921788356,
          2097.086827599425,
          1467.0960394850358,
          444.88700546243075,
          326.44692266430906,
          624.0336796694799,
          2326.101139013998,
          562.4139391424499,
          490.84181334550726,
          2379.010973097222,
          360.6376632736964,
          1196.8643360002725,
          2195.03506113959,
          1552.921506054476,
          1791.915880404805,
          2480.9932385309066,
          1950.6398935937038,
          1147.2475733895612,
          1781.0095110984428,
          1121.7585700928582,
          1448.2776767118116,
          1156.4877005729602,
          666.4303496644225,
          2781.9142777927427,
          1205.4935778981962,
          1835.1225827367318,
          3405.4006125817223,
          3336.7162014511287,
          722.4803387778262,
          1601.6091595507983,
          989.2000690647548,
          2677.246006995377,
          2468.5225776361317,
          4233.891062103818,
          2726.581257754768,
          3368.6460779608797,
          3885.517687384935,
          3304.6013655503525,
          4095.7770470560963,
          1978.0775298057233,
          1377.421112860761,
          1883.4603690826157,
          709.9163501532636,
          714.0333248068123,
          826.4342419126583,
          1353.5620231477708,
          686.4856824633162,
          1049.0225587453938,
          797.7870961392435,
          920.4991073204786,
          1125.2182600280885,
          2174.630633743909,
          1921.6409322175111,
          2199.4292254191123,
          2759.4948692903404,
          2079.619475227881,
          1759.5507485799478,
          2633.777287093454,
          2129.8409059910564,
          1952.1869690898516,
          2138.15628247895,
          1910.3589352260988,
          1881.2936933156416,
          1775.4290836428056,
          1862.5882828118279,
          1775.3784848624057,
          808.2604649358859,
          800.8161519315704,
          870.8430513658551,
          1025.9969396139795,
          657.6471496629488,
          1021.7343475907458,
          2614.7913441957853,
          2789.62480257043,
          2370.0648730013677,
          2362.5601852189243,
          2816.5861506965325,
          554.2057410729577,
          1618.4126793706323,
          3041.2804142240325,
          921.2186054075878,
          172.32312674134718,
          2164.607438587991,
          2818.8358729062284,
          2893.8523846191574,
          1799.9726221373146,
          2357.4155567553694,
          664.9984872821746,
          1364.6491826567317,
          1056.0134531132476,
          2650.044366004119,
          1360.4520505543576,
          1421.7453749002693,
          5571.814568212865,
          690.233369894501,
          4922.289438767567,
          3960.846594166871,
          5340.653079357257,
          4492.72467103247,
          1910.540291121981,
          1394.8309888884046,
          1908.8505860344915,
          1367.174801071102,
          1669.7504642545334,
          1642.0008615776283,
          1970.3597921882656,
          2093.8070151565585,
          2129.2073519836,
          1336.2700226400268,
          1428.5634089878529,
          2132.475327559755,
          1882.215757063923,
          1619.808279125978,
          2324.058190188653,
          3047.785166154691,
          2201.44821167715,
          3226.242319492618,
          4519.631770393922,
          3634.2786782641447,
          562.7609441170478,
          710.0787950070275,
          1588.95116487573,
          560.661150168144,
          2807.39360228159,
          1613.6118706787051,
          975.5105302429449,
          629.8903779199949,
          5523.41918620149,
          4197.374947956722,
          4095.674459134932,
          1796.818876121735,
          1741.597091878862,
          3972.2964406945,
          682.2391395672623,
          1606.1711857073296,
          3148.7973649476535,
          3057.816615401782,
          2981.7800998677376,
          2927.0078135026333,
          2636.605677584038,
          3325.751229423454
         ],
         "z": [
          19.73325252532959,
          16.146494150161743,
          24.2496919631958,
          27.536585330963135,
          28.346335887908936,
          22.6039981842041,
          26.192772388458252,
          16.278175115585327,
          21.454684734344482,
          27.27200746536255,
          19.015026092529297,
          19.938178062438965,
          24.966368675231934,
          24.340262413024902,
          8.950978517532349,
          21.35450839996338,
          29.83356475830078,
          16.299448013305664,
          21.632771492004395,
          25.665462017059326,
          28.627960681915283,
          23.55586051940918,
          23.661329746246338,
          37.88358926773071,
          13.710099458694458,
          30.161144733428955,
          30.845274925231934,
          16.339536905288696,
          19.206193685531616,
          14.353482723236084,
          18.085817098617554,
          13.641480207443237,
          13.928276300430298,
          6.603870987892151,
          8.439753651618958,
          15.454140901565552,
          12.611788511276245,
          26.531212329864502,
          13.818926811218262,
          27.63035774230957,
          28.492472171783447,
          17.067112922668457,
          21.992833614349365,
          24.507122039794922,
          29.810791015625,
          20.295956134796143,
          31.588256359100342,
          25.135657787322998,
          29.50516700744629,
          15.163102149963379,
          33.61725091934204,
          27.609446048736572,
          31.01750373840332,
          28.18603277206421,
          12.794408798217773,
          40.634002685546875,
          20.896050930023193,
          20.162174701690674,
          15.642086267471313,
          16.408119201660156,
          30.77824115753174,
          24.59054470062256,
          15.577700138092041,
          14.417321681976318,
          14.91769790649414,
          20.401079654693604,
          15.279749631881714,
          16.854019165039062,
          12.082115411758423,
          16.039724349975586,
          14.707579612731934,
          12.579880952835083,
          14.45615530014038,
          17.160799503326416,
          14.425215721130371,
          21.226484775543213,
          19.469202756881714,
          24.61315631866455,
          34.85891103744507,
          25.26052474975586,
          26.31378173828125,
          18.478052616119385,
          21.642727851867676,
          23.614206314086914,
          24.724724292755127,
          25.10040044784546,
          26.69633150100708,
          21.642727851867676,
          24.01656150817871,
          18.24425220489502,
          22.607972621917725,
          18.740861415863037,
          26.416072845458984,
          16.9424045085907,
          31.076781749725342,
          16.489200592041016,
          18.29110860824585,
          10.68489670753479,
          15.325168371200562,
          13.719046115875244,
          11.916395425796509,
          12.200508117675781,
          18.173846006393433,
          17.43792414665222,
          11.742568016052246,
          13.409373760223389,
          18.98823857307434,
          17.325990200042725,
          17.264269590377808,
          17.965099811553955,
          27.28877067565918,
          25.79944610595703,
          18.850667476654053,
          28.36580991744995,
          25.377779006958008,
          26.492669582366943,
          37.28384733200073,
          21.615018844604492,
          19.0541672706604,
          18.77318263053894,
          16.312509775161743,
          15.246840715408325,
          21.505813598632812,
          25.570907592773438,
          15.433593988418579,
          18.03112268447876,
          18.0746591091156,
          17.70231008529663,
          20.843894481658936,
          19.324867725372314,
          11.161046028137207,
          19.041810035705566,
          12.529027462005615,
          20.00307559967041,
          17.92798399925232,
          15.862817764282227,
          16.5604305267334,
          15.403304100036621,
          17.728736400604248,
          12.70581841468811,
          14.477128982543945,
          18.706037998199463,
          18.17413330078125,
          14.457372426986694,
          16.5048885345459,
          15.515265464782715,
          10.956679582595825,
          15.670183897018433,
          14.717258214950562,
          18.211698532104492,
          21.05311393737793,
          19.591424465179443,
          17.86819100379944,
          20.02730131149292,
          19.469093084335327,
          26.04074716567993,
          12.344772815704346,
          13.787200450897217,
          15.318013429641724,
          16.349937915802002,
          13.052006959915161,
          20.606749057769775,
          21.016106605529785,
          20.916144847869873,
          39.66250658035278,
          19.29649591445923,
          29.396190643310547,
          15.171043872833252,
          24.54721689224243,
          21.177709102630615,
          19.104392528533936,
          20.04077911376953,
          36.83030128479004,
          10.915833711624146,
          12.424250841140747,
          24.072749614715576,
          14.501672983169556,
          21.463842391967773,
          14.274219274520874,
          17.356337308883667,
          12.89907455444336,
          14.188480377197266,
          15.063743591308594,
          26.179587841033936,
          23.469855785369873,
          20.94743013381958,
          19.873842000961304,
          12.243751287460327,
          17.88074254989624,
          13.286070823669434,
          15.700101852416992,
          21.933746337890625,
          21.407780647277832,
          16.034942865371704,
          17.710933685302734,
          18.196158409118652,
          17.128394842147827,
          17.829841375350952,
          12.404309511184692,
          39.47996377944946,
          36.08563184738159,
          14.97837781906128,
          18.85106325149536,
          20.304930210113525,
          20.82594633102417,
          21.296331882476807,
          21.322805881500244,
          17.577197551727295,
          20.38681983947754,
          21.445777416229248,
          16.906458139419556,
          24.620347023010254,
          20.308773517608643,
          20.725674629211426,
          21.335103511810303,
          21.044292449951172,
          19.248751401901245,
          24.470112323760986,
          18.62098217010498,
          19.113776683807373,
          17.983248233795166,
          25.32109260559082,
          14.908932447433472,
          23.65699529647827,
          13.688392639160156,
          13.103790283203125,
          13.686425685882568,
          13.376106023788452,
          14.833741188049316,
          18.66140604019165,
          18.151495456695557,
          22.477259635925293,
          34.525158405303955,
          17.42214798927307,
          26.18626832962036,
          14.43785548210144,
          13.4921133518219,
          14.669634103775024,
          12.927234172821045,
          13.09982180595398,
          12.771936655044556,
          12.917932271957397,
          13.284316062927246,
          12.603884935379028,
          12.940049171447754,
          14.302750825881958,
          12.858473062515259,
          13.181313276290894,
          11.111079454421997,
          16.067832708358765,
          18.911374807357788,
          22.183866500854492,
          22.131221294403076,
          14.047365188598633,
          26.640753746032715,
          14.54241394996643,
          14.3980872631073,
          12.70467758178711,
          20.810720920562744,
          22.421116828918457,
          18.55976104736328,
          14.471203088760376,
          13.591982126235962,
          13.70915174484253,
          13.125437498092651,
          17.143170833587646,
          15.687869787216187,
          11.698766946792603,
          13.518997430801392,
          14.53923225402832,
          14.229768514633179,
          23.113067150115967,
          13.819268941879272,
          16.163456439971924,
          29.080965518951416,
          13.316080570220947,
          14.87233281135559,
          18.393031358718872,
          12.852754592895508,
          11.652758121490479,
          26.449990272521973,
          14.431935548782349,
          7.440950870513916,
          15.403906106948853,
          17.000422477722168,
          13.511161804199219,
          10.984680652618408,
          10.608373880386353,
          16.652849912643433,
          29.428532123565674,
          19.801247119903564,
          20.12883424758911,
          16.275941133499146,
          11.910758018493652,
          13.369070291519165,
          18.183025121688843,
          36.031458377838135,
          15.258307456970215,
          14.477884769439697,
          25.17145872116089,
          27.975986003875732,
          36.11417770385742,
          20.42351245880127,
          26.187381744384766,
          26.528639793395996,
          14.370110034942627,
          15.040559768676758,
          34.91234302520752,
          16.290712356567383,
          16.153379678726196,
          22.960002422332764,
          14.777536392211914,
          16.045491695404053,
          13.365182876586914,
          12.804449796676636,
          14.528268575668335,
          12.822028398513794,
          14.432904720306396,
          21.57325029373169,
          18.451935052871704,
          22.398569583892822,
          12.813286781311035,
          15.130139589309692,
          13.406316041946411,
          15.92972993850708,
          15.621521472930908,
          31.610028743743896,
          18.483750820159912,
          24.291529655456543,
          15.979576110839844,
          15.382766723632812,
          17.05714464187622,
          23.663010597229004,
          16.73768401145935,
          14.737063646316528,
          15.41192889213562,
          29.63611364364624,
          20.32827854156494,
          25.0022554397583,
          17.900044918060303,
          20.604183673858643,
          17.308794260025024,
          18.596519231796265,
          18.758742809295654,
          17.19878911972046,
          18.030670881271362,
          14.62594985961914,
          14.532363414764404,
          18.721988201141357,
          15.454914569854736,
          35.270748138427734,
          28.139047622680664,
          27.95344591140747,
          15.279994010925293,
          14.663841724395752,
          19.61092710494995,
          13.161078691482544,
          16.208919286727905,
          17.517582178115845,
          17.0071804523468,
          13.950949907302856,
          16.57976269721985,
          15.331978797912598,
          32.880351543426514,
          6.404954195022583,
          21.94737434387207,
          16.251574754714966,
          17.870289087295532,
          13.47147822380066,
          14.758899211883545,
          15.368603467941284,
          18.625516891479492,
          13.347558975219727,
          23.408830165863037,
          9.109418988227844,
          10.407816171646118,
          12.952804565429688,
          16.96634292602539,
          16.21599316596985,
          21.226449012756348,
          15.211188793182373,
          12.818166017532349,
          13.800408840179443,
          14.359148740768433,
          15.572954416275024,
          16.000068187713623,
          15.410863161087036,
          17.521475553512573,
          17.331149578094482,
          19.42257285118103,
          5.8520835638046265,
          14.633415937423706,
          15.333991050720215,
          17.07726240158081,
          12.501517534255981,
          14.26912546157837,
          12.799110412597656,
          19.47152614593506,
          19.096291065216064,
          15.02690315246582,
          27.8769850730896,
          25.076112747192383,
          34.13570165634155,
          22.766406536102295,
          15.680056810379028,
          28.796656131744385,
          15.455024242401123,
          20.817995071411133,
          14.51844573020935,
          23.100991249084473,
          12.782478332519531,
          17.411599159240723,
          11.950914859771729,
          6.5733402967453,
          14.449654817581177,
          28.724181652069092,
          23.080945014953613,
          18.343769311904907,
          24.77022409439087,
          31.255433559417725,
          19.269943237304688,
          17.24985957145691,
          26.32603406906128,
          25.972864627838135,
          20.15857219696045,
          17.50975489616394,
          16.76867365837097,
          19.86662268638611,
          17.31861114501953,
          24.95335817337036,
          17.652733325958252,
          26.173081398010254,
          14.915328025817871,
          13.370908498764038,
          14.790723323822021,
          25.291192531585693,
          33.15328359603882,
          18.199673891067505,
          18.376648426055908,
          21.66339874267578,
          18.87191653251648,
          20.80458641052246,
          25.784873962402344,
          20.584096908569336,
          25.816407203674316,
          16.138769388198853,
          17.049747705459595,
          20.387659072875977,
          21.706218719482422,
          25.48908233642578,
          18.328843116760254,
          32.281715869903564,
          14.192935228347778,
          18.381996154785156,
          15.717271566390991,
          15.416876077651978,
          19.88824725151062,
          17.705339193344116,
          15.874967575073242,
          15.701144933700562,
          13.128087520599365,
          17.546381950378418,
          15.363606214523315,
          17.135995626449585,
          16.03562831878662,
          13.104708194732666,
          16.931016445159912,
          14.664815664291382,
          16.037782430648804,
          15.248081684112549,
          15.021110773086548,
          18.44604730606079,
          16.027055978775024,
          13.583192825317383,
          13.846392631530762,
          14.48384165763855,
          13.635640144348145,
          14.776819944381714,
          19.496601819992065,
          22.584779262542725,
          13.865424394607544,
          38.95889759063721,
          14.770863056182861,
          13.345121145248413,
          11.729367971420288,
          18.00265073776245,
          15.507347583770752,
          15.974013805389404,
          13.811249732971191,
          13.080960512161255,
          16.37701153755188,
          33.08387279510498,
          16.87523603439331,
          30.80036163330078,
          12.973473072052002,
          16.897246837615967,
          17.34797477722168,
          26.393709182739258,
          13.800508975982666,
          12.805588245391846,
          12.550655603408813,
          13.485169410705566,
          13.731979131698608,
          8.668741583824158,
          12.672480344772339,
          13.755735158920288,
          12.444062232971191,
          13.535090684890747,
          13.717265129089355,
          8.699491620063782,
          13.038640022277832,
          16.429457664489746,
          16.84008002281189,
          17.96889901161194,
          13.130556344985962,
          24.184575080871582,
          12.80065655708313,
          12.53664255142212,
          13.956698179244995,
          13.439018726348877,
          13.727549314498901,
          8.656195998191833,
          17.687697410583496,
          14.735677242279053,
          13.654553890228271,
          13.868470191955566,
          21.034014225006104,
          14.467904567718506,
          13.536527156829834,
          12.45010256767273,
          15.138763189315796,
          25.87965965270996,
          23.21887731552124,
          16.408331394195557,
          15.383789539337158,
          17.815091609954834,
          13.477847576141357,
          29.98051643371582,
          13.47959280014038,
          16.42499566078186,
          23.523941040039062,
          22.80999183654785,
          21.363773345947266,
          15.099352598190308,
          18.38202476501465,
          15.711615085601807,
          22.208251953125,
          17.975839376449585,
          13.973441123962402,
          16.09615921974182,
          17.80470371246338,
          26.941251754760742,
          20.719013214111328,
          23.575785160064697,
          23.26930522918701,
          22.379322052001953,
          31.58123016357422,
          21.69703960418701,
          23.019957542419434,
          16.61579966545105,
          17.444251775741577,
          15.326859951019287,
          25.434470176696777,
          11.77799105644226,
          12.889814376831055,
          28.54252815246582,
          16.125235557556152,
          23.521857261657715,
          20.35170078277588,
          27.09766387939453,
          18.985261917114258,
          29.772322177886963,
          26.34476661682129,
          34.96532201766968,
          19.382567405700684,
          20.324625968933105,
          15.309933423995972,
          20.416159629821777,
          18.495571613311768,
          27.927727699279785,
          20.676734447479248,
          13.911828994750977,
          27.02626943588257,
          16.81760549545288,
          13.542040586471558,
          21.157617568969727,
          14.029407501220703,
          17.421520948410034,
          16.90050482749939,
          16.310771703720093,
          15.879950523376465,
          21.52064800262451,
          15.482333898544312,
          14.641380310058594,
          13.288942575454712,
          17.98222064971924,
          13.92336130142212,
          6.647577285766602,
          14.442189931869507,
          19.60451602935791,
          13.925118446350098,
          12.553355693817139,
          15.518553256988525,
          19.911644458770752,
          13.52244257926941,
          14.347805976867676,
          22.352240085601807,
          13.831088542938232,
          15.233581066131592,
          35.23658275604248,
          14.541537761688232,
          21.646006107330322,
          12.60150671005249,
          16.70875906944275,
          29.027748107910156,
          28.2816743850708,
          23.037822246551514,
          22.075467109680176,
          23.742692470550537,
          13.584839105606079,
          25.596556663513184,
          11.361536979675293,
          15.949206352233887,
          40.78857898712158,
          41.51008605957031,
          13.660314083099365,
          20.569345951080322,
          16.639835834503174,
          14.514918327331543,
          26.1014723777771,
          28.112566471099854,
          20.95280170440674,
          27.474701404571533,
          26.985187530517578,
          31.55283212661743,
          23.79011631011963,
          13.88845443725586,
          14.754815101623535,
          17.973560094833374,
          14.649920463562012,
          13.873575925827026,
          14.894634485244751,
          18.100359439849854,
          14.345147609710693,
          16.70347809791565,
          12.948466539382935,
          12.133876085281372,
          12.440823316574097,
          13.497737646102905,
          14.277678728103638,
          16.08761191368103,
          17.424888610839844,
          13.477919101715088,
          16.549705266952515,
          15.106260776519775,
          14.240525960922241,
          12.823213338851929,
          17.876944541931152,
          20.918519496917725,
          14.218920469284058,
          13.268247842788696,
          13.160654306411743,
          15.232378244400024,
          18.42594861984253,
          14.654887914657593,
          13.730164766311646,
          21.151106357574463,
          18.290071487426758,
          15.442980527877808,
          23.49273443222046,
          31.57644510269165,
          23.510537147521973,
          28.142070770263672,
          30.699636936187744,
          27.621705532073975,
          21.70030117034912,
          20.57514190673828,
          24.72984790802002,
          13.072481155395508,
          16.016194820404053,
          14.942677021026611,
          17.063133716583252,
          19.22961950302124,
          16.877471208572388,
          14.376784563064575,
          19.56542134284973,
          19.680904150009155,
          12.632955312728882,
          17.730367183685303,
          15.056155920028687,
          23.578271865844727,
          17.90064573287964,
          23.265042304992676,
          13.900915384292603,
          21.054461002349854,
          19.78659987449646,
          13.023723363876343,
          13.248698711395264,
          16.038076877593994,
          18.96294355392456,
          14.366059303283691,
          13.271856307983398,
          18.265111446380615,
          12.779202461242676,
          22.265377044677734,
          13.387675285339355,
          20.337932109832764,
          13.178284168243408,
          13.811166286468506,
          12.783976793289185,
          15.260891914367676,
          14.143779277801514,
          21.447784900665283,
          20.581660270690918,
          20.289123058319092,
          18.825048208236694,
          13.00083041191101,
          13.182042837142944,
          19.664690494537354,
          11.913293600082397,
          23.44034194946289,
          19.854371547698975,
          14.701038599014282,
          13.999418020248413,
          28.12904119491577,
          21.133346557617188,
          21.51965618133545,
          19.590394496917725,
          17.883893251419067,
          17.22952127456665,
          14.583032131195068,
          21.15203619003296,
          16.812413930892944,
          17.087520360946655,
          12.443244457244873,
          15.66827654838562,
          11.036959886550903,
          11.101096868515015
         ]
        },
        {
         "marker": {
          "color": "red",
          "size": 6,
          "symbol": "x"
         },
         "mode": "markers",
         "name": "Cluster Centers",
         "type": "scatter3d",
         "x": [
          0.06933880182098327,
          0.07088574352565045
         ],
         "y": [
          3731.194119242824,
          1256.7711266321317
         ],
         "z": [
          21.329291207888694,
          17.71113845684073
         ]
        }
       ],
       "layout": {
        "scene": {
         "xaxis": {
          "title": {
           "text": "rms_noise"
          }
         },
         "yaxis": {
          "title": {
           "text": "speech_level"
          }
         },
         "zaxis": {
          "title": {
           "text": "dynamic_range_db"
          }
         }
        },
        "template": {
         "data": {
          "bar": [
           {
            "error_x": {
             "color": "#2a3f5f"
            },
            "error_y": {
             "color": "#2a3f5f"
            },
            "marker": {
             "line": {
              "color": "#E5ECF6",
              "width": 0.5
             },
             "pattern": {
              "fillmode": "overlay",
              "size": 10,
              "solidity": 0.2
             }
            },
            "type": "bar"
           }
          ],
          "barpolar": [
           {
            "marker": {
             "line": {
              "color": "#E5ECF6",
              "width": 0.5
             },
             "pattern": {
              "fillmode": "overlay",
              "size": 10,
              "solidity": 0.2
             }
            },
            "type": "barpolar"
           }
          ],
          "carpet": [
           {
            "aaxis": {
             "endlinecolor": "#2a3f5f",
             "gridcolor": "white",
             "linecolor": "white",
             "minorgridcolor": "white",
             "startlinecolor": "#2a3f5f"
            },
            "baxis": {
             "endlinecolor": "#2a3f5f",
             "gridcolor": "white",
             "linecolor": "white",
             "minorgridcolor": "white",
             "startlinecolor": "#2a3f5f"
            },
            "type": "carpet"
           }
          ],
          "choropleth": [
           {
            "colorbar": {
             "outlinewidth": 0,
             "ticks": ""
            },
            "type": "choropleth"
           }
          ],
          "contour": [
           {
            "colorbar": {
             "outlinewidth": 0,
             "ticks": ""
            },
            "colorscale": [
             [
              0,
              "#0d0887"
             ],
             [
              0.1111111111111111,
              "#46039f"
             ],
             [
              0.2222222222222222,
              "#7201a8"
             ],
             [
              0.3333333333333333,
              "#9c179e"
             ],
             [
              0.4444444444444444,
              "#bd3786"
             ],
             [
              0.5555555555555556,
              "#d8576b"
             ],
             [
              0.6666666666666666,
              "#ed7953"
             ],
             [
              0.7777777777777778,
              "#fb9f3a"
             ],
             [
              0.8888888888888888,
              "#fdca26"
             ],
             [
              1,
              "#f0f921"
             ]
            ],
            "type": "contour"
           }
          ],
          "contourcarpet": [
           {
            "colorbar": {
             "outlinewidth": 0,
             "ticks": ""
            },
            "type": "contourcarpet"
           }
          ],
          "heatmap": [
           {
            "colorbar": {
             "outlinewidth": 0,
             "ticks": ""
            },
            "colorscale": [
             [
              0,
              "#0d0887"
             ],
             [
              0.1111111111111111,
              "#46039f"
             ],
             [
              0.2222222222222222,
              "#7201a8"
             ],
             [
              0.3333333333333333,
              "#9c179e"
             ],
             [
              0.4444444444444444,
              "#bd3786"
             ],
             [
              0.5555555555555556,
              "#d8576b"
             ],
             [
              0.6666666666666666,
              "#ed7953"
             ],
             [
              0.7777777777777778,
              "#fb9f3a"
             ],
             [
              0.8888888888888888,
              "#fdca26"
             ],
             [
              1,
              "#f0f921"
             ]
            ],
            "type": "heatmap"
           }
          ],
          "heatmapgl": [
           {
            "colorbar": {
             "outlinewidth": 0,
             "ticks": ""
            },
            "colorscale": [
             [
              0,
              "#0d0887"
             ],
             [
              0.1111111111111111,
              "#46039f"
             ],
             [
              0.2222222222222222,
              "#7201a8"
             ],
             [
              0.3333333333333333,
              "#9c179e"
             ],
             [
              0.4444444444444444,
              "#bd3786"
             ],
             [
              0.5555555555555556,
              "#d8576b"
             ],
             [
              0.6666666666666666,
              "#ed7953"
             ],
             [
              0.7777777777777778,
              "#fb9f3a"
             ],
             [
              0.8888888888888888,
              "#fdca26"
             ],
             [
              1,
              "#f0f921"
             ]
            ],
            "type": "heatmapgl"
           }
          ],
          "histogram": [
           {
            "marker": {
             "pattern": {
              "fillmode": "overlay",
              "size": 10,
              "solidity": 0.2
             }
            },
            "type": "histogram"
           }
          ],
          "histogram2d": [
           {
            "colorbar": {
             "outlinewidth": 0,
             "ticks": ""
            },
            "colorscale": [
             [
              0,
              "#0d0887"
             ],
             [
              0.1111111111111111,
              "#46039f"
             ],
             [
              0.2222222222222222,
              "#7201a8"
             ],
             [
              0.3333333333333333,
              "#9c179e"
             ],
             [
              0.4444444444444444,
              "#bd3786"
             ],
             [
              0.5555555555555556,
              "#d8576b"
             ],
             [
              0.6666666666666666,
              "#ed7953"
             ],
             [
              0.7777777777777778,
              "#fb9f3a"
             ],
             [
              0.8888888888888888,
              "#fdca26"
             ],
             [
              1,
              "#f0f921"
             ]
            ],
            "type": "histogram2d"
           }
          ],
          "histogram2dcontour": [
           {
            "colorbar": {
             "outlinewidth": 0,
             "ticks": ""
            },
            "colorscale": [
             [
              0,
              "#0d0887"
             ],
             [
              0.1111111111111111,
              "#46039f"
             ],
             [
              0.2222222222222222,
              "#7201a8"
             ],
             [
              0.3333333333333333,
              "#9c179e"
             ],
             [
              0.4444444444444444,
              "#bd3786"
             ],
             [
              0.5555555555555556,
              "#d8576b"
             ],
             [
              0.6666666666666666,
              "#ed7953"
             ],
             [
              0.7777777777777778,
              "#fb9f3a"
             ],
             [
              0.8888888888888888,
              "#fdca26"
             ],
             [
              1,
              "#f0f921"
             ]
            ],
            "type": "histogram2dcontour"
           }
          ],
          "mesh3d": [
           {
            "colorbar": {
             "outlinewidth": 0,
             "ticks": ""
            },
            "type": "mesh3d"
           }
          ],
          "parcoords": [
           {
            "line": {
             "colorbar": {
              "outlinewidth": 0,
              "ticks": ""
             }
            },
            "type": "parcoords"
           }
          ],
          "pie": [
           {
            "automargin": true,
            "type": "pie"
           }
          ],
          "scatter": [
           {
            "fillpattern": {
             "fillmode": "overlay",
             "size": 10,
             "solidity": 0.2
            },
            "type": "scatter"
           }
          ],
          "scatter3d": [
           {
            "line": {
             "colorbar": {
              "outlinewidth": 0,
              "ticks": ""
             }
            },
            "marker": {
             "colorbar": {
              "outlinewidth": 0,
              "ticks": ""
             }
            },
            "type": "scatter3d"
           }
          ],
          "scattercarpet": [
           {
            "marker": {
             "colorbar": {
              "outlinewidth": 0,
              "ticks": ""
             }
            },
            "type": "scattercarpet"
           }
          ],
          "scattergeo": [
           {
            "marker": {
             "colorbar": {
              "outlinewidth": 0,
              "ticks": ""
             }
            },
            "type": "scattergeo"
           }
          ],
          "scattergl": [
           {
            "marker": {
             "colorbar": {
              "outlinewidth": 0,
              "ticks": ""
             }
            },
            "type": "scattergl"
           }
          ],
          "scattermapbox": [
           {
            "marker": {
             "colorbar": {
              "outlinewidth": 0,
              "ticks": ""
             }
            },
            "type": "scattermapbox"
           }
          ],
          "scatterpolar": [
           {
            "marker": {
             "colorbar": {
              "outlinewidth": 0,
              "ticks": ""
             }
            },
            "type": "scatterpolar"
           }
          ],
          "scatterpolargl": [
           {
            "marker": {
             "colorbar": {
              "outlinewidth": 0,
              "ticks": ""
             }
            },
            "type": "scatterpolargl"
           }
          ],
          "scatterternary": [
           {
            "marker": {
             "colorbar": {
              "outlinewidth": 0,
              "ticks": ""
             }
            },
            "type": "scatterternary"
           }
          ],
          "surface": [
           {
            "colorbar": {
             "outlinewidth": 0,
             "ticks": ""
            },
            "colorscale": [
             [
              0,
              "#0d0887"
             ],
             [
              0.1111111111111111,
              "#46039f"
             ],
             [
              0.2222222222222222,
              "#7201a8"
             ],
             [
              0.3333333333333333,
              "#9c179e"
             ],
             [
              0.4444444444444444,
              "#bd3786"
             ],
             [
              0.5555555555555556,
              "#d8576b"
             ],
             [
              0.6666666666666666,
              "#ed7953"
             ],
             [
              0.7777777777777778,
              "#fb9f3a"
             ],
             [
              0.8888888888888888,
              "#fdca26"
             ],
             [
              1,
              "#f0f921"
             ]
            ],
            "type": "surface"
           }
          ],
          "table": [
           {
            "cells": {
             "fill": {
              "color": "#EBF0F8"
             },
             "line": {
              "color": "white"
             }
            },
            "header": {
             "fill": {
              "color": "#C8D4E3"
             },
             "line": {
              "color": "white"
             }
            },
            "type": "table"
           }
          ]
         },
         "layout": {
          "annotationdefaults": {
           "arrowcolor": "#2a3f5f",
           "arrowhead": 0,
           "arrowwidth": 1
          },
          "autotypenumbers": "strict",
          "coloraxis": {
           "colorbar": {
            "outlinewidth": 0,
            "ticks": ""
           }
          },
          "colorscale": {
           "diverging": [
            [
             0,
             "#8e0152"
            ],
            [
             0.1,
             "#c51b7d"
            ],
            [
             0.2,
             "#de77ae"
            ],
            [
             0.3,
             "#f1b6da"
            ],
            [
             0.4,
             "#fde0ef"
            ],
            [
             0.5,
             "#f7f7f7"
            ],
            [
             0.6,
             "#e6f5d0"
            ],
            [
             0.7,
             "#b8e186"
            ],
            [
             0.8,
             "#7fbc41"
            ],
            [
             0.9,
             "#4d9221"
            ],
            [
             1,
             "#276419"
            ]
           ],
           "sequential": [
            [
             0,
             "#0d0887"
            ],
            [
             0.1111111111111111,
             "#46039f"
            ],
            [
             0.2222222222222222,
             "#7201a8"
            ],
            [
             0.3333333333333333,
             "#9c179e"
            ],
            [
             0.4444444444444444,
             "#bd3786"
            ],
            [
             0.5555555555555556,
             "#d8576b"
            ],
            [
             0.6666666666666666,
             "#ed7953"
            ],
            [
             0.7777777777777778,
             "#fb9f3a"
            ],
            [
             0.8888888888888888,
             "#fdca26"
            ],
            [
             1,
             "#f0f921"
            ]
           ],
           "sequentialminus": [
            [
             0,
             "#0d0887"
            ],
            [
             0.1111111111111111,
             "#46039f"
            ],
            [
             0.2222222222222222,
             "#7201a8"
            ],
            [
             0.3333333333333333,
             "#9c179e"
            ],
            [
             0.4444444444444444,
             "#bd3786"
            ],
            [
             0.5555555555555556,
             "#d8576b"
            ],
            [
             0.6666666666666666,
             "#ed7953"
            ],
            [
             0.7777777777777778,
             "#fb9f3a"
            ],
            [
             0.8888888888888888,
             "#fdca26"
            ],
            [
             1,
             "#f0f921"
            ]
           ]
          },
          "colorway": [
           "#636efa",
           "#EF553B",
           "#00cc96",
           "#ab63fa",
           "#FFA15A",
           "#19d3f3",
           "#FF6692",
           "#B6E880",
           "#FF97FF",
           "#FECB52"
          ],
          "font": {
           "color": "#2a3f5f"
          },
          "geo": {
           "bgcolor": "white",
           "lakecolor": "white",
           "landcolor": "#E5ECF6",
           "showlakes": true,
           "showland": true,
           "subunitcolor": "white"
          },
          "hoverlabel": {
           "align": "left"
          },
          "hovermode": "closest",
          "mapbox": {
           "style": "light"
          },
          "paper_bgcolor": "white",
          "plot_bgcolor": "#E5ECF6",
          "polar": {
           "angularaxis": {
            "gridcolor": "white",
            "linecolor": "white",
            "ticks": ""
           },
           "bgcolor": "#E5ECF6",
           "radialaxis": {
            "gridcolor": "white",
            "linecolor": "white",
            "ticks": ""
           }
          },
          "scene": {
           "xaxis": {
            "backgroundcolor": "#E5ECF6",
            "gridcolor": "white",
            "gridwidth": 2,
            "linecolor": "white",
            "showbackground": true,
            "ticks": "",
            "zerolinecolor": "white"
           },
           "yaxis": {
            "backgroundcolor": "#E5ECF6",
            "gridcolor": "white",
            "gridwidth": 2,
            "linecolor": "white",
            "showbackground": true,
            "ticks": "",
            "zerolinecolor": "white"
           },
           "zaxis": {
            "backgroundcolor": "#E5ECF6",
            "gridcolor": "white",
            "gridwidth": 2,
            "linecolor": "white",
            "showbackground": true,
            "ticks": "",
            "zerolinecolor": "white"
           }
          },
          "shapedefaults": {
           "line": {
            "color": "#2a3f5f"
           }
          },
          "ternary": {
           "aaxis": {
            "gridcolor": "white",
            "linecolor": "white",
            "ticks": ""
           },
           "baxis": {
            "gridcolor": "white",
            "linecolor": "white",
            "ticks": ""
           },
           "bgcolor": "#E5ECF6",
           "caxis": {
            "gridcolor": "white",
            "linecolor": "white",
            "ticks": ""
           }
          },
          "title": {
           "x": 0.05
          },
          "xaxis": {
           "automargin": true,
           "gridcolor": "white",
           "linecolor": "white",
           "ticks": "",
           "title": {
            "standoff": 15
           },
           "zerolinecolor": "white",
           "zerolinewidth": 2
          },
          "yaxis": {
           "automargin": true,
           "gridcolor": "white",
           "linecolor": "white",
           "ticks": "",
           "title": {
            "standoff": 15
           },
           "zerolinecolor": "white",
           "zerolinewidth": 2
          }
         }
        },
        "title": {
         "text": "K-Means Clustering"
        }
       }
      }
     },
     "metadata": {},
     "output_type": "display_data"
    }
   ],
   "source": [
    "fig = go.Figure()\n",
    "\n",
    "fig.add_trace(go.Scatter3d(\n",
    "    x=data_cluster_3['rms_noise'],\n",
    "    y=data_cluster_3['speech_level'],\n",
    "    z=data_cluster_3['dynamic_range_db'],\n",
    "    mode='markers',\n",
    "    marker=dict(\n",
    "        size=8,\n",
    "        color=labels, \n",
    "        colorscale='viridis',\n",
    "        opacity=0.7,\n",
    "        line=dict(color='black', width=1)\n",
    "    )\n",
    "))\n",
    "\n",
    "fig.add_trace(go.Scatter3d(\n",
    "    x=cluster_centers[:, 0],\n",
    "    y=cluster_centers[:, 1],\n",
    "    z=cluster_centers[:, 2],\n",
    "    mode='markers',\n",
    "    marker=dict(\n",
    "        size=6,\n",
    "        color='red',\n",
    "        symbol='x'\n",
    "    ),\n",
    "    name='Cluster Centers'\n",
    "))\n",
    "\n",
    "# Set axis labels\n",
    "fig.update_layout(\n",
    "    scene=dict(\n",
    "        xaxis=dict(title='rms_noise'),\n",
    "        yaxis=dict(title='speech_level'),\n",
    "        zaxis=dict(title='dynamic_range_db')\n",
    "    )\n",
    ")\n",
    "\n",
    "# Set plot title\n",
    "fig.update_layout(title='K-Means Clustering')\n",
    "\n",
    "# Show the plot\n",
    "fig.show()\n"
   ]
  }
 ],
 "metadata": {
  "kernelspec": {
   "display_name": "venv",
   "language": "python",
   "name": "python3"
  },
  "language_info": {
   "codemirror_mode": {
    "name": "ipython",
    "version": 3
   },
   "file_extension": ".py",
   "mimetype": "text/x-python",
   "name": "python",
   "nbconvert_exporter": "python",
   "pygments_lexer": "ipython3",
   "version": "3.10.9"
  }
 },
 "nbformat": 4,
 "nbformat_minor": 2
}
