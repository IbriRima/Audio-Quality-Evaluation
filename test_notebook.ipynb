{
 "cells": [
  {
   "cell_type": "code",
   "execution_count": 1,
   "metadata": {},
   "outputs": [],
   "source": [
    "import librosa\n",
    "import numpy as np\n",
    "import pandas as pd\n",
    "import json\n",
    "import requests\n",
    "import os"
   ]
  },
  {
   "cell_type": "code",
   "execution_count": 2,
   "metadata": {},
   "outputs": [
    {
     "data": {
      "text/html": [
       "<div>\n",
       "<style scoped>\n",
       "    .dataframe tbody tr th:only-of-type {\n",
       "        vertical-align: middle;\n",
       "    }\n",
       "\n",
       "    .dataframe tbody tr th {\n",
       "        vertical-align: top;\n",
       "    }\n",
       "\n",
       "    .dataframe thead th {\n",
       "        text-align: right;\n",
       "    }\n",
       "</style>\n",
       "<table border=\"1\" class=\"dataframe\">\n",
       "  <thead>\n",
       "    <tr style=\"text-align: right;\">\n",
       "      <th></th>\n",
       "      <th>original_url</th>\n",
       "      <th>record</th>\n",
       "    </tr>\n",
       "  </thead>\n",
       "  <tbody>\n",
       "    <tr>\n",
       "      <th>0</th>\n",
       "      <td>https://freesound.org/people/kevp888/sounds/71...</td>\n",
       "      <td>https://cdn.freesound.org/previews/712/712632_...</td>\n",
       "    </tr>\n",
       "    <tr>\n",
       "      <th>1</th>\n",
       "      <td>https://freesound.org/people/Robinhood76/sound...</td>\n",
       "      <td>https://cdn.freesound.org/previews/712/712628_...</td>\n",
       "    </tr>\n",
       "    <tr>\n",
       "      <th>2</th>\n",
       "      <td>https://freesound.org/people/josefpres/sounds/...</td>\n",
       "      <td>https://cdn.freesound.org/previews/712/712630_...</td>\n",
       "    </tr>\n",
       "    <tr>\n",
       "      <th>3</th>\n",
       "      <td>https://freesound.org/people/newlocknew/sounds...</td>\n",
       "      <td>https://cdn.freesound.org/previews/712/712629_...</td>\n",
       "    </tr>\n",
       "    <tr>\n",
       "      <th>4</th>\n",
       "      <td>https://freesound.org/people/josefpres/packs/3...</td>\n",
       "      <td>https://cdn.freesound.org/previews/712/712630_...</td>\n",
       "    </tr>\n",
       "  </tbody>\n",
       "</table>\n",
       "</div>"
      ],
      "text/plain": [
       "                                        original_url  \\\n",
       "0  https://freesound.org/people/kevp888/sounds/71...   \n",
       "1  https://freesound.org/people/Robinhood76/sound...   \n",
       "2  https://freesound.org/people/josefpres/sounds/...   \n",
       "3  https://freesound.org/people/newlocknew/sounds...   \n",
       "4  https://freesound.org/people/josefpres/packs/3...   \n",
       "\n",
       "                                              record  \n",
       "0  https://cdn.freesound.org/previews/712/712632_...  \n",
       "1  https://cdn.freesound.org/previews/712/712628_...  \n",
       "2  https://cdn.freesound.org/previews/712/712630_...  \n",
       "3  https://cdn.freesound.org/previews/712/712629_...  \n",
       "4  https://cdn.freesound.org/previews/712/712630_...  "
      ]
     },
     "execution_count": 2,
     "metadata": {},
     "output_type": "execute_result"
    }
   ],
   "source": [
    "json_file_path = \"./speechcrawling/records.json\"\n",
    "with open(json_file_path, 'r') as file:\n",
    "    data = json.load(file)\n",
    "df = pd.DataFrame(data)\n",
    "df.head()"
   ]
  },
  {
   "cell_type": "code",
   "execution_count": 3,
   "metadata": {},
   "outputs": [],
   "source": [
    "def extract_record_name(url):\n",
    "    url_sections= url.split(\"/\")\n",
    "    record = url_sections[-1]\n",
    "    return record"
   ]
  },
  {
   "cell_type": "code",
   "execution_count": 4,
   "metadata": {},
   "outputs": [],
   "source": [
    "for url in df['record']:\n",
    "    response = requests.get(url)\n",
    "    if response.status_code == 200:\n",
    "        mp3_record=extract_record_name(url)\n",
    "        with open(\"./mp3_records/\"+mp3_record, \"wb\") as file:\n",
    "            file.write(response.content)\n",
    "    else:\n",
    "        print(\"Failed to download the file. Status code:\", response.status_code)"
   ]
  },
  {
   "cell_type": "code",
   "execution_count": null,
   "metadata": {},
   "outputs": [],
   "source": [
    "directory_path = './mp3_records'\n",
    "\n",
    "files_and_directories = os.listdir(directory_path)\n",
    "\n",
    "# Print only the files\n",
    "for item in files_and_directories:\n",
    "    full_path = os.path.join(directory_path, item)\n",
    "    if os.path.isfile(full_path):\n",
    "        print(item)"
   ]
  },
  {
   "cell_type": "code",
   "execution_count": null,
   "metadata": {},
   "outputs": [],
   "source": []
  }
 ],
 "metadata": {
  "kernelspec": {
   "display_name": "venv",
   "language": "python",
   "name": "python3"
  },
  "language_info": {
   "codemirror_mode": {
    "name": "ipython",
    "version": 3
   },
   "file_extension": ".py",
   "mimetype": "text/x-python",
   "name": "python",
   "nbconvert_exporter": "python",
   "pygments_lexer": "ipython3",
   "version": "3.10.9"
  }
 },
 "nbformat": 4,
 "nbformat_minor": 2
}
